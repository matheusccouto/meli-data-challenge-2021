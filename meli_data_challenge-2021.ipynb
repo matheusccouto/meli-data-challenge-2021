{
  "nbformat": 4,
  "nbformat_minor": 0,
  "metadata": {
    "orig_nbformat": 4,
    "colab": {
      "name": "meli-data-challenge-2021.ipynb",
      "provenance": [],
      "collapsed_sections": [],
      "toc_visible": true
    },
    "language_info": {
      "name": "python"
    },
    "kernelspec": {
      "name": "python3",
      "display_name": "Python 3"
    }
  },
  "cells": [
    {
      "cell_type": "markdown",
      "metadata": {
        "id": "3Zm1LK9gUh34"
      },
      "source": [
        "![mercado-libre](https://ml-challenge.mercadolibre.com/static/images/logo-mercado-libre_en.png)\n",
        "\n",
        "# MeLi Data Challenge 2021\n",
        "This notebook is my attempt on the 2021 Mercado Libre Data Challenge\n",
        "\n",
        "## The Challenge\n",
        "Build a model to forecast item inventory days based on Mercado Libre historical data.\n",
        "\n",
        "## The Task\n",
        "The task is to predict how long it will take for the inventory of a certain item to be sold completely. In inventory management theory this concept is known as inventory days.\n",
        "\n",
        "In the evaluation set I will be given the item target stock, and I will have to provide a prediction for the number of days it will take to run out. Possible values range from 1 to 30. Rather than giving a point estimate, you are expected to provide a score for each the possible outcomes.\n",
        "\n",
        "To put it simply, you need to answer the following question:\n",
        "\n",
        "**'What are the odds that the target stock will be sold out in one day?', 'What about in two days?' and so on until day 30.**\n",
        "\n",
        "## Repository\n",
        "This notebook is hosted on the this repository: [github.com/matheusccouto/meli-data-challenge-2021](https://github.com/matheusccouto/meli-data-challenge-2021)\n",
        "\n",
        "Check-out the different branches to see all approaches tested."
      ]
    },
    {
      "cell_type": "markdown",
      "metadata": {
        "id": "DW44BS09Vr4G"
      },
      "source": [
        "## Load Data"
      ]
    },
    {
      "cell_type": "markdown",
      "metadata": {
        "id": "zeHdYwIv9hJ7"
      },
      "source": [
        "### Download data\n",
        "Download challenge data from [ml-challenge.mercadolibre.com/downloads](https://ml-challenge.mercadolibre.com/downloads)."
      ]
    },
    {
      "cell_type": "code",
      "metadata": {
        "colab": {
          "base_uri": "https://localhost:8080/"
        },
        "id": "Xx3E1l007xMm",
        "outputId": "72df114a-dd88-468c-b9ce-c984f00a73cb"
      },
      "source": [
        "import os\n",
        "\n",
        "import requests\n",
        "\n",
        "# Folder where I will place data.\n",
        "DATA_DIR = \"data\"\n",
        "\n",
        "# URL to download data.\n",
        "DATA_URL_LIST = [\n",
        "    r\"https://meli-data-challenge.s3.amazonaws.com/2021/test_data.csv\",\n",
        "    r\"https://meli-data-challenge.s3.amazonaws.com/2021/train_data.parquet\",\n",
        "    r\"https://meli-data-challenge.s3.amazonaws.com/2021/items_static_metadata_full.jl\",\n",
        "    r\"https://meli-data-challenge.s3.amazonaws.com/2021/sample_submission.csv.gz\",\n",
        "]\n",
        "\n",
        "\n",
        "def download(url, path, ignore_if_exists=True):\n",
        "    \"\"\"Download files from the web.\"\"\"\n",
        "    # Check if it should be skipped.\n",
        "    if ignore_if_exists and os.path.exists(path):\n",
        "        return path  # return path to the user.\n",
        "    # Request file.\n",
        "    response = requests.get(url, allow_redirects=True)\n",
        "    # Make sure the target folder exists.\n",
        "    os.makedirs(os.path.dirname(path), exist_ok=True)\n",
        "    # Save file.\n",
        "    with open(path, mode=\"wb\") as file:\n",
        "        file.write(response.content)\n",
        "    return path  # return path to the user.\n",
        "\n",
        "\n",
        "for data_url in DATA_URL_LIST:\n",
        "    # Create path for the file.\n",
        "    data_name = os.path.basename(data_url)\n",
        "    data_path = os.path.join(DATA_DIR, data_name)\n",
        "    # Download file.\n",
        "    print(f\"Downloading {data_url} to {data_path}\")\n",
        "    download(url=data_url, path=data_path, ignore_if_exists=True)\n",
        "    # Make sure download was succesful.\n",
        "    assert os.path.exists(data_path)\n",
        "    # And make sure the file is not damaged (at least 1MB)\n",
        "    assert os.path.getsize(data_path) > 1e6"
      ],
      "execution_count": null,
      "outputs": [
        {
          "output_type": "stream",
          "text": [
            "Downloading https://meli-data-challenge.s3.amazonaws.com/2021/test_data.csv to data/test_data.csv\n",
            "Downloading https://meli-data-challenge.s3.amazonaws.com/2021/train_data.parquet to data/train_data.parquet\n",
            "Downloading https://meli-data-challenge.s3.amazonaws.com/2021/items_static_metadata_full.jl to data/items_static_metadata_full.jl\n",
            "Downloading https://meli-data-challenge.s3.amazonaws.com/2021/sample_submission.csv.gz to data/sample_submission.csv.gz\n"
          ],
          "name": "stdout"
        }
      ]
    },
    {
      "cell_type": "markdown",
      "metadata": {
        "id": "NbmhYAt2EVo6"
      },
      "source": [
        "### Train Set\n",
        "This dataset comprises two months of daily sales data for a subset of Mercadolibre SKUs (stock keeping units) . Each row corresponds to a particular date-SKU combination. Besides SKU and date, for each row, the following fields are available:\n",
        "\n",
        "|Attributes|Description|\n",
        "|---|---|\n",
        "|sold_quantity|Number of units of the corresponding SKU that were sold on that particular date.|\n",
        "|current_price|Point in time correct listing price.|\n",
        "|currency|Currency in which the price is expressed.|\n",
        "|listing_type|Type of listing the SKU had for that particular date. Possible values are classic or premium and they relate to the exposure the items receive and the fee charged to the seller as a sales comission.|\n",
        "|shipping_logistic_type|Type of shipping method the SKU offered, for that particular date. Possible values are fulfillment, cross_docking and drop_off.|\n",
        "|shipping_payment|Whether the shipping for the offered SKU at that particular date was free or paid, from the buyer's perspective.|\n",
        "|minutes_active|Number of minutes the SKU was available for purchase on that particular date.|"
      ]
    },
    {
      "cell_type": "code",
      "metadata": {
        "id": "ag44O9k6VTCG",
        "colab": {
          "base_uri": "https://localhost:8080/",
          "height": 326
        },
        "outputId": "fb5ffad7-79b1-4008-e21d-6bc99e6a5675"
      },
      "source": [
        "import pandas as pd\n",
        "\n",
        "train_set = pd.read_parquet(os.path.join(\"data\", \"train_data.parquet\"))\n",
        "print(f\"shape = {train_set.shape}\")\n",
        "train_set.head()"
      ],
      "execution_count": null,
      "outputs": [
        {
          "output_type": "stream",
          "text": [
            "shape = (37660279, 9)\n"
          ],
          "name": "stdout"
        },
        {
          "output_type": "execute_result",
          "data": {
            "text/html": [
              "<div>\n",
              "<style scoped>\n",
              "    .dataframe tbody tr th:only-of-type {\n",
              "        vertical-align: middle;\n",
              "    }\n",
              "\n",
              "    .dataframe tbody tr th {\n",
              "        vertical-align: top;\n",
              "    }\n",
              "\n",
              "    .dataframe thead th {\n",
              "        text-align: right;\n",
              "    }\n",
              "</style>\n",
              "<table border=\"1\" class=\"dataframe\">\n",
              "  <thead>\n",
              "    <tr style=\"text-align: right;\">\n",
              "      <th></th>\n",
              "      <th>sku</th>\n",
              "      <th>date</th>\n",
              "      <th>sold_quantity</th>\n",
              "      <th>current_price</th>\n",
              "      <th>currency</th>\n",
              "      <th>listing_type</th>\n",
              "      <th>shipping_logistic_type</th>\n",
              "      <th>shipping_payment</th>\n",
              "      <th>minutes_active</th>\n",
              "    </tr>\n",
              "  </thead>\n",
              "  <tbody>\n",
              "    <tr>\n",
              "      <th>0</th>\n",
              "      <td>464801</td>\n",
              "      <td>2021-02-01</td>\n",
              "      <td>0</td>\n",
              "      <td>156.78</td>\n",
              "      <td>REA</td>\n",
              "      <td>classic</td>\n",
              "      <td>fulfillment</td>\n",
              "      <td>free_shipping</td>\n",
              "      <td>1440.0</td>\n",
              "    </tr>\n",
              "    <tr>\n",
              "      <th>1</th>\n",
              "      <td>464801</td>\n",
              "      <td>2021-02-02</td>\n",
              "      <td>0</td>\n",
              "      <td>156.78</td>\n",
              "      <td>REA</td>\n",
              "      <td>classic</td>\n",
              "      <td>fulfillment</td>\n",
              "      <td>free_shipping</td>\n",
              "      <td>1440.0</td>\n",
              "    </tr>\n",
              "    <tr>\n",
              "      <th>2</th>\n",
              "      <td>464801</td>\n",
              "      <td>2021-02-03</td>\n",
              "      <td>0</td>\n",
              "      <td>156.78</td>\n",
              "      <td>REA</td>\n",
              "      <td>classic</td>\n",
              "      <td>fulfillment</td>\n",
              "      <td>free_shipping</td>\n",
              "      <td>1440.0</td>\n",
              "    </tr>\n",
              "    <tr>\n",
              "      <th>3</th>\n",
              "      <td>464801</td>\n",
              "      <td>2021-02-04</td>\n",
              "      <td>0</td>\n",
              "      <td>156.78</td>\n",
              "      <td>REA</td>\n",
              "      <td>classic</td>\n",
              "      <td>fulfillment</td>\n",
              "      <td>free_shipping</td>\n",
              "      <td>1440.0</td>\n",
              "    </tr>\n",
              "    <tr>\n",
              "      <th>4</th>\n",
              "      <td>464801</td>\n",
              "      <td>2021-02-05</td>\n",
              "      <td>1</td>\n",
              "      <td>156.78</td>\n",
              "      <td>REA</td>\n",
              "      <td>classic</td>\n",
              "      <td>fulfillment</td>\n",
              "      <td>free_shipping</td>\n",
              "      <td>1440.0</td>\n",
              "    </tr>\n",
              "  </tbody>\n",
              "</table>\n",
              "</div>"
            ],
            "text/plain": [
              "      sku        date  ...  shipping_payment  minutes_active\n",
              "0  464801  2021-02-01  ...     free_shipping          1440.0\n",
              "1  464801  2021-02-02  ...     free_shipping          1440.0\n",
              "2  464801  2021-02-03  ...     free_shipping          1440.0\n",
              "3  464801  2021-02-04  ...     free_shipping          1440.0\n",
              "4  464801  2021-02-05  ...     free_shipping          1440.0\n",
              "\n",
              "[5 rows x 9 columns]"
            ]
          },
          "metadata": {
            "tags": []
          },
          "execution_count": 2
        }
      ]
    },
    {
      "cell_type": "markdown",
      "metadata": {
        "id": "IumsLsleEZeN"
      },
      "source": [
        "### Test Set\n",
        "For testing, the following file is provided test_data.csv. This file contains only two columns:\n",
        "\n",
        "|Attribute|Description|\n",
        "|---|---|\n",
        "|SKU|indicates the SKU for which you have to make your prediction|\n",
        "|target_stock|inventory level (aka number of units of the corresponding SKU for which you have to provide your estimation of inventory days.|"
      ]
    },
    {
      "cell_type": "code",
      "metadata": {
        "id": "K4luaGVGVECc",
        "colab": {
          "base_uri": "https://localhost:8080/",
          "height": 221
        },
        "outputId": "6c7b62c4-1e0c-41cf-a309-a09d46f3909b"
      },
      "source": [
        "test_set = pd.read_csv(os.path.join(\"data\", \"test_data.csv\"))\n",
        "print(f\"shape = {test_set.shape}\")\n",
        "test_set.head()"
      ],
      "execution_count": null,
      "outputs": [
        {
          "output_type": "stream",
          "text": [
            "shape = (551472, 2)\n"
          ],
          "name": "stdout"
        },
        {
          "output_type": "execute_result",
          "data": {
            "text/html": [
              "<div>\n",
              "<style scoped>\n",
              "    .dataframe tbody tr th:only-of-type {\n",
              "        vertical-align: middle;\n",
              "    }\n",
              "\n",
              "    .dataframe tbody tr th {\n",
              "        vertical-align: top;\n",
              "    }\n",
              "\n",
              "    .dataframe thead th {\n",
              "        text-align: right;\n",
              "    }\n",
              "</style>\n",
              "<table border=\"1\" class=\"dataframe\">\n",
              "  <thead>\n",
              "    <tr style=\"text-align: right;\">\n",
              "      <th></th>\n",
              "      <th>sku</th>\n",
              "      <th>target_stock</th>\n",
              "    </tr>\n",
              "  </thead>\n",
              "  <tbody>\n",
              "    <tr>\n",
              "      <th>0</th>\n",
              "      <td>464801</td>\n",
              "      <td>3</td>\n",
              "    </tr>\n",
              "    <tr>\n",
              "      <th>1</th>\n",
              "      <td>645793</td>\n",
              "      <td>4</td>\n",
              "    </tr>\n",
              "    <tr>\n",
              "      <th>2</th>\n",
              "      <td>99516</td>\n",
              "      <td>8</td>\n",
              "    </tr>\n",
              "    <tr>\n",
              "      <th>3</th>\n",
              "      <td>538100</td>\n",
              "      <td>8</td>\n",
              "    </tr>\n",
              "    <tr>\n",
              "      <th>4</th>\n",
              "      <td>557191</td>\n",
              "      <td>10</td>\n",
              "    </tr>\n",
              "  </tbody>\n",
              "</table>\n",
              "</div>"
            ],
            "text/plain": [
              "      sku  target_stock\n",
              "0  464801             3\n",
              "1  645793             4\n",
              "2   99516             8\n",
              "3  538100             8\n",
              "4  557191            10"
            ]
          },
          "metadata": {
            "tags": []
          },
          "execution_count": 3
        }
      ]
    },
    {
      "cell_type": "markdown",
      "metadata": {
        "id": "2RNNSVXCEbmO"
      },
      "source": [
        "### Items Data\n",
        "In the file items_static_metadata.jl there is some extra data related to the SKUs characteristics. The file contains a list of dictionaries where each of them contains metadata for a specific SKU . The following fields are available:\n",
        "\n",
        "|Attribute|Description|\n",
        "|---|---|\n",
        "|SKU|stock-keeping-unit. This is a unique identifier for each distinct, physical inventory unit.|\n",
        "|item_id|unique identifier of the listing the SKU belongs to. The same listing can be associated with more than one SKUs, for example, if different variations of the same item are offered in the listing.|\n",
        "|item_domain_id|listing's domain id. A domain is a kind of listings clustering within MercadoLibre.|\n",
        "|item_title|the listing's title in the marketplace.|\n",
        "|site_id|the MercadoLibre's site the listing belongs to. The labels MLB, MLA and MLM refer to Brazil, Argentina and Mexico respectively.|\n",
        "|product_id|listing product id. Field might be null for some listings.|\n",
        "|product_id_family|listing product family id. Field might be null for some listings.|"
      ]
    },
    {
      "cell_type": "code",
      "metadata": {
        "colab": {
          "base_uri": "https://localhost:8080/",
          "height": 272
        },
        "id": "8MlQu7A-BKuF",
        "outputId": "a45dad3d-b9eb-4915-dd3c-f010d7623b48"
      },
      "source": [
        "items_data = pd.read_json(os.path.join(\"data\", \"items_static_metadata_full.jl\"), lines=True)\n",
        "print(f\"shape = {items_data.shape}\")\n",
        "items_data.head()"
      ],
      "execution_count": null,
      "outputs": [
        {
          "output_type": "stream",
          "text": [
            "shape = (660916, 7)\n"
          ],
          "name": "stdout"
        },
        {
          "output_type": "execute_result",
          "data": {
            "text/html": [
              "<div>\n",
              "<style scoped>\n",
              "    .dataframe tbody tr th:only-of-type {\n",
              "        vertical-align: middle;\n",
              "    }\n",
              "\n",
              "    .dataframe tbody tr th {\n",
              "        vertical-align: top;\n",
              "    }\n",
              "\n",
              "    .dataframe thead th {\n",
              "        text-align: right;\n",
              "    }\n",
              "</style>\n",
              "<table border=\"1\" class=\"dataframe\">\n",
              "  <thead>\n",
              "    <tr style=\"text-align: right;\">\n",
              "      <th></th>\n",
              "      <th>item_domain_id</th>\n",
              "      <th>item_id</th>\n",
              "      <th>item_title</th>\n",
              "      <th>site_id</th>\n",
              "      <th>sku</th>\n",
              "      <th>product_id</th>\n",
              "      <th>product_family_id</th>\n",
              "    </tr>\n",
              "  </thead>\n",
              "  <tbody>\n",
              "    <tr>\n",
              "      <th>0</th>\n",
              "      <td>MLB-SNEAKERS</td>\n",
              "      <td>492155</td>\n",
              "      <td>Tênis Masculino Olympikus Cyber Barato Promoçao</td>\n",
              "      <td>MLB</td>\n",
              "      <td>0</td>\n",
              "      <td>None</td>\n",
              "      <td>MLB15832732</td>\n",
              "    </tr>\n",
              "    <tr>\n",
              "      <th>1</th>\n",
              "      <td>MLB-SURFBOARD_RACKS</td>\n",
              "      <td>300279</td>\n",
              "      <td>Suporte Rack Prancha Parede C/ Regulagem Horiz...</td>\n",
              "      <td>MLB</td>\n",
              "      <td>1</td>\n",
              "      <td>None</td>\n",
              "      <td>None</td>\n",
              "    </tr>\n",
              "    <tr>\n",
              "      <th>2</th>\n",
              "      <td>MLM-NECKLACES</td>\n",
              "      <td>69847</td>\n",
              "      <td>5 Collares Plateados Dama Gargantilla Choker -...</td>\n",
              "      <td>MLM</td>\n",
              "      <td>2</td>\n",
              "      <td>None</td>\n",
              "      <td>None</td>\n",
              "    </tr>\n",
              "    <tr>\n",
              "      <th>3</th>\n",
              "      <td>MLM-RINGS</td>\n",
              "      <td>298603</td>\n",
              "      <td>Lindo Anillo De Bella Crepusculo Twilight Prom...</td>\n",
              "      <td>MLM</td>\n",
              "      <td>3</td>\n",
              "      <td>None</td>\n",
              "      <td>None</td>\n",
              "    </tr>\n",
              "    <tr>\n",
              "      <th>4</th>\n",
              "      <td>MLB-WEBCAMS</td>\n",
              "      <td>345949</td>\n",
              "      <td>Webcam Com Microfone Hd 720p Knup Youtube Pc V...</td>\n",
              "      <td>MLB</td>\n",
              "      <td>4</td>\n",
              "      <td>None</td>\n",
              "      <td>None</td>\n",
              "    </tr>\n",
              "  </tbody>\n",
              "</table>\n",
              "</div>"
            ],
            "text/plain": [
              "        item_domain_id  item_id  ... product_id product_family_id\n",
              "0         MLB-SNEAKERS   492155  ...       None       MLB15832732\n",
              "1  MLB-SURFBOARD_RACKS   300279  ...       None              None\n",
              "2        MLM-NECKLACES    69847  ...       None              None\n",
              "3            MLM-RINGS   298603  ...       None              None\n",
              "4          MLB-WEBCAMS   345949  ...       None              None\n",
              "\n",
              "[5 rows x 7 columns]"
            ]
          },
          "metadata": {
            "tags": []
          },
          "execution_count": 4
        }
      ]
    },
    {
      "cell_type": "markdown",
      "metadata": {
        "id": "CRVRjH3OEh93"
      },
      "source": [
        "### Sample Submission\n",
        "A sample submission file for you to visualize the expected format of a submission."
      ]
    },
    {
      "cell_type": "code",
      "metadata": {
        "colab": {
          "base_uri": "https://localhost:8080/",
          "height": 241
        },
        "id": "4rd-7SCVeUR8",
        "outputId": "bc7c7788-383a-4f92-e569-cc8217142439"
      },
      "source": [
        "sample_submission = pd.read_csv(os.path.join(\"data\", \"sample_submission.csv.gz\"), header=None)\n",
        "print(f\"shape = {sample_submission.shape}\")\n",
        "sample_submission.columns = range(1, 31, 1)  # Rename to match days of the month.\n",
        "sample_submission.head()"
      ],
      "execution_count": null,
      "outputs": [
        {
          "output_type": "stream",
          "text": [
            "shape = (551472, 30)\n"
          ],
          "name": "stdout"
        },
        {
          "output_type": "execute_result",
          "data": {
            "text/html": [
              "<div>\n",
              "<style scoped>\n",
              "    .dataframe tbody tr th:only-of-type {\n",
              "        vertical-align: middle;\n",
              "    }\n",
              "\n",
              "    .dataframe tbody tr th {\n",
              "        vertical-align: top;\n",
              "    }\n",
              "\n",
              "    .dataframe thead th {\n",
              "        text-align: right;\n",
              "    }\n",
              "</style>\n",
              "<table border=\"1\" class=\"dataframe\">\n",
              "  <thead>\n",
              "    <tr style=\"text-align: right;\">\n",
              "      <th></th>\n",
              "      <th>1</th>\n",
              "      <th>2</th>\n",
              "      <th>3</th>\n",
              "      <th>4</th>\n",
              "      <th>5</th>\n",
              "      <th>6</th>\n",
              "      <th>7</th>\n",
              "      <th>8</th>\n",
              "      <th>9</th>\n",
              "      <th>10</th>\n",
              "      <th>11</th>\n",
              "      <th>12</th>\n",
              "      <th>13</th>\n",
              "      <th>14</th>\n",
              "      <th>15</th>\n",
              "      <th>16</th>\n",
              "      <th>17</th>\n",
              "      <th>18</th>\n",
              "      <th>19</th>\n",
              "      <th>20</th>\n",
              "      <th>21</th>\n",
              "      <th>22</th>\n",
              "      <th>23</th>\n",
              "      <th>24</th>\n",
              "      <th>25</th>\n",
              "      <th>26</th>\n",
              "      <th>27</th>\n",
              "      <th>28</th>\n",
              "      <th>29</th>\n",
              "      <th>30</th>\n",
              "    </tr>\n",
              "  </thead>\n",
              "  <tbody>\n",
              "    <tr>\n",
              "      <th>0</th>\n",
              "      <td>0.052</td>\n",
              "      <td>0.006</td>\n",
              "      <td>0.044</td>\n",
              "      <td>0.001</td>\n",
              "      <td>0.061</td>\n",
              "      <td>0.043</td>\n",
              "      <td>0.061</td>\n",
              "      <td>0.035</td>\n",
              "      <td>0.002</td>\n",
              "      <td>0.057</td>\n",
              "      <td>0.004</td>\n",
              "      <td>0.005</td>\n",
              "      <td>0.013</td>\n",
              "      <td>0.048</td>\n",
              "      <td>0.031</td>\n",
              "      <td>0.039</td>\n",
              "      <td>0.019</td>\n",
              "      <td>0.014</td>\n",
              "      <td>0.031</td>\n",
              "      <td>0.063</td>\n",
              "      <td>0.025</td>\n",
              "      <td>0.032</td>\n",
              "      <td>0.043</td>\n",
              "      <td>0.069</td>\n",
              "      <td>0.011</td>\n",
              "      <td>0.058</td>\n",
              "      <td>0.051</td>\n",
              "      <td>0.010</td>\n",
              "      <td>0.004</td>\n",
              "      <td>0.068</td>\n",
              "    </tr>\n",
              "    <tr>\n",
              "      <th>1</th>\n",
              "      <td>0.026</td>\n",
              "      <td>0.052</td>\n",
              "      <td>0.008</td>\n",
              "      <td>0.036</td>\n",
              "      <td>0.027</td>\n",
              "      <td>0.029</td>\n",
              "      <td>0.057</td>\n",
              "      <td>0.046</td>\n",
              "      <td>0.005</td>\n",
              "      <td>0.009</td>\n",
              "      <td>0.042</td>\n",
              "      <td>0.052</td>\n",
              "      <td>0.039</td>\n",
              "      <td>0.057</td>\n",
              "      <td>0.029</td>\n",
              "      <td>0.051</td>\n",
              "      <td>0.058</td>\n",
              "      <td>0.033</td>\n",
              "      <td>0.015</td>\n",
              "      <td>0.053</td>\n",
              "      <td>0.013</td>\n",
              "      <td>0.024</td>\n",
              "      <td>0.036</td>\n",
              "      <td>0.033</td>\n",
              "      <td>0.021</td>\n",
              "      <td>0.030</td>\n",
              "      <td>0.023</td>\n",
              "      <td>0.020</td>\n",
              "      <td>0.024</td>\n",
              "      <td>0.050</td>\n",
              "    </tr>\n",
              "    <tr>\n",
              "      <th>2</th>\n",
              "      <td>0.067</td>\n",
              "      <td>0.008</td>\n",
              "      <td>0.043</td>\n",
              "      <td>0.020</td>\n",
              "      <td>0.012</td>\n",
              "      <td>0.067</td>\n",
              "      <td>0.010</td>\n",
              "      <td>0.060</td>\n",
              "      <td>0.020</td>\n",
              "      <td>0.061</td>\n",
              "      <td>0.059</td>\n",
              "      <td>0.009</td>\n",
              "      <td>0.025</td>\n",
              "      <td>0.070</td>\n",
              "      <td>0.019</td>\n",
              "      <td>0.004</td>\n",
              "      <td>0.005</td>\n",
              "      <td>0.066</td>\n",
              "      <td>0.017</td>\n",
              "      <td>0.007</td>\n",
              "      <td>0.033</td>\n",
              "      <td>0.014</td>\n",
              "      <td>0.016</td>\n",
              "      <td>0.017</td>\n",
              "      <td>0.040</td>\n",
              "      <td>0.059</td>\n",
              "      <td>0.040</td>\n",
              "      <td>0.014</td>\n",
              "      <td>0.066</td>\n",
              "      <td>0.052</td>\n",
              "    </tr>\n",
              "    <tr>\n",
              "      <th>3</th>\n",
              "      <td>0.017</td>\n",
              "      <td>0.045</td>\n",
              "      <td>0.027</td>\n",
              "      <td>0.045</td>\n",
              "      <td>0.036</td>\n",
              "      <td>0.025</td>\n",
              "      <td>0.068</td>\n",
              "      <td>0.067</td>\n",
              "      <td>0.002</td>\n",
              "      <td>0.015</td>\n",
              "      <td>0.040</td>\n",
              "      <td>0.044</td>\n",
              "      <td>0.002</td>\n",
              "      <td>0.029</td>\n",
              "      <td>0.020</td>\n",
              "      <td>0.001</td>\n",
              "      <td>0.023</td>\n",
              "      <td>0.037</td>\n",
              "      <td>0.031</td>\n",
              "      <td>0.043</td>\n",
              "      <td>0.060</td>\n",
              "      <td>0.053</td>\n",
              "      <td>0.027</td>\n",
              "      <td>0.021</td>\n",
              "      <td>0.050</td>\n",
              "      <td>0.045</td>\n",
              "      <td>0.060</td>\n",
              "      <td>0.063</td>\n",
              "      <td>0.004</td>\n",
              "      <td>0.003</td>\n",
              "    </tr>\n",
              "    <tr>\n",
              "      <th>4</th>\n",
              "      <td>0.011</td>\n",
              "      <td>0.038</td>\n",
              "      <td>0.020</td>\n",
              "      <td>0.000</td>\n",
              "      <td>0.067</td>\n",
              "      <td>0.023</td>\n",
              "      <td>0.006</td>\n",
              "      <td>0.021</td>\n",
              "      <td>0.058</td>\n",
              "      <td>0.023</td>\n",
              "      <td>0.006</td>\n",
              "      <td>0.054</td>\n",
              "      <td>0.039</td>\n",
              "      <td>0.013</td>\n",
              "      <td>0.061</td>\n",
              "      <td>0.055</td>\n",
              "      <td>0.040</td>\n",
              "      <td>0.031</td>\n",
              "      <td>0.037</td>\n",
              "      <td>0.034</td>\n",
              "      <td>0.002</td>\n",
              "      <td>0.027</td>\n",
              "      <td>0.062</td>\n",
              "      <td>0.045</td>\n",
              "      <td>0.044</td>\n",
              "      <td>0.032</td>\n",
              "      <td>0.048</td>\n",
              "      <td>0.035</td>\n",
              "      <td>0.026</td>\n",
              "      <td>0.043</td>\n",
              "    </tr>\n",
              "  </tbody>\n",
              "</table>\n",
              "</div>"
            ],
            "text/plain": [
              "      1      2      3      4      5   ...     26     27     28     29     30\n",
              "0  0.052  0.006  0.044  0.001  0.061  ...  0.058  0.051  0.010  0.004  0.068\n",
              "1  0.026  0.052  0.008  0.036  0.027  ...  0.030  0.023  0.020  0.024  0.050\n",
              "2  0.067  0.008  0.043  0.020  0.012  ...  0.059  0.040  0.014  0.066  0.052\n",
              "3  0.017  0.045  0.027  0.045  0.036  ...  0.045  0.060  0.063  0.004  0.003\n",
              "4  0.011  0.038  0.020  0.000  0.067  ...  0.032  0.048  0.035  0.026  0.043\n",
              "\n",
              "[5 rows x 30 columns]"
            ]
          },
          "metadata": {
            "tags": []
          },
          "execution_count": 5
        }
      ]
    },
    {
      "cell_type": "markdown",
      "metadata": {
        "id": "LGGxinLFmzhL"
      },
      "source": [
        "## Data Wrangling\n",
        "In this section I will make sure the data is ready to be analyzed."
      ]
    },
    {
      "cell_type": "markdown",
      "metadata": {
        "id": "7x6o195gz2B2"
      },
      "source": [
        "### Train Set"
      ]
    },
    {
      "cell_type": "markdown",
      "metadata": {
        "id": "AH1Neserz_WO"
      },
      "source": [
        "#### Dtypes\n",
        "Make sure data is the appropiated format."
      ]
    },
    {
      "cell_type": "code",
      "metadata": {
        "id": "IVrkzzXrs0Ey",
        "colab": {
          "base_uri": "https://localhost:8080/"
        },
        "outputId": "f779a4d7-dc7c-42c5-8c7f-be527a1f4770"
      },
      "source": [
        "train_set.info()"
      ],
      "execution_count": null,
      "outputs": [
        {
          "output_type": "stream",
          "text": [
            "<class 'pandas.core.frame.DataFrame'>\n",
            "RangeIndex: 37660279 entries, 0 to 37660278\n",
            "Data columns (total 9 columns):\n",
            " #   Column                  Dtype  \n",
            "---  ------                  -----  \n",
            " 0   sku                     int64  \n",
            " 1   date                    object \n",
            " 2   sold_quantity           int64  \n",
            " 3   current_price           float64\n",
            " 4   currency                object \n",
            " 5   listing_type            object \n",
            " 6   shipping_logistic_type  object \n",
            " 7   shipping_payment        object \n",
            " 8   minutes_active          float64\n",
            "dtypes: float64(2), int64(2), object(5)\n",
            "memory usage: 2.5+ GB\n"
          ],
          "name": "stdout"
        }
      ]
    },
    {
      "cell_type": "markdown",
      "metadata": {
        "id": "grZRKzPC0KS5"
      },
      "source": [
        "Date is stored as object and should be interpreted as date."
      ]
    },
    {
      "cell_type": "code",
      "metadata": {
        "colab": {
          "base_uri": "https://localhost:8080/"
        },
        "id": "HAWP1jwW0bbe",
        "outputId": "579a7614-8a8e-4faa-b761-306e58afdfb8"
      },
      "source": [
        "train_set[\"date\"] = pd.to_datetime(train_set[\"date\"])\n",
        "print(f\"Dates go from {train_set['date'].min().strftime('%Y-%m-%d')} to {train_set['date'].max().strftime('%Y-%m-%d')}\")"
      ],
      "execution_count": null,
      "outputs": [
        {
          "output_type": "stream",
          "text": [
            "Dates go from 2021-02-01 to 2021-03-31\n"
          ],
          "name": "stdout"
        }
      ]
    },
    {
      "cell_type": "markdown",
      "metadata": {
        "id": "onO6Qqn-24YU"
      },
      "source": [
        "I'll also see the possible values from all other object columns to see if there's something to be done."
      ]
    },
    {
      "cell_type": "code",
      "metadata": {
        "colab": {
          "base_uri": "https://localhost:8080/"
        },
        "id": "kG06QmG72fLG",
        "outputId": "6d9fe003-e869-4551-b620-249f3ff759f1"
      },
      "source": [
        "for col in train_set.select_dtypes(\"object\").columns:\n",
        "    print(f\"{col} classes are: {', '.join(train_set[col].unique().tolist())}\")"
      ],
      "execution_count": null,
      "outputs": [
        {
          "output_type": "stream",
          "text": [
            "currency classes are: REA, MEX, DOL, ARG\n",
            "listing_type classes are: classic, premium\n",
            "shipping_logistic_type classes are: fulfillment, cross_docking, drop_off\n",
            "shipping_payment classes are: free_shipping, paid_shipping\n"
          ],
          "name": "stdout"
        }
      ]
    },
    {
      "cell_type": "markdown",
      "metadata": {
        "id": "rd0PZJYw4FK4"
      },
      "source": [
        "#### Encoding\n",
        "Object columns need to be encoded in order to be used in modelling. For the columns with only two classes I'll transform them into a single columns. The others with 3+ classes will receive a column for each column.\n",
        "\n",
        "I won't drop one of them by now. Keeping all dummies may be bad for some algorithms, but for other dropping one of them is worse. I will keep all columns by now and decide what to do with these columns during modelling."
      ]
    },
    {
      "cell_type": "code",
      "metadata": {
        "colab": {
          "base_uri": "https://localhost:8080/",
          "height": 309
        },
        "id": "KJaaw5rd38l7",
        "outputId": "472d4cce-9311-4356-d48c-d0ff00ef2519"
      },
      "source": [
        "train_set = pd.get_dummies(train_set, columns=[\"listing_type\", \"shipping_payment\"], drop_first=True)\n",
        "train_set = pd.get_dummies(train_set, columns=[\"currency\", \"shipping_logistic_type\"], drop_first=False)\n",
        "train_set.head()"
      ],
      "execution_count": null,
      "outputs": [
        {
          "output_type": "execute_result",
          "data": {
            "text/html": [
              "<div>\n",
              "<style scoped>\n",
              "    .dataframe tbody tr th:only-of-type {\n",
              "        vertical-align: middle;\n",
              "    }\n",
              "\n",
              "    .dataframe tbody tr th {\n",
              "        vertical-align: top;\n",
              "    }\n",
              "\n",
              "    .dataframe thead th {\n",
              "        text-align: right;\n",
              "    }\n",
              "</style>\n",
              "<table border=\"1\" class=\"dataframe\">\n",
              "  <thead>\n",
              "    <tr style=\"text-align: right;\">\n",
              "      <th></th>\n",
              "      <th>sku</th>\n",
              "      <th>date</th>\n",
              "      <th>sold_quantity</th>\n",
              "      <th>current_price</th>\n",
              "      <th>minutes_active</th>\n",
              "      <th>listing_type_premium</th>\n",
              "      <th>shipping_payment_paid_shipping</th>\n",
              "      <th>currency_ARG</th>\n",
              "      <th>currency_DOL</th>\n",
              "      <th>currency_MEX</th>\n",
              "      <th>currency_REA</th>\n",
              "      <th>shipping_logistic_type_cross_docking</th>\n",
              "      <th>shipping_logistic_type_drop_off</th>\n",
              "      <th>shipping_logistic_type_fulfillment</th>\n",
              "    </tr>\n",
              "  </thead>\n",
              "  <tbody>\n",
              "    <tr>\n",
              "      <th>0</th>\n",
              "      <td>464801</td>\n",
              "      <td>2021-02-01</td>\n",
              "      <td>0</td>\n",
              "      <td>156.78</td>\n",
              "      <td>1440.0</td>\n",
              "      <td>0</td>\n",
              "      <td>0</td>\n",
              "      <td>0</td>\n",
              "      <td>0</td>\n",
              "      <td>0</td>\n",
              "      <td>1</td>\n",
              "      <td>0</td>\n",
              "      <td>0</td>\n",
              "      <td>1</td>\n",
              "    </tr>\n",
              "    <tr>\n",
              "      <th>1</th>\n",
              "      <td>464801</td>\n",
              "      <td>2021-02-02</td>\n",
              "      <td>0</td>\n",
              "      <td>156.78</td>\n",
              "      <td>1440.0</td>\n",
              "      <td>0</td>\n",
              "      <td>0</td>\n",
              "      <td>0</td>\n",
              "      <td>0</td>\n",
              "      <td>0</td>\n",
              "      <td>1</td>\n",
              "      <td>0</td>\n",
              "      <td>0</td>\n",
              "      <td>1</td>\n",
              "    </tr>\n",
              "    <tr>\n",
              "      <th>2</th>\n",
              "      <td>464801</td>\n",
              "      <td>2021-02-03</td>\n",
              "      <td>0</td>\n",
              "      <td>156.78</td>\n",
              "      <td>1440.0</td>\n",
              "      <td>0</td>\n",
              "      <td>0</td>\n",
              "      <td>0</td>\n",
              "      <td>0</td>\n",
              "      <td>0</td>\n",
              "      <td>1</td>\n",
              "      <td>0</td>\n",
              "      <td>0</td>\n",
              "      <td>1</td>\n",
              "    </tr>\n",
              "    <tr>\n",
              "      <th>3</th>\n",
              "      <td>464801</td>\n",
              "      <td>2021-02-04</td>\n",
              "      <td>0</td>\n",
              "      <td>156.78</td>\n",
              "      <td>1440.0</td>\n",
              "      <td>0</td>\n",
              "      <td>0</td>\n",
              "      <td>0</td>\n",
              "      <td>0</td>\n",
              "      <td>0</td>\n",
              "      <td>1</td>\n",
              "      <td>0</td>\n",
              "      <td>0</td>\n",
              "      <td>1</td>\n",
              "    </tr>\n",
              "    <tr>\n",
              "      <th>4</th>\n",
              "      <td>464801</td>\n",
              "      <td>2021-02-05</td>\n",
              "      <td>1</td>\n",
              "      <td>156.78</td>\n",
              "      <td>1440.0</td>\n",
              "      <td>0</td>\n",
              "      <td>0</td>\n",
              "      <td>0</td>\n",
              "      <td>0</td>\n",
              "      <td>0</td>\n",
              "      <td>1</td>\n",
              "      <td>0</td>\n",
              "      <td>0</td>\n",
              "      <td>1</td>\n",
              "    </tr>\n",
              "  </tbody>\n",
              "</table>\n",
              "</div>"
            ],
            "text/plain": [
              "      sku  ... shipping_logistic_type_fulfillment\n",
              "0  464801  ...                                  1\n",
              "1  464801  ...                                  1\n",
              "2  464801  ...                                  1\n",
              "3  464801  ...                                  1\n",
              "4  464801  ...                                  1\n",
              "\n",
              "[5 rows x 14 columns]"
            ]
          },
          "metadata": {
            "tags": []
          },
          "execution_count": 9
        }
      ]
    },
    {
      "cell_type": "markdown",
      "metadata": {
        "id": "xFwr2RM86M1S"
      },
      "source": [
        "#### NaN\n",
        "Check for NaNs in the dataset."
      ]
    },
    {
      "cell_type": "code",
      "metadata": {
        "colab": {
          "base_uri": "https://localhost:8080/"
        },
        "id": "4Kpu22M76L-E",
        "outputId": "61b2dcc8-8612-444e-e422-dd53251f9de8"
      },
      "source": [
        "print(f\"There are {train_set.isna().sum().sum()} NaNs in the dataset.\")"
      ],
      "execution_count": null,
      "outputs": [
        {
          "output_type": "stream",
          "text": [
            "There are 0 NaNs in the dataset.\n"
          ],
          "name": "stdout"
        }
      ]
    },
    {
      "cell_type": "markdown",
      "metadata": {
        "id": "3ZGbeOZn6lYS"
      },
      "source": [
        "### Test Set"
      ]
    },
    {
      "cell_type": "markdown",
      "metadata": {
        "id": "QVEMj8kf6sl5"
      },
      "source": [
        "#### Dtypes\n",
        "Make sure data is the appropiated format."
      ]
    },
    {
      "cell_type": "code",
      "metadata": {
        "colab": {
          "base_uri": "https://localhost:8080/"
        },
        "id": "EcS23kla6thP",
        "outputId": "3a9e9f1c-5abf-4ba7-e2f7-05c690e118e7"
      },
      "source": [
        "test_set.info()"
      ],
      "execution_count": null,
      "outputs": [
        {
          "output_type": "stream",
          "text": [
            "<class 'pandas.core.frame.DataFrame'>\n",
            "RangeIndex: 551472 entries, 0 to 551471\n",
            "Data columns (total 2 columns):\n",
            " #   Column        Non-Null Count   Dtype\n",
            "---  ------        --------------   -----\n",
            " 0   sku           551472 non-null  int64\n",
            " 1   target_stock  551472 non-null  int64\n",
            "dtypes: int64(2)\n",
            "memory usage: 8.4 MB\n"
          ],
          "name": "stdout"
        }
      ]
    },
    {
      "cell_type": "markdown",
      "metadata": {
        "id": "a6Ogt9Hj62Fj"
      },
      "source": [
        "It also confirmed that there is no NaNs."
      ]
    },
    {
      "cell_type": "markdown",
      "metadata": {
        "id": "ckUE5Dmnop8E"
      },
      "source": [
        "#### Sparse Matrix\n",
        "If you notice the submission is a dense matrix with the probabilities of the item running out on that given day.\n",
        "\n",
        "The be comparable, the test set should be a sparse binary matrix with the day the item actually ran out.\n",
        "\n",
        "As the train set is way too big I will extract only the relevant columns and keep only day where at leat one item was sold."
      ]
    },
    {
      "cell_type": "code",
      "metadata": {
        "colab": {
          "base_uri": "https://localhost:8080/",
          "height": 235
        },
        "id": "3qcmEjDerzO4",
        "outputId": "f37ef5ef-9ccd-4265-f2f3-7cc53d784c46"
      },
      "source": [
        "# TODO: Continue from here. Cum sum is not working and I do not know why.\n",
        "\n",
        "train_set_small = train_set[[\"sku\", \"date\", \"sold_quantity\"]]\n",
        "train_set_small = train_set_small[train_set_small[\"sold_quantity\"] > 0]\n",
        "train_set_small = train_set_small.sort_values([\"sku\", \"date\"])\n",
        "cum_qty_by_date = train_set_small.groupby([\"sku\", \"date\"]).sum()\n",
        "\n",
        "del train_set_small\n",
        "\n",
        "cum_qty_by_date.head()"
      ],
      "execution_count": null,
      "outputs": [
        {
          "output_type": "execute_result",
          "data": {
            "text/html": [
              "<div>\n",
              "<style scoped>\n",
              "    .dataframe tbody tr th:only-of-type {\n",
              "        vertical-align: middle;\n",
              "    }\n",
              "\n",
              "    .dataframe tbody tr th {\n",
              "        vertical-align: top;\n",
              "    }\n",
              "\n",
              "    .dataframe thead th {\n",
              "        text-align: right;\n",
              "    }\n",
              "</style>\n",
              "<table border=\"1\" class=\"dataframe\">\n",
              "  <thead>\n",
              "    <tr style=\"text-align: right;\">\n",
              "      <th></th>\n",
              "      <th></th>\n",
              "      <th>sold_quantity</th>\n",
              "    </tr>\n",
              "    <tr>\n",
              "      <th>sku</th>\n",
              "      <th>date</th>\n",
              "      <th></th>\n",
              "    </tr>\n",
              "  </thead>\n",
              "  <tbody>\n",
              "    <tr>\n",
              "      <th rowspan=\"5\" valign=\"top\">0</th>\n",
              "      <th>2021-03-17</th>\n",
              "      <td>1</td>\n",
              "    </tr>\n",
              "    <tr>\n",
              "      <th>2021-03-22</th>\n",
              "      <td>2</td>\n",
              "    </tr>\n",
              "    <tr>\n",
              "      <th>2021-03-23</th>\n",
              "      <td>1</td>\n",
              "    </tr>\n",
              "    <tr>\n",
              "      <th>2021-03-24</th>\n",
              "      <td>4</td>\n",
              "    </tr>\n",
              "    <tr>\n",
              "      <th>2021-03-25</th>\n",
              "      <td>2</td>\n",
              "    </tr>\n",
              "  </tbody>\n",
              "</table>\n",
              "</div>"
            ],
            "text/plain": [
              "                sold_quantity\n",
              "sku date                     \n",
              "0   2021-03-17              1\n",
              "    2021-03-22              2\n",
              "    2021-03-23              1\n",
              "    2021-03-24              4\n",
              "    2021-03-25              2"
            ]
          },
          "metadata": {
            "tags": []
          },
          "execution_count": 31
        }
      ]
    },
    {
      "cell_type": "markdown",
      "metadata": {
        "id": "Jes-eRtH7lAp"
      },
      "source": [
        "### Items Data"
      ]
    },
    {
      "cell_type": "markdown",
      "metadata": {
        "id": "-y9qp8lM7rEs"
      },
      "source": [
        "#### Dtypes\n",
        "Make sure data is the appropiated format."
      ]
    },
    {
      "cell_type": "code",
      "metadata": {
        "colab": {
          "base_uri": "https://localhost:8080/"
        },
        "id": "Lcdh6J-P7tyE",
        "outputId": "db15beb2-00b4-436d-c8ee-f99c6a1deb98"
      },
      "source": [
        "items_data.info()"
      ],
      "execution_count": null,
      "outputs": [
        {
          "output_type": "stream",
          "text": [
            "<class 'pandas.core.frame.DataFrame'>\n",
            "RangeIndex: 660916 entries, 0 to 660915\n",
            "Data columns (total 7 columns):\n",
            " #   Column             Non-Null Count   Dtype \n",
            "---  ------             --------------   ----- \n",
            " 0   item_domain_id     660913 non-null  object\n",
            " 1   item_id            660916 non-null  int64 \n",
            " 2   item_title         660916 non-null  object\n",
            " 3   site_id            660916 non-null  object\n",
            " 4   sku                660916 non-null  int64 \n",
            " 5   product_id         29668 non-null   object\n",
            " 6   product_family_id  83184 non-null   object\n",
            "dtypes: int64(2), object(5)\n",
            "memory usage: 35.3+ MB\n"
          ],
          "name": "stdout"
        }
      ]
    },
    {
      "cell_type": "markdown",
      "metadata": {
        "id": "unopSOlD84Km"
      },
      "source": [
        "The first thing I notice here is that the `sku` should be this dataset index."
      ]
    },
    {
      "cell_type": "code",
      "metadata": {
        "colab": {
          "base_uri": "https://localhost:8080/",
          "height": 269
        },
        "id": "EsntEL-D9baV",
        "outputId": "07705dcf-4f57-47d4-8c1d-c0553454e2a6"
      },
      "source": [
        "items_data = items_data.set_index(\"sku\")\n",
        "items_data.head()"
      ],
      "execution_count": null,
      "outputs": [
        {
          "output_type": "execute_result",
          "data": {
            "text/html": [
              "<div>\n",
              "<style scoped>\n",
              "    .dataframe tbody tr th:only-of-type {\n",
              "        vertical-align: middle;\n",
              "    }\n",
              "\n",
              "    .dataframe tbody tr th {\n",
              "        vertical-align: top;\n",
              "    }\n",
              "\n",
              "    .dataframe thead th {\n",
              "        text-align: right;\n",
              "    }\n",
              "</style>\n",
              "<table border=\"1\" class=\"dataframe\">\n",
              "  <thead>\n",
              "    <tr style=\"text-align: right;\">\n",
              "      <th></th>\n",
              "      <th>item_domain_id</th>\n",
              "      <th>item_id</th>\n",
              "      <th>item_title</th>\n",
              "      <th>site_id</th>\n",
              "      <th>product_id</th>\n",
              "      <th>product_family_id</th>\n",
              "    </tr>\n",
              "    <tr>\n",
              "      <th>sku</th>\n",
              "      <th></th>\n",
              "      <th></th>\n",
              "      <th></th>\n",
              "      <th></th>\n",
              "      <th></th>\n",
              "      <th></th>\n",
              "    </tr>\n",
              "  </thead>\n",
              "  <tbody>\n",
              "    <tr>\n",
              "      <th>0</th>\n",
              "      <td>MLB-SNEAKERS</td>\n",
              "      <td>492155</td>\n",
              "      <td>Tênis Masculino Olympikus Cyber Barato Promoçao</td>\n",
              "      <td>MLB</td>\n",
              "      <td>None</td>\n",
              "      <td>MLB15832732</td>\n",
              "    </tr>\n",
              "    <tr>\n",
              "      <th>1</th>\n",
              "      <td>MLB-SURFBOARD_RACKS</td>\n",
              "      <td>300279</td>\n",
              "      <td>Suporte Rack Prancha Parede C/ Regulagem Horiz...</td>\n",
              "      <td>MLB</td>\n",
              "      <td>None</td>\n",
              "      <td>None</td>\n",
              "    </tr>\n",
              "    <tr>\n",
              "      <th>2</th>\n",
              "      <td>MLM-NECKLACES</td>\n",
              "      <td>69847</td>\n",
              "      <td>5 Collares Plateados Dama Gargantilla Choker -...</td>\n",
              "      <td>MLM</td>\n",
              "      <td>None</td>\n",
              "      <td>None</td>\n",
              "    </tr>\n",
              "    <tr>\n",
              "      <th>3</th>\n",
              "      <td>MLM-RINGS</td>\n",
              "      <td>298603</td>\n",
              "      <td>Lindo Anillo De Bella Crepusculo Twilight Prom...</td>\n",
              "      <td>MLM</td>\n",
              "      <td>None</td>\n",
              "      <td>None</td>\n",
              "    </tr>\n",
              "    <tr>\n",
              "      <th>4</th>\n",
              "      <td>MLB-WEBCAMS</td>\n",
              "      <td>345949</td>\n",
              "      <td>Webcam Com Microfone Hd 720p Knup Youtube Pc V...</td>\n",
              "      <td>MLB</td>\n",
              "      <td>None</td>\n",
              "      <td>None</td>\n",
              "    </tr>\n",
              "  </tbody>\n",
              "</table>\n",
              "</div>"
            ],
            "text/plain": [
              "          item_domain_id  item_id  ... product_id product_family_id\n",
              "sku                                ...                             \n",
              "0           MLB-SNEAKERS   492155  ...       None       MLB15832732\n",
              "1    MLB-SURFBOARD_RACKS   300279  ...       None              None\n",
              "2          MLM-NECKLACES    69847  ...       None              None\n",
              "3              MLM-RINGS   298603  ...       None              None\n",
              "4            MLB-WEBCAMS   345949  ...       None              None\n",
              "\n",
              "[5 rows x 6 columns]"
            ]
          },
          "metadata": {
            "tags": []
          },
          "execution_count": 14
        }
      ]
    },
    {
      "cell_type": "markdown",
      "metadata": {
        "id": "8Jk4p-Fa-Kj6"
      },
      "source": [
        "#### Encoding\n",
        "Let's check if some of these columns are able to be encoded."
      ]
    },
    {
      "cell_type": "code",
      "metadata": {
        "id": "UVls4GVp-KFr",
        "colab": {
          "base_uri": "https://localhost:8080/"
        },
        "outputId": "0530fd79-171e-4855-ca8c-74884952048c"
      },
      "source": [
        "for col in items_data.select_dtypes(\"object\").columns:\n",
        "    print(f\"{col} has {len(items_data[col].unique())} classes\")"
      ],
      "execution_count": null,
      "outputs": [
        {
          "output_type": "stream",
          "text": [
            "item_domain_id has 8409 classes\n",
            "item_title has 478175 classes\n",
            "site_id has 3 classes\n",
            "product_id has 15864 classes\n",
            "product_family_id has 29601 classes\n"
          ],
          "name": "stdout"
        }
      ]
    },
    {
      "cell_type": "markdown",
      "metadata": {
        "id": "WaRYdY64VSGU"
      },
      "source": [
        "It seems only `site_id` is categorical. The remainded cannot be encoded by now.\n",
        "\n",
        "For the same reason as before. I won't drop one of the encoded categories. I will leave this decision to later on."
      ]
    },
    {
      "cell_type": "code",
      "metadata": {
        "colab": {
          "base_uri": "https://localhost:8080/",
          "height": 439
        },
        "id": "vbU_CB__VYPR",
        "outputId": "af54557b-fb29-49ad-b822-e10e27a0f801"
      },
      "source": [
        "items_data = pd.get_dummies(items_data, columns=[\"site_id\"], drop_first=False)\n",
        "items_data.head()"
      ],
      "execution_count": null,
      "outputs": [
        {
          "output_type": "execute_result",
          "data": {
            "text/html": [
              "<div>\n",
              "<style scoped>\n",
              "    .dataframe tbody tr th:only-of-type {\n",
              "        vertical-align: middle;\n",
              "    }\n",
              "\n",
              "    .dataframe tbody tr th {\n",
              "        vertical-align: top;\n",
              "    }\n",
              "\n",
              "    .dataframe thead th {\n",
              "        text-align: right;\n",
              "    }\n",
              "</style>\n",
              "<table border=\"1\" class=\"dataframe\">\n",
              "  <thead>\n",
              "    <tr style=\"text-align: right;\">\n",
              "      <th></th>\n",
              "      <th>item_domain_id</th>\n",
              "      <th>item_id</th>\n",
              "      <th>item_title</th>\n",
              "      <th>product_id</th>\n",
              "      <th>product_family_id</th>\n",
              "      <th>site_id_MLA</th>\n",
              "      <th>site_id_MLB</th>\n",
              "      <th>site_id_MLM</th>\n",
              "    </tr>\n",
              "    <tr>\n",
              "      <th>sku</th>\n",
              "      <th></th>\n",
              "      <th></th>\n",
              "      <th></th>\n",
              "      <th></th>\n",
              "      <th></th>\n",
              "      <th></th>\n",
              "      <th></th>\n",
              "      <th></th>\n",
              "    </tr>\n",
              "  </thead>\n",
              "  <tbody>\n",
              "    <tr>\n",
              "      <th>0</th>\n",
              "      <td>MLB-SNEAKERS</td>\n",
              "      <td>492155</td>\n",
              "      <td>Tênis Masculino Olympikus Cyber Barato Promoçao</td>\n",
              "      <td>None</td>\n",
              "      <td>MLB15832732</td>\n",
              "      <td>0</td>\n",
              "      <td>1</td>\n",
              "      <td>0</td>\n",
              "    </tr>\n",
              "    <tr>\n",
              "      <th>1</th>\n",
              "      <td>MLB-SURFBOARD_RACKS</td>\n",
              "      <td>300279</td>\n",
              "      <td>Suporte Rack Prancha Parede C/ Regulagem Horiz...</td>\n",
              "      <td>None</td>\n",
              "      <td>None</td>\n",
              "      <td>0</td>\n",
              "      <td>1</td>\n",
              "      <td>0</td>\n",
              "    </tr>\n",
              "    <tr>\n",
              "      <th>2</th>\n",
              "      <td>MLM-NECKLACES</td>\n",
              "      <td>69847</td>\n",
              "      <td>5 Collares Plateados Dama Gargantilla Choker -...</td>\n",
              "      <td>None</td>\n",
              "      <td>None</td>\n",
              "      <td>0</td>\n",
              "      <td>0</td>\n",
              "      <td>1</td>\n",
              "    </tr>\n",
              "    <tr>\n",
              "      <th>3</th>\n",
              "      <td>MLM-RINGS</td>\n",
              "      <td>298603</td>\n",
              "      <td>Lindo Anillo De Bella Crepusculo Twilight Prom...</td>\n",
              "      <td>None</td>\n",
              "      <td>None</td>\n",
              "      <td>0</td>\n",
              "      <td>0</td>\n",
              "      <td>1</td>\n",
              "    </tr>\n",
              "    <tr>\n",
              "      <th>4</th>\n",
              "      <td>MLB-WEBCAMS</td>\n",
              "      <td>345949</td>\n",
              "      <td>Webcam Com Microfone Hd 720p Knup Youtube Pc V...</td>\n",
              "      <td>None</td>\n",
              "      <td>None</td>\n",
              "      <td>0</td>\n",
              "      <td>1</td>\n",
              "      <td>0</td>\n",
              "    </tr>\n",
              "  </tbody>\n",
              "</table>\n",
              "</div>"
            ],
            "text/plain": [
              "          item_domain_id  item_id  ... site_id_MLB site_id_MLM\n",
              "sku                                ...                        \n",
              "0           MLB-SNEAKERS   492155  ...           1           0\n",
              "1    MLB-SURFBOARD_RACKS   300279  ...           1           0\n",
              "2          MLM-NECKLACES    69847  ...           0           1\n",
              "3              MLM-RINGS   298603  ...           0           1\n",
              "4            MLB-WEBCAMS   345949  ...           1           0\n",
              "\n",
              "[5 rows x 8 columns]"
            ]
          },
          "metadata": {
            "tags": []
          },
          "execution_count": 16
        }
      ]
    },
    {
      "cell_type": "markdown",
      "metadata": {
        "id": "wcHFtkyw-Vbv"
      },
      "source": [
        "#### NaNs\n",
        "The columns `product_id` and `product_family_id` are mostly NaNs. I will deal with them later. \n",
        "\n",
        "The `item_domain_id` is has only a few missing rows. I will deal with them manually."
      ]
    },
    {
      "cell_type": "code",
      "metadata": {
        "colab": {
          "base_uri": "https://localhost:8080/",
          "height": 275
        },
        "id": "D5p1D2UGYxZM",
        "outputId": "d48f7b6a-f878-474d-a2b2-ef547295a998"
      },
      "source": [
        "items_data[items_data['item_domain_id'].isna()]"
      ],
      "execution_count": null,
      "outputs": [
        {
          "output_type": "execute_result",
          "data": {
            "text/html": [
              "<div>\n",
              "<style scoped>\n",
              "    .dataframe tbody tr th:only-of-type {\n",
              "        vertical-align: middle;\n",
              "    }\n",
              "\n",
              "    .dataframe tbody tr th {\n",
              "        vertical-align: top;\n",
              "    }\n",
              "\n",
              "    .dataframe thead th {\n",
              "        text-align: right;\n",
              "    }\n",
              "</style>\n",
              "<table border=\"1\" class=\"dataframe\">\n",
              "  <thead>\n",
              "    <tr style=\"text-align: right;\">\n",
              "      <th></th>\n",
              "      <th>item_domain_id</th>\n",
              "      <th>item_id</th>\n",
              "      <th>item_title</th>\n",
              "      <th>product_id</th>\n",
              "      <th>product_family_id</th>\n",
              "      <th>site_id_MLA</th>\n",
              "      <th>site_id_MLB</th>\n",
              "      <th>site_id_MLM</th>\n",
              "    </tr>\n",
              "    <tr>\n",
              "      <th>sku</th>\n",
              "      <th></th>\n",
              "      <th></th>\n",
              "      <th></th>\n",
              "      <th></th>\n",
              "      <th></th>\n",
              "      <th></th>\n",
              "      <th></th>\n",
              "      <th></th>\n",
              "    </tr>\n",
              "  </thead>\n",
              "  <tbody>\n",
              "    <tr>\n",
              "      <th>454273</th>\n",
              "      <td>None</td>\n",
              "      <td>245417</td>\n",
              "      <td>Fone De Ouvido Multilaser Tws Ph326 Airbud Sem...</td>\n",
              "      <td>None</td>\n",
              "      <td>MLB16117735</td>\n",
              "      <td>0</td>\n",
              "      <td>1</td>\n",
              "      <td>0</td>\n",
              "    </tr>\n",
              "    <tr>\n",
              "      <th>459892</th>\n",
              "      <td>None</td>\n",
              "      <td>283198</td>\n",
              "      <td>Headset Gamer Multilaser P2 Ph123 Preto E Verde</td>\n",
              "      <td>None</td>\n",
              "      <td>MLB16158968</td>\n",
              "      <td>0</td>\n",
              "      <td>1</td>\n",
              "      <td>0</td>\n",
              "    </tr>\n",
              "    <tr>\n",
              "      <th>553503</th>\n",
              "      <td>None</td>\n",
              "      <td>114028</td>\n",
              "      <td>Prancha De Cabelo Taiff Elegance Frizz Cerâmic...</td>\n",
              "      <td>None</td>\n",
              "      <td>MLB17821818</td>\n",
              "      <td>0</td>\n",
              "      <td>1</td>\n",
              "      <td>0</td>\n",
              "    </tr>\n",
              "  </tbody>\n",
              "</table>\n",
              "</div>"
            ],
            "text/plain": [
              "       item_domain_id  item_id  ... site_id_MLB site_id_MLM\n",
              "sku                             ...                        \n",
              "454273           None   245417  ...           1           0\n",
              "459892           None   283198  ...           1           0\n",
              "553503           None   114028  ...           1           0\n",
              "\n",
              "[3 rows x 8 columns]"
            ]
          },
          "metadata": {
            "tags": []
          },
          "execution_count": 17
        }
      ]
    },
    {
      "cell_type": "code",
      "metadata": {
        "colab": {
          "base_uri": "https://localhost:8080/"
        },
        "id": "ur-QnK78bouM",
        "outputId": "129e1447-00d3-47e3-dc29-36cb49527a62"
      },
      "source": [
        "# Iterate over SKU that has missing data on item_domain_id.\n",
        "for sku in items_data[items_data[\"item_domain_id\"].isna()].index:\n",
        "    print(f\"sku = {sku}\")\n",
        "    print(f\"item_title = {items_data.loc[sku]['item_title']}\")\n",
        "\n",
        "    # Filter only lines from same product_family_id.\n",
        "    product_family_id = items_data[items_data[\"product_family_id\"] == items_data.loc[sku][\"product_family_id\"]]\n",
        "\n",
        "    # If the only line is the one that we are trying to fill, send a error message.\n",
        "    if product_family_id[\"item_domain_id\"].isna().all():\n",
        "        print(\"No other products on the same family to compare to.\\n\")\n",
        "    \n",
        "    # But if it has, fill the missing values.\n",
        "    else:\n",
        "        item_domain_id = product_family_id[\"item_domain_id\"].dropna().iloc[0]\n",
        "        print(f\"item_domain_id = {item_domain_id}\\n\")\n",
        "        items_data.loc[sku, \"item_domain_id\"] = item_domain_id"
      ],
      "execution_count": null,
      "outputs": [
        {
          "output_type": "stream",
          "text": [
            "sku = 454273\n",
            "item_title = Fone De Ouvido Multilaser Tws Ph326 Airbud Sem Fio Microfone\n",
            "item_domain_id = MLB-HEADPHONES\n",
            "\n",
            "sku = 459892\n",
            "item_title = Headset Gamer Multilaser P2 Ph123 Preto E Verde\n",
            "No other products on the same family to compare to.\n",
            "\n",
            "sku = 553503\n",
            "item_title = Prancha De Cabelo Taiff Elegance Frizz Cerâmica 230ºc Bivolt\n",
            "item_domain_id = MLB-HAIR_STRAIGHTENERS\n",
            "\n"
          ],
          "name": "stdout"
        }
      ]
    },
    {
      "cell_type": "markdown",
      "metadata": {
        "id": "ONPs56nnnnO8"
      },
      "source": [
        "The *Headset Gamer Multilaser P2 Ph123 Preto E Verde* must be filled manually. I'll fill it with *MLB-HEADPHONES*"
      ]
    },
    {
      "cell_type": "code",
      "metadata": {
        "colab": {
          "base_uri": "https://localhost:8080/"
        },
        "id": "duyhCFkWiCGf",
        "outputId": "a103f5b9-9299-4e7e-853c-2515208158a7"
      },
      "source": [
        "items_data.loc[459892, \"item_domain_id\"] = \"MLB-HEADPHONES\"\n",
        "print(f\"Amount of missing data = {items_data['item_domain_id'].isna().sum()}\")"
      ],
      "execution_count": null,
      "outputs": [
        {
          "output_type": "stream",
          "text": [
            "Amount of missing data = 0\n"
          ],
          "name": "stdout"
        }
      ]
    },
    {
      "cell_type": "markdown",
      "metadata": {
        "id": "zuxYMunDs5Q5"
      },
      "source": [
        "## Data Analysis"
      ]
    },
    {
      "cell_type": "code",
      "metadata": {
        "id": "mmFW1AtYs8Ct"
      },
      "source": [
        ""
      ],
      "execution_count": null,
      "outputs": []
    },
    {
      "cell_type": "markdown",
      "metadata": {
        "id": "H5xhHIHZs0oy"
      },
      "source": [
        "## Feature Engineering"
      ]
    },
    {
      "cell_type": "code",
      "metadata": {
        "id": "W1ubX9jKs4xR"
      },
      "source": [
        ""
      ],
      "execution_count": null,
      "outputs": []
    },
    {
      "cell_type": "markdown",
      "metadata": {
        "id": "U-j3ak1Zs_Uc"
      },
      "source": [
        "## Model Development"
      ]
    },
    {
      "cell_type": "code",
      "metadata": {
        "id": "Op7MDzsEtIqe"
      },
      "source": [
        ""
      ],
      "execution_count": null,
      "outputs": []
    },
    {
      "cell_type": "markdown",
      "metadata": {
        "id": "SDsVdReAuwG7"
      },
      "source": [
        "## Model Evaluation"
      ]
    },
    {
      "cell_type": "markdown",
      "metadata": {
        "id": "LhNYq2BdtJXR"
      },
      "source": [
        "### Metric\n",
        "Submissions will be scored using the **Ranked Probability Score (RPS)** metric.\n",
        "\n",
        "**Ranked Probability Score** is a squared measure that compares the **estimated cumulative density function** of a probabilistic forecast with the **actual cumulative density function** of the corresponding observation. Under a discrete scenario of possible outcomes, the RPS formula is as follows:\n",
        "\n",
        "$$ RPS = \\frac{1}{N}\\sum_{i=1}^{N}\\left[\\sum_{K=1}^{K}(Y_K(i) - O_K(i))^2\\right] $$\n",
        "\n",
        "where:\n",
        "\n",
        "* $N$ is the number of rows in the dataset,\n",
        "* $O$ represents the target,\n",
        "* $K$ is the number of classes, and\n",
        "* $Y$ is the predicted probability.\n",
        "\n",
        "The **RPS** metric can be more easily understood graphically. The figure below illustrates how the value **RPS** takes is simply the square of the area where the predicted cumulative probability function and the ground truth do not overlap each other.\n",
        "\n",
        "![rps-intuition](https://ml-challenge.mercadolibre.com/static/images/2021/metric_fig_5.png)\n",
        "\n",
        "The main advantage of **RPS**, in comparison with other common metrics for forecasting problems, is that it is **sensitive to distance**, which means that a forecast is increasingly penalized the more its predictions differ from the actual outcome. This property is especially attractive for the task at hand from a business perspective: in order to manage inventory efficiently at MercadoLibre’s fulfillment centers, we would like the forecast to be as close as possible to the actual value of inventory days, besides the fact of just hitting the target number of inventory days with the highest point-probability estimate.\n",
        "\n",
        "Disclaimer: you do NOT have to submit CUMULATIVE PROBABILITIES. **You are expected to provide point-probability estimates and the scorer itself will compute the accumulation.**"
      ]
    },
    {
      "cell_type": "code",
      "metadata": {
        "id": "WlMJBOzrtY0W"
      },
      "source": [
        "import numpy as np\n",
        "\n",
        "\n",
        "def rps(y, o):\n",
        "    \"\"\"Ranked Probability Score\"\"\"\n",
        "    if y_pred.shape != y_true.shape:\n",
        "        raise ValueError(f\"y shape is {y.shape}. Expected shape was {o.shape}\")\n",
        "    n = y.shape[0]\n",
        "    k = y.shape[1]\n",
        "\n",
        "    # Y is PDF and must be converted to CDF.\n",
        "    y_cdf = np.cumsum(y)\n",
        "\n",
        "    # TODO: Continue from here\n"
      ],
      "execution_count": null,
      "outputs": []
    }
  ]
}