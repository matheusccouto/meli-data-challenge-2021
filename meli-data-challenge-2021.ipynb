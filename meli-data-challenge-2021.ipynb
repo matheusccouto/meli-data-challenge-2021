{
  "nbformat": 4,
  "nbformat_minor": 0,
  "metadata": {
    "orig_nbformat": 4,
    "colab": {
      "name": "meli-data-challenge-2021.ipynb",
      "provenance": []
    },
    "language_info": {
      "name": "python"
    },
    "kernelspec": {
      "name": "python3",
      "display_name": "Python 3"
    }
  },
  "cells": [
    {
      "cell_type": "markdown",
      "metadata": {
        "id": "3Zm1LK9gUh34"
      },
      "source": [
        "![mercado-libre](https://ml-challenge.mercadolibre.com/static/images/logo-mercado-libre_en.png)\n",
        "\n",
        "# MeLi Data Challenge 2021\n",
        "This notebook is my attempt on the 2021 Mercado Libre Data Challenge\n",
        "\n",
        "## The Challenge\n",
        "Build a model to forecast item inventory days based on Mercado Libre historical data.\n",
        "\n",
        "## Repository\n",
        "This notebook is hosted on the this repository: [github.com/matheusccouto/meli-data-challenge-2021](https://github.com/matheusccouto/meli-data-challenge-2021)\n",
        "\n",
        "Check-out the different branches to see all approaches tested."
      ]
    },
    {
      "cell_type": "markdown",
      "metadata": {
        "id": "DW44BS09Vr4G"
      },
      "source": [
        "## Load Data"
      ]
    },
    {
      "cell_type": "markdown",
      "metadata": {
        "id": "zeHdYwIv9hJ7"
      },
      "source": [
        "### Download data\n",
        "Download challenge data from [ml-challenge.mercadolibre.com/downloads](https://ml-challenge.mercadolibre.com/downloads)."
      ]
    },
    {
      "cell_type": "code",
      "metadata": {
        "id": "Xx3E1l007xMm",
        "outputId": "874a9392-5371-4423-976b-24ce6860a31f",
        "colab": {
          "base_uri": "https://localhost:8080/"
        }
      },
      "source": [
        "import os\n",
        "\n",
        "import requests\n",
        "\n",
        "# Folder where I will place data.\n",
        "DATA_DIR = \"data\"\n",
        "\n",
        "# URL to download data.\n",
        "DATA_URL_LIST = [\n",
        "    r\"https://meli-data-challenge.s3.amazonaws.com/2021/test_data.csv\",\n",
        "    r\"https://meli-data-challenge.s3.amazonaws.com/2021/train_data.parquet\",\n",
        "    r\"https://meli-data-challenge.s3.amazonaws.com/2021/items_static_metadata_full.jl\",\n",
        "    r\"https://meli-data-challenge.s3.amazonaws.com/2021/sample_submission.csv.gz\",\n",
        "]\n",
        "\n",
        "\n",
        "def download(url, path, ignore_if_exists=True):\n",
        "    \"\"\"Download files from the web.\"\"\"\n",
        "    # Check if it should be skipped.\n",
        "    if ignore_if_exists and os.path.exists(path):\n",
        "        return path  # return path to the user.\n",
        "    # Request file.\n",
        "    response = requests.get(url, allow_redirects=True)\n",
        "    # Make sure the target folder exists.\n",
        "    os.makedirs(os.path.dirname(path), exist_ok=True)\n",
        "    # Save file.\n",
        "    with open(path, mode=\"wb\") as file:\n",
        "        file.write(response.content)\n",
        "    return path  # return path to the user.\n",
        "\n",
        "\n",
        "for data_url in DATA_URL_LIST:\n",
        "    # Create path for the file.\n",
        "    data_name = os.path.basename(data_url)\n",
        "    data_path = os.path.join(DATA_DIR, data_name)\n",
        "    # Download file.\n",
        "    print(f\"Downloading {data_url} to {data_path}\")\n",
        "    download(url=data_url, path=data_path, ignore_if_exists=True)\n",
        "    # Make sure download was succesful.\n",
        "    assert os.path.exists(data_path)\n",
        "    # And make sure the file is not damaged (at least 1MB)\n",
        "    assert os.path.getsize(data_path) > 1e6"
      ],
      "execution_count": 1,
      "outputs": [
        {
          "output_type": "stream",
          "text": [
            "Downloading https://meli-data-challenge.s3.amazonaws.com/2021/test_data.csv to data/test_data.csv\n",
            "Downloading https://meli-data-challenge.s3.amazonaws.com/2021/train_data.parquet to data/train_data.parquet\n",
            "Downloading https://meli-data-challenge.s3.amazonaws.com/2021/items_static_metadata_full.jl to data/items_static_metadata_full.jl\n",
            "Downloading https://meli-data-challenge.s3.amazonaws.com/2021/sample_submission.csv.gz to data/sample_submission.csv.gz\n"
          ],
          "name": "stdout"
        }
      ]
    },
    {
      "cell_type": "markdown",
      "metadata": {
        "id": "NbmhYAt2EVo6"
      },
      "source": [
        "### Train Set\n",
        "This dataset comprises two months of daily sales data for a subset of Mercadolibre SKUs (stock keeping units) . Each row corresponds to a particular date-SKU combination. Besides SKU and date, for each row, the following fields are available:\n",
        "\n",
        "|Attributes|Description|\n",
        "|---|---|\n",
        "|sold_quantity|Number of units of the corresponding SKU that were sold on that particular date.|\n",
        "|current_price|Currency in which the price is expressed.|\n",
        "|currency|Point in time correct listing price.|\n",
        "|listing_type|Type of listing the SKU had for that particular date. Possible values are classic or premium and they relate to the exposure the items receive and the fee charged to the seller as a sales comission.|\n",
        "|shipping_logistic_type|Type of shipping method the SKU offered, for that particular date. Possible values are fulfillment, cross_docking and drop_off.|\n",
        "|shipping_payment|Whether the shipping for the offered SKU at that particular date was free or paid, from the buyer's perspective.|\n",
        "|minutes_active|Number of minutes the SKU was available for purchase on that particular date.|"
      ]
    },
    {
      "cell_type": "code",
      "metadata": {
        "id": "ag44O9k6VTCG",
        "colab": {
          "base_uri": "https://localhost:8080/",
          "height": 221
        },
        "outputId": "4f160b6e-3324-4c33-c935-3f48b0120d3b"
      },
      "source": [
        "import pandas as pd\n",
        "\n",
        "train_set = pd.read_parquet(os.path.join(\"data\", \"train_data.parquet\"))\n",
        "print(f\"shape = {train_set.shape}\")\n",
        "train_set.head()"
      ],
      "execution_count": 2,
      "outputs": [
        {
          "output_type": "stream",
          "text": [
            "shape = (37660279, 9)\n"
          ],
          "name": "stdout"
        },
        {
          "output_type": "execute_result",
          "data": {
            "text/html": [
              "<div>\n",
              "<style scoped>\n",
              "    .dataframe tbody tr th:only-of-type {\n",
              "        vertical-align: middle;\n",
              "    }\n",
              "\n",
              "    .dataframe tbody tr th {\n",
              "        vertical-align: top;\n",
              "    }\n",
              "\n",
              "    .dataframe thead th {\n",
              "        text-align: right;\n",
              "    }\n",
              "</style>\n",
              "<table border=\"1\" class=\"dataframe\">\n",
              "  <thead>\n",
              "    <tr style=\"text-align: right;\">\n",
              "      <th></th>\n",
              "      <th>sku</th>\n",
              "      <th>date</th>\n",
              "      <th>sold_quantity</th>\n",
              "      <th>current_price</th>\n",
              "      <th>currency</th>\n",
              "      <th>listing_type</th>\n",
              "      <th>shipping_logistic_type</th>\n",
              "      <th>shipping_payment</th>\n",
              "      <th>minutes_active</th>\n",
              "    </tr>\n",
              "  </thead>\n",
              "  <tbody>\n",
              "    <tr>\n",
              "      <th>0</th>\n",
              "      <td>464801</td>\n",
              "      <td>2021-02-01</td>\n",
              "      <td>0</td>\n",
              "      <td>156.78</td>\n",
              "      <td>REA</td>\n",
              "      <td>classic</td>\n",
              "      <td>fulfillment</td>\n",
              "      <td>free_shipping</td>\n",
              "      <td>1440.0</td>\n",
              "    </tr>\n",
              "    <tr>\n",
              "      <th>1</th>\n",
              "      <td>464801</td>\n",
              "      <td>2021-02-02</td>\n",
              "      <td>0</td>\n",
              "      <td>156.78</td>\n",
              "      <td>REA</td>\n",
              "      <td>classic</td>\n",
              "      <td>fulfillment</td>\n",
              "      <td>free_shipping</td>\n",
              "      <td>1440.0</td>\n",
              "    </tr>\n",
              "    <tr>\n",
              "      <th>2</th>\n",
              "      <td>464801</td>\n",
              "      <td>2021-02-03</td>\n",
              "      <td>0</td>\n",
              "      <td>156.78</td>\n",
              "      <td>REA</td>\n",
              "      <td>classic</td>\n",
              "      <td>fulfillment</td>\n",
              "      <td>free_shipping</td>\n",
              "      <td>1440.0</td>\n",
              "    </tr>\n",
              "    <tr>\n",
              "      <th>3</th>\n",
              "      <td>464801</td>\n",
              "      <td>2021-02-04</td>\n",
              "      <td>0</td>\n",
              "      <td>156.78</td>\n",
              "      <td>REA</td>\n",
              "      <td>classic</td>\n",
              "      <td>fulfillment</td>\n",
              "      <td>free_shipping</td>\n",
              "      <td>1440.0</td>\n",
              "    </tr>\n",
              "    <tr>\n",
              "      <th>4</th>\n",
              "      <td>464801</td>\n",
              "      <td>2021-02-05</td>\n",
              "      <td>1</td>\n",
              "      <td>156.78</td>\n",
              "      <td>REA</td>\n",
              "      <td>classic</td>\n",
              "      <td>fulfillment</td>\n",
              "      <td>free_shipping</td>\n",
              "      <td>1440.0</td>\n",
              "    </tr>\n",
              "  </tbody>\n",
              "</table>\n",
              "</div>"
            ],
            "text/plain": [
              "      sku        date  ...  shipping_payment  minutes_active\n",
              "0  464801  2021-02-01  ...     free_shipping          1440.0\n",
              "1  464801  2021-02-02  ...     free_shipping          1440.0\n",
              "2  464801  2021-02-03  ...     free_shipping          1440.0\n",
              "3  464801  2021-02-04  ...     free_shipping          1440.0\n",
              "4  464801  2021-02-05  ...     free_shipping          1440.0\n",
              "\n",
              "[5 rows x 9 columns]"
            ]
          },
          "metadata": {
            "tags": []
          },
          "execution_count": 2
        }
      ]
    },
    {
      "cell_type": "markdown",
      "metadata": {
        "id": "IumsLsleEZeN"
      },
      "source": [
        "### Test Set\n",
        "For testing, the following file is provided test_data.csv. This file contains only two columns:\n",
        "\n",
        "|Attribute|Description|\n",
        "|---|---|\n",
        "|SKU|indicates the SKU for which you have to make your prediction|\n",
        "|target_stock|inventory level (aka number of units of the corresponding SKU for which you have to provide your estimation of inventory days.|"
      ]
    },
    {
      "cell_type": "code",
      "metadata": {
        "id": "K4luaGVGVECc",
        "colab": {
          "base_uri": "https://localhost:8080/",
          "height": 221
        },
        "outputId": "98119924-4bd1-4b34-bf30-7b7e99700a6d"
      },
      "source": [
        "test_set = pd.read_csv(os.path.join(\"data\", \"test_data.csv\"))\n",
        "print(f\"shape = {test_set.shape}\")\n",
        "test_set.head()"
      ],
      "execution_count": 3,
      "outputs": [
        {
          "output_type": "stream",
          "text": [
            "shape = (551472, 2)\n"
          ],
          "name": "stdout"
        },
        {
          "output_type": "execute_result",
          "data": {
            "text/html": [
              "<div>\n",
              "<style scoped>\n",
              "    .dataframe tbody tr th:only-of-type {\n",
              "        vertical-align: middle;\n",
              "    }\n",
              "\n",
              "    .dataframe tbody tr th {\n",
              "        vertical-align: top;\n",
              "    }\n",
              "\n",
              "    .dataframe thead th {\n",
              "        text-align: right;\n",
              "    }\n",
              "</style>\n",
              "<table border=\"1\" class=\"dataframe\">\n",
              "  <thead>\n",
              "    <tr style=\"text-align: right;\">\n",
              "      <th></th>\n",
              "      <th>sku</th>\n",
              "      <th>target_stock</th>\n",
              "    </tr>\n",
              "  </thead>\n",
              "  <tbody>\n",
              "    <tr>\n",
              "      <th>0</th>\n",
              "      <td>464801</td>\n",
              "      <td>3</td>\n",
              "    </tr>\n",
              "    <tr>\n",
              "      <th>1</th>\n",
              "      <td>645793</td>\n",
              "      <td>4</td>\n",
              "    </tr>\n",
              "    <tr>\n",
              "      <th>2</th>\n",
              "      <td>99516</td>\n",
              "      <td>8</td>\n",
              "    </tr>\n",
              "    <tr>\n",
              "      <th>3</th>\n",
              "      <td>538100</td>\n",
              "      <td>8</td>\n",
              "    </tr>\n",
              "    <tr>\n",
              "      <th>4</th>\n",
              "      <td>557191</td>\n",
              "      <td>10</td>\n",
              "    </tr>\n",
              "  </tbody>\n",
              "</table>\n",
              "</div>"
            ],
            "text/plain": [
              "      sku  target_stock\n",
              "0  464801             3\n",
              "1  645793             4\n",
              "2   99516             8\n",
              "3  538100             8\n",
              "4  557191            10"
            ]
          },
          "metadata": {
            "tags": []
          },
          "execution_count": 3
        }
      ]
    },
    {
      "cell_type": "markdown",
      "metadata": {
        "id": "2RNNSVXCEbmO"
      },
      "source": [
        "### Items Data\n",
        "In the file items_static_metadata.jl there is some extra data related to the SKUs characteristics. The file contains a list of dictionaries where each of them contains metadata for a specific SKU . The following fields are available:\n",
        "\n",
        "|Attribute|Description|\n",
        "|---|---|\n",
        "|SKU|stock-keeping-unit. This is a unique identifier for each distinct, physical inventory unit.|\n",
        "|item_id|unique identifier of the listing the SKU belongs to. The same listing can be associated with more than one SKUs, for example, if different variations of the same item are offered in the listing.|\n",
        "|item_domain_id|listing's domain id. A domain is a kind of listings clustering within MercadoLibre.|\n",
        "|item_title|the listing's title in the marketplace.|\n",
        "|site_id|the MercadoLibre's site the listing belongs to. The labels MLB, MLA and MLM refer to Brazil, Argentina and Mexico respectively.|\n",
        "|product_id|listing product id. Field might be null for some listings.|\n",
        "|product_id_family|listing product family id. Field might be null for some listings.|"
      ]
    },
    {
      "cell_type": "code",
      "metadata": {
        "id": "8MlQu7A-BKuF",
        "outputId": "5da7cf00-5ff7-4751-cea0-cc1a5dbe7dc9",
        "colab": {
          "base_uri": "https://localhost:8080/",
          "height": 221
        }
      },
      "source": [
        "items_data = pd.read_json(os.path.join(\"data\", \"items_static_metadata_full.jl\"), lines=True)\n",
        "print(f\"shape = {items_data.shape}\")\n",
        "items_data.head()"
      ],
      "execution_count": 4,
      "outputs": [
        {
          "output_type": "stream",
          "text": [
            "shape = (660916, 7)\n"
          ],
          "name": "stdout"
        },
        {
          "output_type": "execute_result",
          "data": {
            "text/html": [
              "<div>\n",
              "<style scoped>\n",
              "    .dataframe tbody tr th:only-of-type {\n",
              "        vertical-align: middle;\n",
              "    }\n",
              "\n",
              "    .dataframe tbody tr th {\n",
              "        vertical-align: top;\n",
              "    }\n",
              "\n",
              "    .dataframe thead th {\n",
              "        text-align: right;\n",
              "    }\n",
              "</style>\n",
              "<table border=\"1\" class=\"dataframe\">\n",
              "  <thead>\n",
              "    <tr style=\"text-align: right;\">\n",
              "      <th></th>\n",
              "      <th>item_domain_id</th>\n",
              "      <th>item_id</th>\n",
              "      <th>item_title</th>\n",
              "      <th>site_id</th>\n",
              "      <th>sku</th>\n",
              "      <th>product_id</th>\n",
              "      <th>product_family_id</th>\n",
              "    </tr>\n",
              "  </thead>\n",
              "  <tbody>\n",
              "    <tr>\n",
              "      <th>0</th>\n",
              "      <td>MLB-SNEAKERS</td>\n",
              "      <td>492155</td>\n",
              "      <td>Tênis Masculino Olympikus Cyber Barato Promoçao</td>\n",
              "      <td>MLB</td>\n",
              "      <td>0</td>\n",
              "      <td>None</td>\n",
              "      <td>MLB15832732</td>\n",
              "    </tr>\n",
              "    <tr>\n",
              "      <th>1</th>\n",
              "      <td>MLB-SURFBOARD_RACKS</td>\n",
              "      <td>300279</td>\n",
              "      <td>Suporte Rack Prancha Parede C/ Regulagem Horiz...</td>\n",
              "      <td>MLB</td>\n",
              "      <td>1</td>\n",
              "      <td>None</td>\n",
              "      <td>None</td>\n",
              "    </tr>\n",
              "    <tr>\n",
              "      <th>2</th>\n",
              "      <td>MLM-NECKLACES</td>\n",
              "      <td>69847</td>\n",
              "      <td>5 Collares Plateados Dama Gargantilla Choker -...</td>\n",
              "      <td>MLM</td>\n",
              "      <td>2</td>\n",
              "      <td>None</td>\n",
              "      <td>None</td>\n",
              "    </tr>\n",
              "    <tr>\n",
              "      <th>3</th>\n",
              "      <td>MLM-RINGS</td>\n",
              "      <td>298603</td>\n",
              "      <td>Lindo Anillo De Bella Crepusculo Twilight Prom...</td>\n",
              "      <td>MLM</td>\n",
              "      <td>3</td>\n",
              "      <td>None</td>\n",
              "      <td>None</td>\n",
              "    </tr>\n",
              "    <tr>\n",
              "      <th>4</th>\n",
              "      <td>MLB-WEBCAMS</td>\n",
              "      <td>345949</td>\n",
              "      <td>Webcam Com Microfone Hd 720p Knup Youtube Pc V...</td>\n",
              "      <td>MLB</td>\n",
              "      <td>4</td>\n",
              "      <td>None</td>\n",
              "      <td>None</td>\n",
              "    </tr>\n",
              "  </tbody>\n",
              "</table>\n",
              "</div>"
            ],
            "text/plain": [
              "        item_domain_id  item_id  ... product_id product_family_id\n",
              "0         MLB-SNEAKERS   492155  ...       None       MLB15832732\n",
              "1  MLB-SURFBOARD_RACKS   300279  ...       None              None\n",
              "2        MLM-NECKLACES    69847  ...       None              None\n",
              "3            MLM-RINGS   298603  ...       None              None\n",
              "4          MLB-WEBCAMS   345949  ...       None              None\n",
              "\n",
              "[5 rows x 7 columns]"
            ]
          },
          "metadata": {
            "tags": []
          },
          "execution_count": 4
        }
      ]
    },
    {
      "cell_type": "markdown",
      "metadata": {
        "id": "CRVRjH3OEh93"
      },
      "source": [
        "### Sample Submission\n",
        "A sample submission file for you to visualize the expected format of a submission."
      ]
    },
    {
      "cell_type": "code",
      "metadata": {
        "id": "4rd-7SCVeUR8",
        "outputId": "a29ff3a1-9ee1-483c-c80c-42b253aa28a8",
        "colab": {
          "base_uri": "https://localhost:8080/",
          "height": 241
        }
      },
      "source": [
        "sample_submission = pd.read_csv(os.path.join(\"data\", \"sample_submission.csv.gz\"), header=None)\n",
        "print(f\"shape = {sample_submission.shape}\")\n",
        "sample_submission.head()"
      ],
      "execution_count": 5,
      "outputs": [
        {
          "output_type": "stream",
          "text": [
            "shape = (551472, 30)\n"
          ],
          "name": "stdout"
        },
        {
          "output_type": "execute_result",
          "data": {
            "text/html": [
              "<div>\n",
              "<style scoped>\n",
              "    .dataframe tbody tr th:only-of-type {\n",
              "        vertical-align: middle;\n",
              "    }\n",
              "\n",
              "    .dataframe tbody tr th {\n",
              "        vertical-align: top;\n",
              "    }\n",
              "\n",
              "    .dataframe thead th {\n",
              "        text-align: right;\n",
              "    }\n",
              "</style>\n",
              "<table border=\"1\" class=\"dataframe\">\n",
              "  <thead>\n",
              "    <tr style=\"text-align: right;\">\n",
              "      <th></th>\n",
              "      <th>0</th>\n",
              "      <th>1</th>\n",
              "      <th>2</th>\n",
              "      <th>3</th>\n",
              "      <th>4</th>\n",
              "      <th>5</th>\n",
              "      <th>6</th>\n",
              "      <th>7</th>\n",
              "      <th>8</th>\n",
              "      <th>9</th>\n",
              "      <th>10</th>\n",
              "      <th>11</th>\n",
              "      <th>12</th>\n",
              "      <th>13</th>\n",
              "      <th>14</th>\n",
              "      <th>15</th>\n",
              "      <th>16</th>\n",
              "      <th>17</th>\n",
              "      <th>18</th>\n",
              "      <th>19</th>\n",
              "      <th>20</th>\n",
              "      <th>21</th>\n",
              "      <th>22</th>\n",
              "      <th>23</th>\n",
              "      <th>24</th>\n",
              "      <th>25</th>\n",
              "      <th>26</th>\n",
              "      <th>27</th>\n",
              "      <th>28</th>\n",
              "      <th>29</th>\n",
              "    </tr>\n",
              "  </thead>\n",
              "  <tbody>\n",
              "    <tr>\n",
              "      <th>0</th>\n",
              "      <td>0.052</td>\n",
              "      <td>0.006</td>\n",
              "      <td>0.044</td>\n",
              "      <td>0.001</td>\n",
              "      <td>0.061</td>\n",
              "      <td>0.043</td>\n",
              "      <td>0.061</td>\n",
              "      <td>0.035</td>\n",
              "      <td>0.002</td>\n",
              "      <td>0.057</td>\n",
              "      <td>0.004</td>\n",
              "      <td>0.005</td>\n",
              "      <td>0.013</td>\n",
              "      <td>0.048</td>\n",
              "      <td>0.031</td>\n",
              "      <td>0.039</td>\n",
              "      <td>0.019</td>\n",
              "      <td>0.014</td>\n",
              "      <td>0.031</td>\n",
              "      <td>0.063</td>\n",
              "      <td>0.025</td>\n",
              "      <td>0.032</td>\n",
              "      <td>0.043</td>\n",
              "      <td>0.069</td>\n",
              "      <td>0.011</td>\n",
              "      <td>0.058</td>\n",
              "      <td>0.051</td>\n",
              "      <td>0.010</td>\n",
              "      <td>0.004</td>\n",
              "      <td>0.068</td>\n",
              "    </tr>\n",
              "    <tr>\n",
              "      <th>1</th>\n",
              "      <td>0.026</td>\n",
              "      <td>0.052</td>\n",
              "      <td>0.008</td>\n",
              "      <td>0.036</td>\n",
              "      <td>0.027</td>\n",
              "      <td>0.029</td>\n",
              "      <td>0.057</td>\n",
              "      <td>0.046</td>\n",
              "      <td>0.005</td>\n",
              "      <td>0.009</td>\n",
              "      <td>0.042</td>\n",
              "      <td>0.052</td>\n",
              "      <td>0.039</td>\n",
              "      <td>0.057</td>\n",
              "      <td>0.029</td>\n",
              "      <td>0.051</td>\n",
              "      <td>0.058</td>\n",
              "      <td>0.033</td>\n",
              "      <td>0.015</td>\n",
              "      <td>0.053</td>\n",
              "      <td>0.013</td>\n",
              "      <td>0.024</td>\n",
              "      <td>0.036</td>\n",
              "      <td>0.033</td>\n",
              "      <td>0.021</td>\n",
              "      <td>0.030</td>\n",
              "      <td>0.023</td>\n",
              "      <td>0.020</td>\n",
              "      <td>0.024</td>\n",
              "      <td>0.050</td>\n",
              "    </tr>\n",
              "    <tr>\n",
              "      <th>2</th>\n",
              "      <td>0.067</td>\n",
              "      <td>0.008</td>\n",
              "      <td>0.043</td>\n",
              "      <td>0.020</td>\n",
              "      <td>0.012</td>\n",
              "      <td>0.067</td>\n",
              "      <td>0.010</td>\n",
              "      <td>0.060</td>\n",
              "      <td>0.020</td>\n",
              "      <td>0.061</td>\n",
              "      <td>0.059</td>\n",
              "      <td>0.009</td>\n",
              "      <td>0.025</td>\n",
              "      <td>0.070</td>\n",
              "      <td>0.019</td>\n",
              "      <td>0.004</td>\n",
              "      <td>0.005</td>\n",
              "      <td>0.066</td>\n",
              "      <td>0.017</td>\n",
              "      <td>0.007</td>\n",
              "      <td>0.033</td>\n",
              "      <td>0.014</td>\n",
              "      <td>0.016</td>\n",
              "      <td>0.017</td>\n",
              "      <td>0.040</td>\n",
              "      <td>0.059</td>\n",
              "      <td>0.040</td>\n",
              "      <td>0.014</td>\n",
              "      <td>0.066</td>\n",
              "      <td>0.052</td>\n",
              "    </tr>\n",
              "    <tr>\n",
              "      <th>3</th>\n",
              "      <td>0.017</td>\n",
              "      <td>0.045</td>\n",
              "      <td>0.027</td>\n",
              "      <td>0.045</td>\n",
              "      <td>0.036</td>\n",
              "      <td>0.025</td>\n",
              "      <td>0.068</td>\n",
              "      <td>0.067</td>\n",
              "      <td>0.002</td>\n",
              "      <td>0.015</td>\n",
              "      <td>0.040</td>\n",
              "      <td>0.044</td>\n",
              "      <td>0.002</td>\n",
              "      <td>0.029</td>\n",
              "      <td>0.020</td>\n",
              "      <td>0.001</td>\n",
              "      <td>0.023</td>\n",
              "      <td>0.037</td>\n",
              "      <td>0.031</td>\n",
              "      <td>0.043</td>\n",
              "      <td>0.060</td>\n",
              "      <td>0.053</td>\n",
              "      <td>0.027</td>\n",
              "      <td>0.021</td>\n",
              "      <td>0.050</td>\n",
              "      <td>0.045</td>\n",
              "      <td>0.060</td>\n",
              "      <td>0.063</td>\n",
              "      <td>0.004</td>\n",
              "      <td>0.003</td>\n",
              "    </tr>\n",
              "    <tr>\n",
              "      <th>4</th>\n",
              "      <td>0.011</td>\n",
              "      <td>0.038</td>\n",
              "      <td>0.020</td>\n",
              "      <td>0.000</td>\n",
              "      <td>0.067</td>\n",
              "      <td>0.023</td>\n",
              "      <td>0.006</td>\n",
              "      <td>0.021</td>\n",
              "      <td>0.058</td>\n",
              "      <td>0.023</td>\n",
              "      <td>0.006</td>\n",
              "      <td>0.054</td>\n",
              "      <td>0.039</td>\n",
              "      <td>0.013</td>\n",
              "      <td>0.061</td>\n",
              "      <td>0.055</td>\n",
              "      <td>0.040</td>\n",
              "      <td>0.031</td>\n",
              "      <td>0.037</td>\n",
              "      <td>0.034</td>\n",
              "      <td>0.002</td>\n",
              "      <td>0.027</td>\n",
              "      <td>0.062</td>\n",
              "      <td>0.045</td>\n",
              "      <td>0.044</td>\n",
              "      <td>0.032</td>\n",
              "      <td>0.048</td>\n",
              "      <td>0.035</td>\n",
              "      <td>0.026</td>\n",
              "      <td>0.043</td>\n",
              "    </tr>\n",
              "  </tbody>\n",
              "</table>\n",
              "</div>"
            ],
            "text/plain": [
              "      0      1      2      3      4   ...     25     26     27     28     29\n",
              "0  0.052  0.006  0.044  0.001  0.061  ...  0.058  0.051  0.010  0.004  0.068\n",
              "1  0.026  0.052  0.008  0.036  0.027  ...  0.030  0.023  0.020  0.024  0.050\n",
              "2  0.067  0.008  0.043  0.020  0.012  ...  0.059  0.040  0.014  0.066  0.052\n",
              "3  0.017  0.045  0.027  0.045  0.036  ...  0.045  0.060  0.063  0.004  0.003\n",
              "4  0.011  0.038  0.020  0.000  0.067  ...  0.032  0.048  0.035  0.026  0.043\n",
              "\n",
              "[5 rows x 30 columns]"
            ]
          },
          "metadata": {
            "tags": []
          },
          "execution_count": 5
        }
      ]
    }
  ]
}