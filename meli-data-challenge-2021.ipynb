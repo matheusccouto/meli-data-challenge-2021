{
  "nbformat": 4,
  "nbformat_minor": 0,
  "metadata": {
    "orig_nbformat": 4,
    "colab": {
      "name": "meli-data-challenge-2021.ipynb",
      "provenance": [],
      "collapsed_sections": [],
      "include_colab_link": true
    },
    "language_info": {
      "name": "python"
    },
    "kernelspec": {
      "name": "python3",
      "display_name": "Python 3"
    }
  },
  "cells": [
    {
      "cell_type": "markdown",
      "metadata": {
        "id": "view-in-github",
        "colab_type": "text"
      },
      "source": [
        "<a href=\"https://colab.research.google.com/github/matheusccouto/meli-data-challenge-2021/blob/main/meli-data-challenge-2021.ipynb\" target=\"_parent\"><img src=\"https://colab.research.google.com/assets/colab-badge.svg\" alt=\"Open In Colab\"/></a>"
      ]
    },
    {
      "cell_type": "markdown",
      "metadata": {
        "id": "3Zm1LK9gUh34"
      },
      "source": [
        "![mercado-libre](https://ml-challenge.mercadolibre.com/static/images/logo-mercado-libre_en.png)\n",
        "\n",
        "# MeLi Data Challenge 2021\n",
        "This notebook is my attempt on the 2021 Mercado Libre Data Challenge\n",
        "\n",
        "## The Challenge\n",
        "Build a model to forecast item inventory days based on Mercado Libre historical data.\n",
        "\n",
        "## The Task\n",
        "The task is to predict how long it will take for the inventory of a certain item to be sold completely. In inventory management theory this concept is known as inventory days.\n",
        "\n",
        "In the evaluation set I will be given the item target stock, and I will have to provide a prediction for the number of days it will take to run out. Possible values range from 1 to 30. Rather than giving a point estimate, you are expected to provide a score for each the possible outcomes.\n",
        "\n",
        "To put it simply, you need to answer the following question:\n",
        "\n",
        "**'What are the odds that the target stock will be sold out in one day?', 'What about in two days?' and so on until day 30.**\n",
        "\n",
        "## Repository\n",
        "This notebook is hosted on the this repository: [github.com/matheusccouto/meli-data-challenge-2021](https://github.com/matheusccouto/meli-data-challenge-2021)\n",
        "\n",
        "Check-out the different branches to see all approaches tested."
      ]
    },
    {
      "cell_type": "markdown",
      "metadata": {
        "id": "DW44BS09Vr4G"
      },
      "source": [
        "## Load Data"
      ]
    },
    {
      "cell_type": "markdown",
      "metadata": {
        "id": "zeHdYwIv9hJ7"
      },
      "source": [
        "### Download data\n",
        "Download challenge data from [ml-challenge.mercadolibre.com/downloads](https://ml-challenge.mercadolibre.com/downloads)."
      ]
    },
    {
      "cell_type": "code",
      "metadata": {
        "colab": {
          "base_uri": "https://localhost:8080/"
        },
        "id": "Xx3E1l007xMm",
        "outputId": "a3b0f6b8-3c25-41a1-a1dc-6803a2f9a515"
      },
      "source": [
        "import os\n",
        "\n",
        "import requests\n",
        "\n",
        "# Folder where I will place data.\n",
        "DATA_DIR = \"data\"\n",
        "\n",
        "# URL to download data.\n",
        "DATA_URL_LIST = [\n",
        "    r\"https://meli-data-challenge.s3.amazonaws.com/2021/test_data.csv\",\n",
        "    r\"https://meli-data-challenge.s3.amazonaws.com/2021/train_data.parquet\",\n",
        "    r\"https://meli-data-challenge.s3.amazonaws.com/2021/items_static_metadata_full.jl\",\n",
        "    r\"https://meli-data-challenge.s3.amazonaws.com/2021/sample_submission.csv.gz\",\n",
        "]\n",
        "\n",
        "\n",
        "def download(url, path, ignore_if_exists=True):\n",
        "    \"\"\"Download files from the web.\"\"\"\n",
        "    # Check if it should be skipped.\n",
        "    if ignore_if_exists and os.path.exists(path):\n",
        "        return path  # return path to the user.\n",
        "    # Request file.\n",
        "    response = requests.get(url, allow_redirects=True)\n",
        "    # Make sure the target folder exists.\n",
        "    os.makedirs(os.path.dirname(path), exist_ok=True)\n",
        "    # Save file.\n",
        "    with open(path, mode=\"wb\") as file:\n",
        "        file.write(response.content)\n",
        "    return path  # return path to the user.\n",
        "\n",
        "\n",
        "for data_url in DATA_URL_LIST:\n",
        "    # Create path for the file.\n",
        "    data_name = os.path.basename(data_url)\n",
        "    data_path = os.path.join(DATA_DIR, data_name)\n",
        "    # Download file.\n",
        "    print(f\"Downloading {data_url} to {data_path}\")\n",
        "    download(url=data_url, path=data_path, ignore_if_exists=True)\n",
        "    # Make sure download was succesful.\n",
        "    assert os.path.exists(data_path)\n",
        "    # And make sure the file is not damaged (at least 1MB)\n",
        "    assert os.path.getsize(data_path) > 1e6"
      ],
      "execution_count": 1,
      "outputs": [
        {
          "output_type": "stream",
          "text": [
            "Downloading https://meli-data-challenge.s3.amazonaws.com/2021/test_data.csv to data/test_data.csv\n",
            "Downloading https://meli-data-challenge.s3.amazonaws.com/2021/train_data.parquet to data/train_data.parquet\n",
            "Downloading https://meli-data-challenge.s3.amazonaws.com/2021/items_static_metadata_full.jl to data/items_static_metadata_full.jl\n",
            "Downloading https://meli-data-challenge.s3.amazonaws.com/2021/sample_submission.csv.gz to data/sample_submission.csv.gz\n"
          ],
          "name": "stdout"
        }
      ]
    },
    {
      "cell_type": "markdown",
      "metadata": {
        "id": "NbmhYAt2EVo6"
      },
      "source": [
        "### Train Set\n",
        "This dataset comprises two months of daily sales data for a subset of Mercadolibre SKUs (stock keeping units) . Each row corresponds to a particular date-SKU combination. Besides SKU and date, for each row, the following fields are available:\n",
        "\n",
        "|Attributes|Description|\n",
        "|---|---|\n",
        "|sold_quantity|Number of units of the corresponding SKU that were sold on that particular date.|\n",
        "|current_price|Point in time correct listing price.|\n",
        "|currency|Currency in which the price is expressed.|\n",
        "|listing_type|Type of listing the SKU had for that particular date. Possible values are classic or premium and they relate to the exposure the items receive and the fee charged to the seller as a sales comission.|\n",
        "|shipping_logistic_type|Type of shipping method the SKU offered, for that particular date. Possible values are fulfillment, cross_docking and drop_off.|\n",
        "|shipping_payment|Whether the shipping for the offered SKU at that particular date was free or paid, from the buyer's perspective.|\n",
        "|minutes_active|Number of minutes the SKU was available for purchase on that particular date.|"
      ]
    },
    {
      "cell_type": "code",
      "metadata": {
        "id": "ag44O9k6VTCG",
        "colab": {
          "base_uri": "https://localhost:8080/",
          "height": 221
        },
        "outputId": "a4cd8c84-f4e9-4a15-c5f8-9de765aa9243"
      },
      "source": [
        "import pandas as pd\n",
        "\n",
        "train_set = pd.read_parquet(os.path.join(\"data\", \"train_data.parquet\"))\n",
        "print(f\"shape = {train_set.shape}\")\n",
        "train_set.head()"
      ],
      "execution_count": 2,
      "outputs": [
        {
          "output_type": "stream",
          "text": [
            "shape = (37660279, 9)\n"
          ],
          "name": "stdout"
        },
        {
          "output_type": "execute_result",
          "data": {
            "text/html": [
              "<div>\n",
              "<style scoped>\n",
              "    .dataframe tbody tr th:only-of-type {\n",
              "        vertical-align: middle;\n",
              "    }\n",
              "\n",
              "    .dataframe tbody tr th {\n",
              "        vertical-align: top;\n",
              "    }\n",
              "\n",
              "    .dataframe thead th {\n",
              "        text-align: right;\n",
              "    }\n",
              "</style>\n",
              "<table border=\"1\" class=\"dataframe\">\n",
              "  <thead>\n",
              "    <tr style=\"text-align: right;\">\n",
              "      <th></th>\n",
              "      <th>sku</th>\n",
              "      <th>date</th>\n",
              "      <th>sold_quantity</th>\n",
              "      <th>current_price</th>\n",
              "      <th>currency</th>\n",
              "      <th>listing_type</th>\n",
              "      <th>shipping_logistic_type</th>\n",
              "      <th>shipping_payment</th>\n",
              "      <th>minutes_active</th>\n",
              "    </tr>\n",
              "  </thead>\n",
              "  <tbody>\n",
              "    <tr>\n",
              "      <th>0</th>\n",
              "      <td>464801</td>\n",
              "      <td>2021-02-01</td>\n",
              "      <td>0</td>\n",
              "      <td>156.78</td>\n",
              "      <td>REA</td>\n",
              "      <td>classic</td>\n",
              "      <td>fulfillment</td>\n",
              "      <td>free_shipping</td>\n",
              "      <td>1440.0</td>\n",
              "    </tr>\n",
              "    <tr>\n",
              "      <th>1</th>\n",
              "      <td>464801</td>\n",
              "      <td>2021-02-02</td>\n",
              "      <td>0</td>\n",
              "      <td>156.78</td>\n",
              "      <td>REA</td>\n",
              "      <td>classic</td>\n",
              "      <td>fulfillment</td>\n",
              "      <td>free_shipping</td>\n",
              "      <td>1440.0</td>\n",
              "    </tr>\n",
              "    <tr>\n",
              "      <th>2</th>\n",
              "      <td>464801</td>\n",
              "      <td>2021-02-03</td>\n",
              "      <td>0</td>\n",
              "      <td>156.78</td>\n",
              "      <td>REA</td>\n",
              "      <td>classic</td>\n",
              "      <td>fulfillment</td>\n",
              "      <td>free_shipping</td>\n",
              "      <td>1440.0</td>\n",
              "    </tr>\n",
              "    <tr>\n",
              "      <th>3</th>\n",
              "      <td>464801</td>\n",
              "      <td>2021-02-04</td>\n",
              "      <td>0</td>\n",
              "      <td>156.78</td>\n",
              "      <td>REA</td>\n",
              "      <td>classic</td>\n",
              "      <td>fulfillment</td>\n",
              "      <td>free_shipping</td>\n",
              "      <td>1440.0</td>\n",
              "    </tr>\n",
              "    <tr>\n",
              "      <th>4</th>\n",
              "      <td>464801</td>\n",
              "      <td>2021-02-05</td>\n",
              "      <td>1</td>\n",
              "      <td>156.78</td>\n",
              "      <td>REA</td>\n",
              "      <td>classic</td>\n",
              "      <td>fulfillment</td>\n",
              "      <td>free_shipping</td>\n",
              "      <td>1440.0</td>\n",
              "    </tr>\n",
              "  </tbody>\n",
              "</table>\n",
              "</div>"
            ],
            "text/plain": [
              "      sku        date  ...  shipping_payment  minutes_active\n",
              "0  464801  2021-02-01  ...     free_shipping          1440.0\n",
              "1  464801  2021-02-02  ...     free_shipping          1440.0\n",
              "2  464801  2021-02-03  ...     free_shipping          1440.0\n",
              "3  464801  2021-02-04  ...     free_shipping          1440.0\n",
              "4  464801  2021-02-05  ...     free_shipping          1440.0\n",
              "\n",
              "[5 rows x 9 columns]"
            ]
          },
          "metadata": {
            "tags": []
          },
          "execution_count": 2
        }
      ]
    },
    {
      "cell_type": "markdown",
      "metadata": {
        "id": "IumsLsleEZeN"
      },
      "source": [
        "### Test Set\n",
        "For testing, the following file is provided test_data.csv. This file contains only two columns:\n",
        "\n",
        "|Attribute|Description|\n",
        "|---|---|\n",
        "|SKU|indicates the SKU for which you have to make your prediction|\n",
        "|target_stock|inventory level (aka number of units of the corresponding SKU for which you have to provide your estimation of inventory days.|"
      ]
    },
    {
      "cell_type": "code",
      "metadata": {
        "id": "K4luaGVGVECc",
        "colab": {
          "base_uri": "https://localhost:8080/",
          "height": 221
        },
        "outputId": "cfaca52b-3222-47f9-b93c-9867508fee08"
      },
      "source": [
        "test_set = pd.read_csv(os.path.join(\"data\", \"test_data.csv\"))\n",
        "print(f\"shape = {test_set.shape}\")\n",
        "test_set.head()"
      ],
      "execution_count": 3,
      "outputs": [
        {
          "output_type": "stream",
          "text": [
            "shape = (551472, 2)\n"
          ],
          "name": "stdout"
        },
        {
          "output_type": "execute_result",
          "data": {
            "text/html": [
              "<div>\n",
              "<style scoped>\n",
              "    .dataframe tbody tr th:only-of-type {\n",
              "        vertical-align: middle;\n",
              "    }\n",
              "\n",
              "    .dataframe tbody tr th {\n",
              "        vertical-align: top;\n",
              "    }\n",
              "\n",
              "    .dataframe thead th {\n",
              "        text-align: right;\n",
              "    }\n",
              "</style>\n",
              "<table border=\"1\" class=\"dataframe\">\n",
              "  <thead>\n",
              "    <tr style=\"text-align: right;\">\n",
              "      <th></th>\n",
              "      <th>sku</th>\n",
              "      <th>target_stock</th>\n",
              "    </tr>\n",
              "  </thead>\n",
              "  <tbody>\n",
              "    <tr>\n",
              "      <th>0</th>\n",
              "      <td>464801</td>\n",
              "      <td>3</td>\n",
              "    </tr>\n",
              "    <tr>\n",
              "      <th>1</th>\n",
              "      <td>645793</td>\n",
              "      <td>4</td>\n",
              "    </tr>\n",
              "    <tr>\n",
              "      <th>2</th>\n",
              "      <td>99516</td>\n",
              "      <td>8</td>\n",
              "    </tr>\n",
              "    <tr>\n",
              "      <th>3</th>\n",
              "      <td>538100</td>\n",
              "      <td>8</td>\n",
              "    </tr>\n",
              "    <tr>\n",
              "      <th>4</th>\n",
              "      <td>557191</td>\n",
              "      <td>10</td>\n",
              "    </tr>\n",
              "  </tbody>\n",
              "</table>\n",
              "</div>"
            ],
            "text/plain": [
              "      sku  target_stock\n",
              "0  464801             3\n",
              "1  645793             4\n",
              "2   99516             8\n",
              "3  538100             8\n",
              "4  557191            10"
            ]
          },
          "metadata": {
            "tags": []
          },
          "execution_count": 3
        }
      ]
    },
    {
      "cell_type": "markdown",
      "metadata": {
        "id": "2RNNSVXCEbmO"
      },
      "source": [
        "### Items Data\n",
        "In the file items_static_metadata.jl there is some extra data related to the SKUs characteristics. The file contains a list of dictionaries where each of them contains metadata for a specific SKU . The following fields are available:\n",
        "\n",
        "|Attribute|Description|\n",
        "|---|---|\n",
        "|SKU|stock-keeping-unit. This is a unique identifier for each distinct, physical inventory unit.|\n",
        "|item_id|unique identifier of the listing the SKU belongs to. The same listing can be associated with more than one SKUs, for example, if different variations of the same item are offered in the listing.|\n",
        "|item_domain_id|listing's domain id. A domain is a kind of listings clustering within MercadoLibre.|\n",
        "|item_title|the listing's title in the marketplace.|\n",
        "|site_id|the MercadoLibre's site the listing belongs to. The labels MLB, MLA and MLM refer to Brazil, Argentina and Mexico respectively.|\n",
        "|product_id|listing product id. Field might be null for some listings.|\n",
        "|product_id_family|listing product family id. Field might be null for some listings.|"
      ]
    },
    {
      "cell_type": "code",
      "metadata": {
        "colab": {
          "base_uri": "https://localhost:8080/",
          "height": 221
        },
        "id": "8MlQu7A-BKuF",
        "outputId": "aac3c1c5-0c90-4d85-d56e-2f1326b1d2b2"
      },
      "source": [
        "items_data = pd.read_json(os.path.join(\"data\", \"items_static_metadata_full.jl\"), lines=True)\n",
        "print(f\"shape = {items_data.shape}\")\n",
        "items_data.head()"
      ],
      "execution_count": 4,
      "outputs": [
        {
          "output_type": "stream",
          "text": [
            "shape = (660916, 7)\n"
          ],
          "name": "stdout"
        },
        {
          "output_type": "execute_result",
          "data": {
            "text/html": [
              "<div>\n",
              "<style scoped>\n",
              "    .dataframe tbody tr th:only-of-type {\n",
              "        vertical-align: middle;\n",
              "    }\n",
              "\n",
              "    .dataframe tbody tr th {\n",
              "        vertical-align: top;\n",
              "    }\n",
              "\n",
              "    .dataframe thead th {\n",
              "        text-align: right;\n",
              "    }\n",
              "</style>\n",
              "<table border=\"1\" class=\"dataframe\">\n",
              "  <thead>\n",
              "    <tr style=\"text-align: right;\">\n",
              "      <th></th>\n",
              "      <th>item_domain_id</th>\n",
              "      <th>item_id</th>\n",
              "      <th>item_title</th>\n",
              "      <th>site_id</th>\n",
              "      <th>sku</th>\n",
              "      <th>product_id</th>\n",
              "      <th>product_family_id</th>\n",
              "    </tr>\n",
              "  </thead>\n",
              "  <tbody>\n",
              "    <tr>\n",
              "      <th>0</th>\n",
              "      <td>MLB-SNEAKERS</td>\n",
              "      <td>492155</td>\n",
              "      <td>Tênis Masculino Olympikus Cyber Barato Promoçao</td>\n",
              "      <td>MLB</td>\n",
              "      <td>0</td>\n",
              "      <td>None</td>\n",
              "      <td>MLB15832732</td>\n",
              "    </tr>\n",
              "    <tr>\n",
              "      <th>1</th>\n",
              "      <td>MLB-SURFBOARD_RACKS</td>\n",
              "      <td>300279</td>\n",
              "      <td>Suporte Rack Prancha Parede C/ Regulagem Horiz...</td>\n",
              "      <td>MLB</td>\n",
              "      <td>1</td>\n",
              "      <td>None</td>\n",
              "      <td>None</td>\n",
              "    </tr>\n",
              "    <tr>\n",
              "      <th>2</th>\n",
              "      <td>MLM-NECKLACES</td>\n",
              "      <td>69847</td>\n",
              "      <td>5 Collares Plateados Dama Gargantilla Choker -...</td>\n",
              "      <td>MLM</td>\n",
              "      <td>2</td>\n",
              "      <td>None</td>\n",
              "      <td>None</td>\n",
              "    </tr>\n",
              "    <tr>\n",
              "      <th>3</th>\n",
              "      <td>MLM-RINGS</td>\n",
              "      <td>298603</td>\n",
              "      <td>Lindo Anillo De Bella Crepusculo Twilight Prom...</td>\n",
              "      <td>MLM</td>\n",
              "      <td>3</td>\n",
              "      <td>None</td>\n",
              "      <td>None</td>\n",
              "    </tr>\n",
              "    <tr>\n",
              "      <th>4</th>\n",
              "      <td>MLB-WEBCAMS</td>\n",
              "      <td>345949</td>\n",
              "      <td>Webcam Com Microfone Hd 720p Knup Youtube Pc V...</td>\n",
              "      <td>MLB</td>\n",
              "      <td>4</td>\n",
              "      <td>None</td>\n",
              "      <td>None</td>\n",
              "    </tr>\n",
              "  </tbody>\n",
              "</table>\n",
              "</div>"
            ],
            "text/plain": [
              "        item_domain_id  item_id  ... product_id product_family_id\n",
              "0         MLB-SNEAKERS   492155  ...       None       MLB15832732\n",
              "1  MLB-SURFBOARD_RACKS   300279  ...       None              None\n",
              "2        MLM-NECKLACES    69847  ...       None              None\n",
              "3            MLM-RINGS   298603  ...       None              None\n",
              "4          MLB-WEBCAMS   345949  ...       None              None\n",
              "\n",
              "[5 rows x 7 columns]"
            ]
          },
          "metadata": {
            "tags": []
          },
          "execution_count": 4
        }
      ]
    },
    {
      "cell_type": "markdown",
      "metadata": {
        "id": "CRVRjH3OEh93"
      },
      "source": [
        "### Sample Submission\n",
        "A sample submission file for you to visualize the expected format of a submission."
      ]
    },
    {
      "cell_type": "code",
      "metadata": {
        "colab": {
          "base_uri": "https://localhost:8080/",
          "height": 241
        },
        "id": "4rd-7SCVeUR8",
        "outputId": "eb6b2eca-f57a-4fe7-8a48-a77be1b64be7"
      },
      "source": [
        "sample_submission = pd.read_csv(os.path.join(\"data\", \"sample_submission.csv.gz\"), header=None)\n",
        "print(f\"shape = {sample_submission.shape}\")\n",
        "sample_submission.head()"
      ],
      "execution_count": 5,
      "outputs": [
        {
          "output_type": "stream",
          "text": [
            "shape = (551472, 30)\n"
          ],
          "name": "stdout"
        },
        {
          "output_type": "execute_result",
          "data": {
            "text/html": [
              "<div>\n",
              "<style scoped>\n",
              "    .dataframe tbody tr th:only-of-type {\n",
              "        vertical-align: middle;\n",
              "    }\n",
              "\n",
              "    .dataframe tbody tr th {\n",
              "        vertical-align: top;\n",
              "    }\n",
              "\n",
              "    .dataframe thead th {\n",
              "        text-align: right;\n",
              "    }\n",
              "</style>\n",
              "<table border=\"1\" class=\"dataframe\">\n",
              "  <thead>\n",
              "    <tr style=\"text-align: right;\">\n",
              "      <th></th>\n",
              "      <th>0</th>\n",
              "      <th>1</th>\n",
              "      <th>2</th>\n",
              "      <th>3</th>\n",
              "      <th>4</th>\n",
              "      <th>5</th>\n",
              "      <th>6</th>\n",
              "      <th>7</th>\n",
              "      <th>8</th>\n",
              "      <th>9</th>\n",
              "      <th>10</th>\n",
              "      <th>11</th>\n",
              "      <th>12</th>\n",
              "      <th>13</th>\n",
              "      <th>14</th>\n",
              "      <th>15</th>\n",
              "      <th>16</th>\n",
              "      <th>17</th>\n",
              "      <th>18</th>\n",
              "      <th>19</th>\n",
              "      <th>20</th>\n",
              "      <th>21</th>\n",
              "      <th>22</th>\n",
              "      <th>23</th>\n",
              "      <th>24</th>\n",
              "      <th>25</th>\n",
              "      <th>26</th>\n",
              "      <th>27</th>\n",
              "      <th>28</th>\n",
              "      <th>29</th>\n",
              "    </tr>\n",
              "  </thead>\n",
              "  <tbody>\n",
              "    <tr>\n",
              "      <th>0</th>\n",
              "      <td>0.052</td>\n",
              "      <td>0.006</td>\n",
              "      <td>0.044</td>\n",
              "      <td>0.001</td>\n",
              "      <td>0.061</td>\n",
              "      <td>0.043</td>\n",
              "      <td>0.061</td>\n",
              "      <td>0.035</td>\n",
              "      <td>0.002</td>\n",
              "      <td>0.057</td>\n",
              "      <td>0.004</td>\n",
              "      <td>0.005</td>\n",
              "      <td>0.013</td>\n",
              "      <td>0.048</td>\n",
              "      <td>0.031</td>\n",
              "      <td>0.039</td>\n",
              "      <td>0.019</td>\n",
              "      <td>0.014</td>\n",
              "      <td>0.031</td>\n",
              "      <td>0.063</td>\n",
              "      <td>0.025</td>\n",
              "      <td>0.032</td>\n",
              "      <td>0.043</td>\n",
              "      <td>0.069</td>\n",
              "      <td>0.011</td>\n",
              "      <td>0.058</td>\n",
              "      <td>0.051</td>\n",
              "      <td>0.010</td>\n",
              "      <td>0.004</td>\n",
              "      <td>0.068</td>\n",
              "    </tr>\n",
              "    <tr>\n",
              "      <th>1</th>\n",
              "      <td>0.026</td>\n",
              "      <td>0.052</td>\n",
              "      <td>0.008</td>\n",
              "      <td>0.036</td>\n",
              "      <td>0.027</td>\n",
              "      <td>0.029</td>\n",
              "      <td>0.057</td>\n",
              "      <td>0.046</td>\n",
              "      <td>0.005</td>\n",
              "      <td>0.009</td>\n",
              "      <td>0.042</td>\n",
              "      <td>0.052</td>\n",
              "      <td>0.039</td>\n",
              "      <td>0.057</td>\n",
              "      <td>0.029</td>\n",
              "      <td>0.051</td>\n",
              "      <td>0.058</td>\n",
              "      <td>0.033</td>\n",
              "      <td>0.015</td>\n",
              "      <td>0.053</td>\n",
              "      <td>0.013</td>\n",
              "      <td>0.024</td>\n",
              "      <td>0.036</td>\n",
              "      <td>0.033</td>\n",
              "      <td>0.021</td>\n",
              "      <td>0.030</td>\n",
              "      <td>0.023</td>\n",
              "      <td>0.020</td>\n",
              "      <td>0.024</td>\n",
              "      <td>0.050</td>\n",
              "    </tr>\n",
              "    <tr>\n",
              "      <th>2</th>\n",
              "      <td>0.067</td>\n",
              "      <td>0.008</td>\n",
              "      <td>0.043</td>\n",
              "      <td>0.020</td>\n",
              "      <td>0.012</td>\n",
              "      <td>0.067</td>\n",
              "      <td>0.010</td>\n",
              "      <td>0.060</td>\n",
              "      <td>0.020</td>\n",
              "      <td>0.061</td>\n",
              "      <td>0.059</td>\n",
              "      <td>0.009</td>\n",
              "      <td>0.025</td>\n",
              "      <td>0.070</td>\n",
              "      <td>0.019</td>\n",
              "      <td>0.004</td>\n",
              "      <td>0.005</td>\n",
              "      <td>0.066</td>\n",
              "      <td>0.017</td>\n",
              "      <td>0.007</td>\n",
              "      <td>0.033</td>\n",
              "      <td>0.014</td>\n",
              "      <td>0.016</td>\n",
              "      <td>0.017</td>\n",
              "      <td>0.040</td>\n",
              "      <td>0.059</td>\n",
              "      <td>0.040</td>\n",
              "      <td>0.014</td>\n",
              "      <td>0.066</td>\n",
              "      <td>0.052</td>\n",
              "    </tr>\n",
              "    <tr>\n",
              "      <th>3</th>\n",
              "      <td>0.017</td>\n",
              "      <td>0.045</td>\n",
              "      <td>0.027</td>\n",
              "      <td>0.045</td>\n",
              "      <td>0.036</td>\n",
              "      <td>0.025</td>\n",
              "      <td>0.068</td>\n",
              "      <td>0.067</td>\n",
              "      <td>0.002</td>\n",
              "      <td>0.015</td>\n",
              "      <td>0.040</td>\n",
              "      <td>0.044</td>\n",
              "      <td>0.002</td>\n",
              "      <td>0.029</td>\n",
              "      <td>0.020</td>\n",
              "      <td>0.001</td>\n",
              "      <td>0.023</td>\n",
              "      <td>0.037</td>\n",
              "      <td>0.031</td>\n",
              "      <td>0.043</td>\n",
              "      <td>0.060</td>\n",
              "      <td>0.053</td>\n",
              "      <td>0.027</td>\n",
              "      <td>0.021</td>\n",
              "      <td>0.050</td>\n",
              "      <td>0.045</td>\n",
              "      <td>0.060</td>\n",
              "      <td>0.063</td>\n",
              "      <td>0.004</td>\n",
              "      <td>0.003</td>\n",
              "    </tr>\n",
              "    <tr>\n",
              "      <th>4</th>\n",
              "      <td>0.011</td>\n",
              "      <td>0.038</td>\n",
              "      <td>0.020</td>\n",
              "      <td>0.000</td>\n",
              "      <td>0.067</td>\n",
              "      <td>0.023</td>\n",
              "      <td>0.006</td>\n",
              "      <td>0.021</td>\n",
              "      <td>0.058</td>\n",
              "      <td>0.023</td>\n",
              "      <td>0.006</td>\n",
              "      <td>0.054</td>\n",
              "      <td>0.039</td>\n",
              "      <td>0.013</td>\n",
              "      <td>0.061</td>\n",
              "      <td>0.055</td>\n",
              "      <td>0.040</td>\n",
              "      <td>0.031</td>\n",
              "      <td>0.037</td>\n",
              "      <td>0.034</td>\n",
              "      <td>0.002</td>\n",
              "      <td>0.027</td>\n",
              "      <td>0.062</td>\n",
              "      <td>0.045</td>\n",
              "      <td>0.044</td>\n",
              "      <td>0.032</td>\n",
              "      <td>0.048</td>\n",
              "      <td>0.035</td>\n",
              "      <td>0.026</td>\n",
              "      <td>0.043</td>\n",
              "    </tr>\n",
              "  </tbody>\n",
              "</table>\n",
              "</div>"
            ],
            "text/plain": [
              "      0      1      2      3      4   ...     25     26     27     28     29\n",
              "0  0.052  0.006  0.044  0.001  0.061  ...  0.058  0.051  0.010  0.004  0.068\n",
              "1  0.026  0.052  0.008  0.036  0.027  ...  0.030  0.023  0.020  0.024  0.050\n",
              "2  0.067  0.008  0.043  0.020  0.012  ...  0.059  0.040  0.014  0.066  0.052\n",
              "3  0.017  0.045  0.027  0.045  0.036  ...  0.045  0.060  0.063  0.004  0.003\n",
              "4  0.011  0.038  0.020  0.000  0.067  ...  0.032  0.048  0.035  0.026  0.043\n",
              "\n",
              "[5 rows x 30 columns]"
            ]
          },
          "metadata": {
            "tags": []
          },
          "execution_count": 5
        }
      ]
    },
    {
      "cell_type": "markdown",
      "metadata": {
        "id": "LGGxinLFmzhL"
      },
      "source": [
        "## Data Wrangling\n",
        "In this section I will make sure the data is ready to be analyzed."
      ]
    },
    {
      "cell_type": "markdown",
      "metadata": {
        "id": "7x6o195gz2B2"
      },
      "source": [
        "### Train Set"
      ]
    },
    {
      "cell_type": "markdown",
      "metadata": {
        "id": "AH1Neserz_WO"
      },
      "source": [
        "#### Dtypes\n",
        "Make sure data is the appropiated format."
      ]
    },
    {
      "cell_type": "code",
      "metadata": {
        "id": "IVrkzzXrs0Ey",
        "colab": {
          "base_uri": "https://localhost:8080/"
        },
        "outputId": "8bdca2ac-a4a3-4c06-81bb-222c7a4eb3a2"
      },
      "source": [
        "train_set.info()"
      ],
      "execution_count": 6,
      "outputs": [
        {
          "output_type": "stream",
          "text": [
            "<class 'pandas.core.frame.DataFrame'>\n",
            "RangeIndex: 37660279 entries, 0 to 37660278\n",
            "Data columns (total 9 columns):\n",
            " #   Column                  Dtype  \n",
            "---  ------                  -----  \n",
            " 0   sku                     int64  \n",
            " 1   date                    object \n",
            " 2   sold_quantity           int64  \n",
            " 3   current_price           float64\n",
            " 4   currency                object \n",
            " 5   listing_type            object \n",
            " 6   shipping_logistic_type  object \n",
            " 7   shipping_payment        object \n",
            " 8   minutes_active          float64\n",
            "dtypes: float64(2), int64(2), object(5)\n",
            "memory usage: 2.5+ GB\n"
          ],
          "name": "stdout"
        }
      ]
    },
    {
      "cell_type": "markdown",
      "metadata": {
        "id": "grZRKzPC0KS5"
      },
      "source": [
        "Date is stored as object and should be interpreted as date."
      ]
    },
    {
      "cell_type": "code",
      "metadata": {
        "colab": {
          "base_uri": "https://localhost:8080/"
        },
        "id": "HAWP1jwW0bbe",
        "outputId": "95608975-7c14-49ba-c039-858b5993792c"
      },
      "source": [
        "train_set[\"date\"] = pd.to_datetime(train_set[\"date\"])\n",
        "print(f\"Dates go from {train_set['date'].min().strftime('%Y-%m-%d')} to {train_set['date'].max().strftime('%Y-%m-%d')}\")"
      ],
      "execution_count": 7,
      "outputs": [
        {
          "output_type": "stream",
          "text": [
            "Dates go from 2021-02-01 to 2021-03-31\n"
          ],
          "name": "stdout"
        }
      ]
    },
    {
      "cell_type": "markdown",
      "metadata": {
        "id": "aXuodsfwWFCA"
      },
      "source": [
        "Other columns can also be optimized. Since this dataset is huge and I am working very near the memory limit, it is a good idea to optimize as much as possible."
      ]
    },
    {
      "cell_type": "code",
      "metadata": {
        "colab": {
          "base_uri": "https://localhost:8080/"
        },
        "id": "xwoojTNwWA48",
        "outputId": "bfcdb1da-3902-4814-89ca-7f0edf412d01"
      },
      "source": [
        "train_set[[\"sku\", \"sold_quantity\", \"minutes_active\", \"current_price\"]].max()"
      ],
      "execution_count": 8,
      "outputs": [
        {
          "output_type": "execute_result",
          "data": {
            "text/plain": [
              "sku                  660915.0\n",
              "sold_quantity          6951.0\n",
              "minutes_active         1440.0\n",
              "current_price     999999999.0\n",
              "dtype: float64"
            ]
          },
          "metadata": {
            "tags": []
          },
          "execution_count": 8
        }
      ]
    },
    {
      "cell_type": "code",
      "metadata": {
        "colab": {
          "base_uri": "https://localhost:8080/"
        },
        "id": "jppSHASjXJs_",
        "outputId": "5802248b-cfd4-4fb0-a0ab-a8c5739eda46"
      },
      "source": [
        "train_set = train_set.astype({\n",
        "    \"sku\": \"int32\",\n",
        "    \"sold_quantity\": \"int16\",\n",
        "    \"minutes_active\": \"int16\",\n",
        "    \"current_price\": \"float32\"\n",
        "    })\n",
        "\n",
        "# Check max valyes again to make sure it didn't clip any value.\n",
        "train_set[[\"sku\", \"sold_quantity\", \"minutes_active\", \"current_price\"]].max()"
      ],
      "execution_count": 9,
      "outputs": [
        {
          "output_type": "execute_result",
          "data": {
            "text/plain": [
              "sku               6.609150e+05\n",
              "sold_quantity     6.951000e+03\n",
              "minutes_active    1.440000e+03\n",
              "current_price     1.000000e+09\n",
              "dtype: float64"
            ]
          },
          "metadata": {
            "tags": []
          },
          "execution_count": 9
        }
      ]
    },
    {
      "cell_type": "markdown",
      "metadata": {
        "id": "n7gpN3_ScDNz"
      },
      "source": [
        "The `current_price` clipped a single unit for the biggest value. It isn't problematic and I can keep up with it.\n",
        "\n",
        "I will round to the second decimal case since it is a monetary value, and for a online listing the third case is not relevant."
      ]
    },
    {
      "cell_type": "code",
      "metadata": {
        "id": "SAOpkUx7b3Gd"
      },
      "source": [
        "train_set[\"current_price\"] = train_set[\"current_price\"].round(2)"
      ],
      "execution_count": 10,
      "outputs": []
    },
    {
      "cell_type": "markdown",
      "metadata": {
        "id": "onO6Qqn-24YU"
      },
      "source": [
        "I'll also see the possible values from all other object columns to see if there's something to be done."
      ]
    },
    {
      "cell_type": "code",
      "metadata": {
        "colab": {
          "base_uri": "https://localhost:8080/"
        },
        "id": "kG06QmG72fLG",
        "outputId": "564f0687-5c7a-457d-9a60-ae29f2d2f7ed"
      },
      "source": [
        "for col in train_set.select_dtypes(\"object\").columns:\n",
        "    print(f\"{col} classes are: {', '.join(train_set[col].unique().tolist())}\")"
      ],
      "execution_count": 11,
      "outputs": [
        {
          "output_type": "stream",
          "text": [
            "currency classes are: REA, MEX, DOL, ARG\n",
            "listing_type classes are: classic, premium\n",
            "shipping_logistic_type classes are: fulfillment, cross_docking, drop_off\n",
            "shipping_payment classes are: free_shipping, paid_shipping\n"
          ],
          "name": "stdout"
        }
      ]
    },
    {
      "cell_type": "markdown",
      "metadata": {
        "id": "rd0PZJYw4FK4"
      },
      "source": [
        "#### Encoding\n",
        "Object columns need to be encoded in order to be used in modelling. For the columns with only two classes I'll transform them into a single columns. The others with 3+ classes will receive a column for each column.\n",
        "\n",
        "I won't drop one of them by now. Keeping all dummies may be bad for some algorithms, but for other dropping one of them is worse. I will keep all columns by now and decide what to do with these columns during modelling."
      ]
    },
    {
      "cell_type": "code",
      "metadata": {
        "colab": {
          "base_uri": "https://localhost:8080/",
          "height": 309
        },
        "id": "KJaaw5rd38l7",
        "outputId": "46ec85b7-0577-4069-b5da-bfc63e36916b"
      },
      "source": [
        "train_set = pd.get_dummies(train_set, columns=[\"listing_type\", \"shipping_payment\"], drop_first=True)\n",
        "train_set = pd.get_dummies(train_set, columns=[\"currency\", \"shipping_logistic_type\"], drop_first=False)\n",
        "train_set.head()"
      ],
      "execution_count": 12,
      "outputs": [
        {
          "output_type": "execute_result",
          "data": {
            "text/html": [
              "<div>\n",
              "<style scoped>\n",
              "    .dataframe tbody tr th:only-of-type {\n",
              "        vertical-align: middle;\n",
              "    }\n",
              "\n",
              "    .dataframe tbody tr th {\n",
              "        vertical-align: top;\n",
              "    }\n",
              "\n",
              "    .dataframe thead th {\n",
              "        text-align: right;\n",
              "    }\n",
              "</style>\n",
              "<table border=\"1\" class=\"dataframe\">\n",
              "  <thead>\n",
              "    <tr style=\"text-align: right;\">\n",
              "      <th></th>\n",
              "      <th>sku</th>\n",
              "      <th>date</th>\n",
              "      <th>sold_quantity</th>\n",
              "      <th>current_price</th>\n",
              "      <th>minutes_active</th>\n",
              "      <th>listing_type_premium</th>\n",
              "      <th>shipping_payment_paid_shipping</th>\n",
              "      <th>currency_ARG</th>\n",
              "      <th>currency_DOL</th>\n",
              "      <th>currency_MEX</th>\n",
              "      <th>currency_REA</th>\n",
              "      <th>shipping_logistic_type_cross_docking</th>\n",
              "      <th>shipping_logistic_type_drop_off</th>\n",
              "      <th>shipping_logistic_type_fulfillment</th>\n",
              "    </tr>\n",
              "  </thead>\n",
              "  <tbody>\n",
              "    <tr>\n",
              "      <th>0</th>\n",
              "      <td>464801</td>\n",
              "      <td>2021-02-01</td>\n",
              "      <td>0</td>\n",
              "      <td>156.779999</td>\n",
              "      <td>1440</td>\n",
              "      <td>0</td>\n",
              "      <td>0</td>\n",
              "      <td>0</td>\n",
              "      <td>0</td>\n",
              "      <td>0</td>\n",
              "      <td>1</td>\n",
              "      <td>0</td>\n",
              "      <td>0</td>\n",
              "      <td>1</td>\n",
              "    </tr>\n",
              "    <tr>\n",
              "      <th>1</th>\n",
              "      <td>464801</td>\n",
              "      <td>2021-02-02</td>\n",
              "      <td>0</td>\n",
              "      <td>156.779999</td>\n",
              "      <td>1440</td>\n",
              "      <td>0</td>\n",
              "      <td>0</td>\n",
              "      <td>0</td>\n",
              "      <td>0</td>\n",
              "      <td>0</td>\n",
              "      <td>1</td>\n",
              "      <td>0</td>\n",
              "      <td>0</td>\n",
              "      <td>1</td>\n",
              "    </tr>\n",
              "    <tr>\n",
              "      <th>2</th>\n",
              "      <td>464801</td>\n",
              "      <td>2021-02-03</td>\n",
              "      <td>0</td>\n",
              "      <td>156.779999</td>\n",
              "      <td>1440</td>\n",
              "      <td>0</td>\n",
              "      <td>0</td>\n",
              "      <td>0</td>\n",
              "      <td>0</td>\n",
              "      <td>0</td>\n",
              "      <td>1</td>\n",
              "      <td>0</td>\n",
              "      <td>0</td>\n",
              "      <td>1</td>\n",
              "    </tr>\n",
              "    <tr>\n",
              "      <th>3</th>\n",
              "      <td>464801</td>\n",
              "      <td>2021-02-04</td>\n",
              "      <td>0</td>\n",
              "      <td>156.779999</td>\n",
              "      <td>1440</td>\n",
              "      <td>0</td>\n",
              "      <td>0</td>\n",
              "      <td>0</td>\n",
              "      <td>0</td>\n",
              "      <td>0</td>\n",
              "      <td>1</td>\n",
              "      <td>0</td>\n",
              "      <td>0</td>\n",
              "      <td>1</td>\n",
              "    </tr>\n",
              "    <tr>\n",
              "      <th>4</th>\n",
              "      <td>464801</td>\n",
              "      <td>2021-02-05</td>\n",
              "      <td>1</td>\n",
              "      <td>156.779999</td>\n",
              "      <td>1440</td>\n",
              "      <td>0</td>\n",
              "      <td>0</td>\n",
              "      <td>0</td>\n",
              "      <td>0</td>\n",
              "      <td>0</td>\n",
              "      <td>1</td>\n",
              "      <td>0</td>\n",
              "      <td>0</td>\n",
              "      <td>1</td>\n",
              "    </tr>\n",
              "  </tbody>\n",
              "</table>\n",
              "</div>"
            ],
            "text/plain": [
              "      sku  ... shipping_logistic_type_fulfillment\n",
              "0  464801  ...                                  1\n",
              "1  464801  ...                                  1\n",
              "2  464801  ...                                  1\n",
              "3  464801  ...                                  1\n",
              "4  464801  ...                                  1\n",
              "\n",
              "[5 rows x 14 columns]"
            ]
          },
          "metadata": {
            "tags": []
          },
          "execution_count": 12
        }
      ]
    },
    {
      "cell_type": "markdown",
      "metadata": {
        "id": "VOgt3ywmc_LS"
      },
      "source": [
        "Let's see memory usage now"
      ]
    },
    {
      "cell_type": "code",
      "metadata": {
        "colab": {
          "base_uri": "https://localhost:8080/"
        },
        "id": "edqTKM-OdFGK",
        "outputId": "c420387f-20ca-49cc-d959-ed3cfb665d0f"
      },
      "source": [
        "train_set.info()"
      ],
      "execution_count": 13,
      "outputs": [
        {
          "output_type": "stream",
          "text": [
            "<class 'pandas.core.frame.DataFrame'>\n",
            "RangeIndex: 37660279 entries, 0 to 37660278\n",
            "Data columns (total 14 columns):\n",
            " #   Column                                Dtype         \n",
            "---  ------                                -----         \n",
            " 0   sku                                   int32         \n",
            " 1   date                                  datetime64[ns]\n",
            " 2   sold_quantity                         int16         \n",
            " 3   current_price                         float32       \n",
            " 4   minutes_active                        int16         \n",
            " 5   listing_type_premium                  uint8         \n",
            " 6   shipping_payment_paid_shipping        uint8         \n",
            " 7   currency_ARG                          uint8         \n",
            " 8   currency_DOL                          uint8         \n",
            " 9   currency_MEX                          uint8         \n",
            " 10  currency_REA                          uint8         \n",
            " 11  shipping_logistic_type_cross_docking  uint8         \n",
            " 12  shipping_logistic_type_drop_off       uint8         \n",
            " 13  shipping_logistic_type_fulfillment    uint8         \n",
            "dtypes: datetime64[ns](1), float32(1), int16(2), int32(1), uint8(9)\n",
            "memory usage: 1.0 GB\n"
          ],
          "name": "stdout"
        }
      ]
    },
    {
      "cell_type": "markdown",
      "metadata": {
        "id": "hocKhiBrdHNp"
      },
      "source": [
        "Memory usage is much better now."
      ]
    },
    {
      "cell_type": "markdown",
      "metadata": {
        "id": "xFwr2RM86M1S"
      },
      "source": [
        "#### NaN\n",
        "Check for NaNs in the dataset."
      ]
    },
    {
      "cell_type": "code",
      "metadata": {
        "colab": {
          "base_uri": "https://localhost:8080/"
        },
        "id": "4Kpu22M76L-E",
        "outputId": "a7ba035e-079a-454c-e958-e45a872b79f3"
      },
      "source": [
        "print(f\"There are {train_set.isna().sum().sum()} NaNs in the dataset.\")"
      ],
      "execution_count": 14,
      "outputs": [
        {
          "output_type": "stream",
          "text": [
            "There are 0 NaNs in the dataset.\n"
          ],
          "name": "stdout"
        }
      ]
    },
    {
      "cell_type": "markdown",
      "metadata": {
        "id": "3ZGbeOZn6lYS"
      },
      "source": [
        "### Test Set"
      ]
    },
    {
      "cell_type": "markdown",
      "metadata": {
        "id": "QVEMj8kf6sl5"
      },
      "source": [
        "#### Dtypes\n",
        "Make sure data is the appropiated format."
      ]
    },
    {
      "cell_type": "code",
      "metadata": {
        "colab": {
          "base_uri": "https://localhost:8080/"
        },
        "id": "EcS23kla6thP",
        "outputId": "04fe3436-0507-4596-e389-fcc19e433410"
      },
      "source": [
        "test_set.info()"
      ],
      "execution_count": 15,
      "outputs": [
        {
          "output_type": "stream",
          "text": [
            "<class 'pandas.core.frame.DataFrame'>\n",
            "RangeIndex: 551472 entries, 0 to 551471\n",
            "Data columns (total 2 columns):\n",
            " #   Column        Non-Null Count   Dtype\n",
            "---  ------        --------------   -----\n",
            " 0   sku           551472 non-null  int64\n",
            " 1   target_stock  551472 non-null  int64\n",
            "dtypes: int64(2)\n",
            "memory usage: 8.4 MB\n"
          ],
          "name": "stdout"
        }
      ]
    },
    {
      "cell_type": "markdown",
      "metadata": {
        "id": "C3JJnfyLdpPe"
      },
      "source": [
        "It shows that there is no NaNs.\n",
        "\n",
        "I will assign smaller dtypes for better memory usage. First I need to see the biggest values to check which dtype apply."
      ]
    },
    {
      "cell_type": "code",
      "metadata": {
        "colab": {
          "base_uri": "https://localhost:8080/"
        },
        "id": "YbNgYeRvd22u",
        "outputId": "578333d0-600d-4d8a-e9fb-fc76221d818f"
      },
      "source": [
        "test_set.max()"
      ],
      "execution_count": 16,
      "outputs": [
        {
          "output_type": "execute_result",
          "data": {
            "text/plain": [
              "sku             660914\n",
              "target_stock     32710\n",
              "dtype: int64"
            ]
          },
          "metadata": {
            "tags": []
          },
          "execution_count": 16
        }
      ]
    },
    {
      "cell_type": "code",
      "metadata": {
        "colab": {
          "base_uri": "https://localhost:8080/"
        },
        "id": "bVznG1Gmd5kY",
        "outputId": "1a5d86cd-fcc6-4410-ece3-48aaebeb680e"
      },
      "source": [
        "test_set = test_set.astype({\"sku\": \"int32\", \"target_stock\": \"int16\"})\n",
        "test_set.max()  # Print max values to make sure values were not clipped."
      ],
      "execution_count": 17,
      "outputs": [
        {
          "output_type": "execute_result",
          "data": {
            "text/plain": [
              "sku             660914\n",
              "target_stock     32710\n",
              "dtype: int64"
            ]
          },
          "metadata": {
            "tags": []
          },
          "execution_count": 17
        }
      ]
    },
    {
      "cell_type": "markdown",
      "metadata": {
        "id": "a6Ogt9Hj62Fj"
      },
      "source": [
        "Let's check if there are any `sku` on `train_set` that is not present on `test_set`. I will only keep only those `sku` that needs to be predict in order to save resources."
      ]
    },
    {
      "cell_type": "code",
      "metadata": {
        "colab": {
          "base_uri": "https://localhost:8080/"
        },
        "id": "Use1aOn0S15T",
        "outputId": "abe5cf74-842a-4e9b-9cc2-9e7706aeec0e"
      },
      "source": [
        "diff = len(train_set[\"sku\"].unique()) - len(test_set[\"sku\"].unique())\n",
        "print(f\"There are {diff} more SKUs ont the train set.\")\n",
        "train_set = train_set[train_set[\"sku\"].isin(test_set[\"sku\"].unique())]\n",
        "assert len(train_set[\"sku\"].unique()) == len(test_set[\"sku\"].unique())"
      ],
      "execution_count": 18,
      "outputs": [
        {
          "output_type": "stream",
          "text": [
            "There are 109444 more SKUs ont the train set.\n"
          ],
          "name": "stdout"
        }
      ]
    },
    {
      "cell_type": "markdown",
      "metadata": {
        "id": "ckUE5Dmnop8E"
      },
      "source": [
        "#### Sparse Matrix\n",
        "If you notice the submission is a dense matrix with the probabilities of the item running out on that given day.\n",
        "\n",
        "To be comparable, the test set should be a sparse binary matrix with the day the item actually ran out.\n",
        "\n",
        "As the train set is way too big I will extract only the relevant columns."
      ]
    },
    {
      "cell_type": "code",
      "metadata": {
        "colab": {
          "base_uri": "https://localhost:8080/",
          "height": 204
        },
        "id": "3qcmEjDerzO4",
        "outputId": "c1c38d64-45e3-4e98-c89a-e44ca6961782"
      },
      "source": [
        "train_set_small = train_set[[\"sku\", \"date\", \"sold_quantity\"]]  # Extract columns\n",
        "train_set_small = train_set_small.sort_values([\"sku\", \"date\"])  # Sort for the cumulative sum\n",
        "train_set_small[\"cum_sold_quantity\"] = train_set_small.groupby([\"sku\"]).cumsum()\n",
        "\n",
        "train_set_small.head()"
      ],
      "execution_count": 19,
      "outputs": [
        {
          "output_type": "execute_result",
          "data": {
            "text/html": [
              "<div>\n",
              "<style scoped>\n",
              "    .dataframe tbody tr th:only-of-type {\n",
              "        vertical-align: middle;\n",
              "    }\n",
              "\n",
              "    .dataframe tbody tr th {\n",
              "        vertical-align: top;\n",
              "    }\n",
              "\n",
              "    .dataframe thead th {\n",
              "        text-align: right;\n",
              "    }\n",
              "</style>\n",
              "<table border=\"1\" class=\"dataframe\">\n",
              "  <thead>\n",
              "    <tr style=\"text-align: right;\">\n",
              "      <th></th>\n",
              "      <th>sku</th>\n",
              "      <th>date</th>\n",
              "      <th>sold_quantity</th>\n",
              "      <th>cum_sold_quantity</th>\n",
              "    </tr>\n",
              "  </thead>\n",
              "  <tbody>\n",
              "    <tr>\n",
              "      <th>6094273</th>\n",
              "      <td>0</td>\n",
              "      <td>2021-02-01</td>\n",
              "      <td>0</td>\n",
              "      <td>0</td>\n",
              "    </tr>\n",
              "    <tr>\n",
              "      <th>6094274</th>\n",
              "      <td>0</td>\n",
              "      <td>2021-02-02</td>\n",
              "      <td>0</td>\n",
              "      <td>0</td>\n",
              "    </tr>\n",
              "    <tr>\n",
              "      <th>6094275</th>\n",
              "      <td>0</td>\n",
              "      <td>2021-02-03</td>\n",
              "      <td>0</td>\n",
              "      <td>0</td>\n",
              "    </tr>\n",
              "    <tr>\n",
              "      <th>6094276</th>\n",
              "      <td>0</td>\n",
              "      <td>2021-02-04</td>\n",
              "      <td>0</td>\n",
              "      <td>0</td>\n",
              "    </tr>\n",
              "    <tr>\n",
              "      <th>6094277</th>\n",
              "      <td>0</td>\n",
              "      <td>2021-02-05</td>\n",
              "      <td>0</td>\n",
              "      <td>0</td>\n",
              "    </tr>\n",
              "  </tbody>\n",
              "</table>\n",
              "</div>"
            ],
            "text/plain": [
              "         sku       date  sold_quantity  cum_sold_quantity\n",
              "6094273    0 2021-02-01              0                  0\n",
              "6094274    0 2021-02-02              0                  0\n",
              "6094275    0 2021-02-03              0                  0\n",
              "6094276    0 2021-02-04              0                  0\n",
              "6094277    0 2021-02-05              0                  0"
            ]
          },
          "metadata": {
            "tags": []
          },
          "execution_count": 19
        }
      ]
    },
    {
      "cell_type": "markdown",
      "metadata": {
        "id": "Y7ZIKRF9Q7j3"
      },
      "source": [
        "Merge train and test sets."
      ]
    },
    {
      "cell_type": "code",
      "metadata": {
        "colab": {
          "base_uri": "https://localhost:8080/",
          "height": 204
        },
        "id": "Ndjgw5WoQfTQ",
        "outputId": "210b9713-dada-4f32-fef9-bc1bcf3c2199"
      },
      "source": [
        "train_set_small = train_set_small.drop(columns=\"sold_quantity\")  # Drop to release memory.\n",
        "train_set_small = train_set_small.merge(test_set, on=\"sku\", how=\"left\")\n",
        "\n",
        "assert train_set_small.isna().sum().sum() == 0\n",
        "assert len(train_set_small[\"sku\"].unique()) == len(test_set[\"sku\"].unique())\n",
        "\n",
        "del test_set  # Release memory\n",
        "\n",
        "train_set_small.tail()"
      ],
      "execution_count": 20,
      "outputs": [
        {
          "output_type": "execute_result",
          "data": {
            "text/html": [
              "<div>\n",
              "<style scoped>\n",
              "    .dataframe tbody tr th:only-of-type {\n",
              "        vertical-align: middle;\n",
              "    }\n",
              "\n",
              "    .dataframe tbody tr th {\n",
              "        vertical-align: top;\n",
              "    }\n",
              "\n",
              "    .dataframe thead th {\n",
              "        text-align: right;\n",
              "    }\n",
              "</style>\n",
              "<table border=\"1\" class=\"dataframe\">\n",
              "  <thead>\n",
              "    <tr style=\"text-align: right;\">\n",
              "      <th></th>\n",
              "      <th>sku</th>\n",
              "      <th>date</th>\n",
              "      <th>cum_sold_quantity</th>\n",
              "      <th>target_stock</th>\n",
              "    </tr>\n",
              "  </thead>\n",
              "  <tbody>\n",
              "    <tr>\n",
              "      <th>31284422</th>\n",
              "      <td>660914</td>\n",
              "      <td>2021-03-27</td>\n",
              "      <td>22</td>\n",
              "      <td>5</td>\n",
              "    </tr>\n",
              "    <tr>\n",
              "      <th>31284423</th>\n",
              "      <td>660914</td>\n",
              "      <td>2021-03-28</td>\n",
              "      <td>22</td>\n",
              "      <td>5</td>\n",
              "    </tr>\n",
              "    <tr>\n",
              "      <th>31284424</th>\n",
              "      <td>660914</td>\n",
              "      <td>2021-03-29</td>\n",
              "      <td>23</td>\n",
              "      <td>5</td>\n",
              "    </tr>\n",
              "    <tr>\n",
              "      <th>31284425</th>\n",
              "      <td>660914</td>\n",
              "      <td>2021-03-30</td>\n",
              "      <td>23</td>\n",
              "      <td>5</td>\n",
              "    </tr>\n",
              "    <tr>\n",
              "      <th>31284426</th>\n",
              "      <td>660914</td>\n",
              "      <td>2021-03-31</td>\n",
              "      <td>23</td>\n",
              "      <td>5</td>\n",
              "    </tr>\n",
              "  </tbody>\n",
              "</table>\n",
              "</div>"
            ],
            "text/plain": [
              "             sku       date  cum_sold_quantity  target_stock\n",
              "31284422  660914 2021-03-27                 22             5\n",
              "31284423  660914 2021-03-28                 22             5\n",
              "31284424  660914 2021-03-29                 23             5\n",
              "31284425  660914 2021-03-30                 23             5\n",
              "31284426  660914 2021-03-31                 23             5"
            ]
          },
          "metadata": {
            "tags": []
          },
          "execution_count": 20
        }
      ]
    },
    {
      "cell_type": "markdown",
      "metadata": {
        "id": "dK3SR6xDdULU"
      },
      "source": [
        "Calculate how many items there are for each date. When stock is 0 or less, it means it ran out of stock."
      ]
    },
    {
      "cell_type": "code",
      "metadata": {
        "colab": {
          "base_uri": "https://localhost:8080/",
          "height": 204
        },
        "id": "bgwJ2arLcF6r",
        "outputId": "898b5175-3abc-4d87-8935-4d28e848d038"
      },
      "source": [
        "train_set_small[\"stock\"] = train_set_small[\"target_stock\"] - train_set_small[\"cum_sold_quantity\"]\n",
        "train_set_small = train_set_small.drop(columns=[\"cum_sold_quantity\", \"target_stock\"])  # Drop to release memory.\n",
        "\n",
        "train_set_small.tail()"
      ],
      "execution_count": 21,
      "outputs": [
        {
          "output_type": "execute_result",
          "data": {
            "text/html": [
              "<div>\n",
              "<style scoped>\n",
              "    .dataframe tbody tr th:only-of-type {\n",
              "        vertical-align: middle;\n",
              "    }\n",
              "\n",
              "    .dataframe tbody tr th {\n",
              "        vertical-align: top;\n",
              "    }\n",
              "\n",
              "    .dataframe thead th {\n",
              "        text-align: right;\n",
              "    }\n",
              "</style>\n",
              "<table border=\"1\" class=\"dataframe\">\n",
              "  <thead>\n",
              "    <tr style=\"text-align: right;\">\n",
              "      <th></th>\n",
              "      <th>sku</th>\n",
              "      <th>date</th>\n",
              "      <th>stock</th>\n",
              "    </tr>\n",
              "  </thead>\n",
              "  <tbody>\n",
              "    <tr>\n",
              "      <th>31284422</th>\n",
              "      <td>660914</td>\n",
              "      <td>2021-03-27</td>\n",
              "      <td>-17</td>\n",
              "    </tr>\n",
              "    <tr>\n",
              "      <th>31284423</th>\n",
              "      <td>660914</td>\n",
              "      <td>2021-03-28</td>\n",
              "      <td>-17</td>\n",
              "    </tr>\n",
              "    <tr>\n",
              "      <th>31284424</th>\n",
              "      <td>660914</td>\n",
              "      <td>2021-03-29</td>\n",
              "      <td>-18</td>\n",
              "    </tr>\n",
              "    <tr>\n",
              "      <th>31284425</th>\n",
              "      <td>660914</td>\n",
              "      <td>2021-03-30</td>\n",
              "      <td>-18</td>\n",
              "    </tr>\n",
              "    <tr>\n",
              "      <th>31284426</th>\n",
              "      <td>660914</td>\n",
              "      <td>2021-03-31</td>\n",
              "      <td>-18</td>\n",
              "    </tr>\n",
              "  </tbody>\n",
              "</table>\n",
              "</div>"
            ],
            "text/plain": [
              "             sku       date  stock\n",
              "31284422  660914 2021-03-27    -17\n",
              "31284423  660914 2021-03-28    -17\n",
              "31284424  660914 2021-03-29    -18\n",
              "31284425  660914 2021-03-30    -18\n",
              "31284426  660914 2021-03-31    -18"
            ]
          },
          "metadata": {
            "tags": []
          },
          "execution_count": 21
        }
      ]
    },
    {
      "cell_type": "markdown",
      "metadata": {
        "id": "TJdhUMQddpQE"
      },
      "source": [
        "I will simply the date representation as difference in days from the initial data.\n",
        "\n",
        "The new representation will range from 0 to 29."
      ]
    },
    {
      "cell_type": "code",
      "metadata": {
        "colab": {
          "base_uri": "https://localhost:8080/",
          "height": 204
        },
        "id": "jVUTm3NMPe_M",
        "outputId": "1a35c14f-b965-4581-b295-d748e38eb7f3"
      },
      "source": [
        "# Group by date and get the minimum of each group.\n",
        "start_dates = train_set_small.groupby(\"sku\")[\"date\"].min()\n",
        "# Rename series name.\n",
        "start_dates.name = \"start_date\"\n",
        "# Join the new column to the dataset\n",
        "train_set_small = train_set_small.join(start_dates, on=\"sku\")\n",
        "del start_dates  # Release memory.\n",
        "# Calculate days of difference.\n",
        "train_set_small[\"day\"] = (train_set_small[\"date\"] - train_set_small[\"start_date\"]).dt.days.astype(\"int16\")\n",
        "# Drop columns no longer necessary to free memory.\n",
        "train_set_small = train_set_small.drop(columns=[\"date\", \"start_date\"])\n",
        "\n",
        "train_set_small.tail()"
      ],
      "execution_count": 22,
      "outputs": [
        {
          "output_type": "execute_result",
          "data": {
            "text/html": [
              "<div>\n",
              "<style scoped>\n",
              "    .dataframe tbody tr th:only-of-type {\n",
              "        vertical-align: middle;\n",
              "    }\n",
              "\n",
              "    .dataframe tbody tr th {\n",
              "        vertical-align: top;\n",
              "    }\n",
              "\n",
              "    .dataframe thead th {\n",
              "        text-align: right;\n",
              "    }\n",
              "</style>\n",
              "<table border=\"1\" class=\"dataframe\">\n",
              "  <thead>\n",
              "    <tr style=\"text-align: right;\">\n",
              "      <th></th>\n",
              "      <th>sku</th>\n",
              "      <th>stock</th>\n",
              "      <th>day</th>\n",
              "    </tr>\n",
              "  </thead>\n",
              "  <tbody>\n",
              "    <tr>\n",
              "      <th>31284422</th>\n",
              "      <td>660914</td>\n",
              "      <td>-17</td>\n",
              "      <td>54</td>\n",
              "    </tr>\n",
              "    <tr>\n",
              "      <th>31284423</th>\n",
              "      <td>660914</td>\n",
              "      <td>-17</td>\n",
              "      <td>55</td>\n",
              "    </tr>\n",
              "    <tr>\n",
              "      <th>31284424</th>\n",
              "      <td>660914</td>\n",
              "      <td>-18</td>\n",
              "      <td>56</td>\n",
              "    </tr>\n",
              "    <tr>\n",
              "      <th>31284425</th>\n",
              "      <td>660914</td>\n",
              "      <td>-18</td>\n",
              "      <td>57</td>\n",
              "    </tr>\n",
              "    <tr>\n",
              "      <th>31284426</th>\n",
              "      <td>660914</td>\n",
              "      <td>-18</td>\n",
              "      <td>58</td>\n",
              "    </tr>\n",
              "  </tbody>\n",
              "</table>\n",
              "</div>"
            ],
            "text/plain": [
              "             sku  stock  day\n",
              "31284422  660914    -17   54\n",
              "31284423  660914    -17   55\n",
              "31284424  660914    -18   56\n",
              "31284425  660914    -18   57\n",
              "31284426  660914    -18   58"
            ]
          },
          "metadata": {
            "tags": []
          },
          "execution_count": 22
        }
      ]
    },
    {
      "cell_type": "markdown",
      "metadata": {
        "id": "dyeIbD0shGUq"
      },
      "source": [
        "Get the day where the first stock zero happens.\n",
        "\n",
        "Also create a column for representing it is out of stock. Since this frame is all the days that it happened. It will be only ones."
      ]
    },
    {
      "cell_type": "code",
      "metadata": {
        "colab": {
          "base_uri": "https://localhost:8080/",
          "height": 235
        },
        "id": "yYC61yUOgtff",
        "outputId": "b059108b-c296-4101-8ac0-c28cfa55cf3a"
      },
      "source": [
        "out_of_stock_day = train_set_small[train_set_small[\"stock\"]  == 0].groupby(\"sku\").min()[[\"day\"]]\n",
        "out_of_stock_day[\"out_of_stock\"] = 1\n",
        "\n",
        "out_of_stock_day.head()"
      ],
      "execution_count": 23,
      "outputs": [
        {
          "output_type": "execute_result",
          "data": {
            "text/html": [
              "<div>\n",
              "<style scoped>\n",
              "    .dataframe tbody tr th:only-of-type {\n",
              "        vertical-align: middle;\n",
              "    }\n",
              "\n",
              "    .dataframe tbody tr th {\n",
              "        vertical-align: top;\n",
              "    }\n",
              "\n",
              "    .dataframe thead th {\n",
              "        text-align: right;\n",
              "    }\n",
              "</style>\n",
              "<table border=\"1\" class=\"dataframe\">\n",
              "  <thead>\n",
              "    <tr style=\"text-align: right;\">\n",
              "      <th></th>\n",
              "      <th>day</th>\n",
              "      <th>out_of_stock</th>\n",
              "    </tr>\n",
              "    <tr>\n",
              "      <th>sku</th>\n",
              "      <th></th>\n",
              "      <th></th>\n",
              "    </tr>\n",
              "  </thead>\n",
              "  <tbody>\n",
              "    <tr>\n",
              "      <th>0</th>\n",
              "      <td>44</td>\n",
              "      <td>1</td>\n",
              "    </tr>\n",
              "    <tr>\n",
              "      <th>3</th>\n",
              "      <td>5</td>\n",
              "      <td>1</td>\n",
              "    </tr>\n",
              "    <tr>\n",
              "      <th>5</th>\n",
              "      <td>56</td>\n",
              "      <td>1</td>\n",
              "    </tr>\n",
              "    <tr>\n",
              "      <th>6</th>\n",
              "      <td>3</td>\n",
              "      <td>1</td>\n",
              "    </tr>\n",
              "    <tr>\n",
              "      <th>10</th>\n",
              "      <td>12</td>\n",
              "      <td>1</td>\n",
              "    </tr>\n",
              "  </tbody>\n",
              "</table>\n",
              "</div>"
            ],
            "text/plain": [
              "     day  out_of_stock\n",
              "sku                   \n",
              "0     44             1\n",
              "3      5             1\n",
              "5     56             1\n",
              "6      3             1\n",
              "10    12             1"
            ]
          },
          "metadata": {
            "tags": []
          },
          "execution_count": 23
        }
      ]
    },
    {
      "cell_type": "markdown",
      "metadata": {
        "id": "J5V0RWemgrDt"
      },
      "source": [
        "Merge the out of stock column into the dataset. Also fill the rows that were not merged with zeroes, indicating they are not days where it ran out."
      ]
    },
    {
      "cell_type": "code",
      "metadata": {
        "colab": {
          "base_uri": "https://localhost:8080/",
          "height": 204
        },
        "id": "_naugU55J3QN",
        "outputId": "fae7e27a-4f80-4706-c6e2-0f04e2be9ff8"
      },
      "source": [
        "train_set_small = train_set_small.merge(out_of_stock_day, on=[\"sku\", \"day\"], how=\"left\")\n",
        "del out_of_stock_day  # Release memory.\n",
        " # If not 1, then it should be 0\n",
        "train_set_small[\"out_of_stock\"] = train_set_small[\"out_of_stock\"].fillna(0).astype(\"uint8\")\n",
        "train_set_small = train_set_small.drop(columns=[\"stock\"])  # Drop column to release memory.\n",
        "\n",
        "train_set_small.sample(5)"
      ],
      "execution_count": 24,
      "outputs": [
        {
          "output_type": "execute_result",
          "data": {
            "text/html": [
              "<div>\n",
              "<style scoped>\n",
              "    .dataframe tbody tr th:only-of-type {\n",
              "        vertical-align: middle;\n",
              "    }\n",
              "\n",
              "    .dataframe tbody tr th {\n",
              "        vertical-align: top;\n",
              "    }\n",
              "\n",
              "    .dataframe thead th {\n",
              "        text-align: right;\n",
              "    }\n",
              "</style>\n",
              "<table border=\"1\" class=\"dataframe\">\n",
              "  <thead>\n",
              "    <tr style=\"text-align: right;\">\n",
              "      <th></th>\n",
              "      <th>sku</th>\n",
              "      <th>day</th>\n",
              "      <th>out_of_stock</th>\n",
              "    </tr>\n",
              "  </thead>\n",
              "  <tbody>\n",
              "    <tr>\n",
              "      <th>29333646</th>\n",
              "      <td>619495</td>\n",
              "      <td>38</td>\n",
              "      <td>0</td>\n",
              "    </tr>\n",
              "    <tr>\n",
              "      <th>3155742</th>\n",
              "      <td>66589</td>\n",
              "      <td>8</td>\n",
              "      <td>0</td>\n",
              "    </tr>\n",
              "    <tr>\n",
              "      <th>26640536</th>\n",
              "      <td>562689</td>\n",
              "      <td>42</td>\n",
              "      <td>0</td>\n",
              "    </tr>\n",
              "    <tr>\n",
              "      <th>20372974</th>\n",
              "      <td>430187</td>\n",
              "      <td>55</td>\n",
              "      <td>0</td>\n",
              "    </tr>\n",
              "    <tr>\n",
              "      <th>26240379</th>\n",
              "      <td>554248</td>\n",
              "      <td>39</td>\n",
              "      <td>0</td>\n",
              "    </tr>\n",
              "  </tbody>\n",
              "</table>\n",
              "</div>"
            ],
            "text/plain": [
              "             sku  day  out_of_stock\n",
              "29333646  619495   38             0\n",
              "3155742    66589    8             0\n",
              "26640536  562689   42             0\n",
              "20372974  430187   55             0\n",
              "26240379  554248   39             0"
            ]
          },
          "metadata": {
            "tags": []
          },
          "execution_count": 24
        }
      ]
    },
    {
      "cell_type": "markdown",
      "metadata": {
        "id": "uvnc4cgec4YF"
      },
      "source": [
        "The output should be formatted as a sparse matrix, then I will pivot the data.\n",
        "\n",
        "Notice that this dataset has 1 only for the days that it ran out of stock for the first time, it is not comulative."
      ]
    },
    {
      "cell_type": "code",
      "metadata": {
        "colab": {
          "base_uri": "https://localhost:8080/",
          "height": 255
        },
        "id": "B4CQqoXAhzrK",
        "outputId": "42a98019-9ea6-4e75-95e5-ebdc54d76db2"
      },
      "source": [
        "y = train_set_small.pivot(index=\"sku\", columns=\"day\", values=\"out_of_stock\").fillna(0).astype(\"uint8\")  # use a light dtype\n",
        "del train_set_small  # Release memory.\n",
        "\n",
        "y.head()"
      ],
      "execution_count": 25,
      "outputs": [
        {
          "output_type": "execute_result",
          "data": {
            "text/html": [
              "<div>\n",
              "<style scoped>\n",
              "    .dataframe tbody tr th:only-of-type {\n",
              "        vertical-align: middle;\n",
              "    }\n",
              "\n",
              "    .dataframe tbody tr th {\n",
              "        vertical-align: top;\n",
              "    }\n",
              "\n",
              "    .dataframe thead th {\n",
              "        text-align: right;\n",
              "    }\n",
              "</style>\n",
              "<table border=\"1\" class=\"dataframe\">\n",
              "  <thead>\n",
              "    <tr style=\"text-align: right;\">\n",
              "      <th>day</th>\n",
              "      <th>0</th>\n",
              "      <th>1</th>\n",
              "      <th>2</th>\n",
              "      <th>3</th>\n",
              "      <th>4</th>\n",
              "      <th>5</th>\n",
              "      <th>6</th>\n",
              "      <th>7</th>\n",
              "      <th>8</th>\n",
              "      <th>9</th>\n",
              "      <th>10</th>\n",
              "      <th>11</th>\n",
              "      <th>12</th>\n",
              "      <th>13</th>\n",
              "      <th>14</th>\n",
              "      <th>15</th>\n",
              "      <th>16</th>\n",
              "      <th>17</th>\n",
              "      <th>18</th>\n",
              "      <th>19</th>\n",
              "      <th>20</th>\n",
              "      <th>21</th>\n",
              "      <th>22</th>\n",
              "      <th>23</th>\n",
              "      <th>24</th>\n",
              "      <th>25</th>\n",
              "      <th>26</th>\n",
              "      <th>27</th>\n",
              "      <th>28</th>\n",
              "      <th>29</th>\n",
              "      <th>30</th>\n",
              "      <th>31</th>\n",
              "      <th>32</th>\n",
              "      <th>33</th>\n",
              "      <th>34</th>\n",
              "      <th>35</th>\n",
              "      <th>36</th>\n",
              "      <th>37</th>\n",
              "      <th>38</th>\n",
              "      <th>39</th>\n",
              "      <th>40</th>\n",
              "      <th>41</th>\n",
              "      <th>42</th>\n",
              "      <th>43</th>\n",
              "      <th>44</th>\n",
              "      <th>45</th>\n",
              "      <th>46</th>\n",
              "      <th>47</th>\n",
              "      <th>48</th>\n",
              "      <th>49</th>\n",
              "      <th>50</th>\n",
              "      <th>51</th>\n",
              "      <th>52</th>\n",
              "      <th>53</th>\n",
              "      <th>54</th>\n",
              "      <th>55</th>\n",
              "      <th>56</th>\n",
              "      <th>57</th>\n",
              "      <th>58</th>\n",
              "    </tr>\n",
              "    <tr>\n",
              "      <th>sku</th>\n",
              "      <th></th>\n",
              "      <th></th>\n",
              "      <th></th>\n",
              "      <th></th>\n",
              "      <th></th>\n",
              "      <th></th>\n",
              "      <th></th>\n",
              "      <th></th>\n",
              "      <th></th>\n",
              "      <th></th>\n",
              "      <th></th>\n",
              "      <th></th>\n",
              "      <th></th>\n",
              "      <th></th>\n",
              "      <th></th>\n",
              "      <th></th>\n",
              "      <th></th>\n",
              "      <th></th>\n",
              "      <th></th>\n",
              "      <th></th>\n",
              "      <th></th>\n",
              "      <th></th>\n",
              "      <th></th>\n",
              "      <th></th>\n",
              "      <th></th>\n",
              "      <th></th>\n",
              "      <th></th>\n",
              "      <th></th>\n",
              "      <th></th>\n",
              "      <th></th>\n",
              "      <th></th>\n",
              "      <th></th>\n",
              "      <th></th>\n",
              "      <th></th>\n",
              "      <th></th>\n",
              "      <th></th>\n",
              "      <th></th>\n",
              "      <th></th>\n",
              "      <th></th>\n",
              "      <th></th>\n",
              "      <th></th>\n",
              "      <th></th>\n",
              "      <th></th>\n",
              "      <th></th>\n",
              "      <th></th>\n",
              "      <th></th>\n",
              "      <th></th>\n",
              "      <th></th>\n",
              "      <th></th>\n",
              "      <th></th>\n",
              "      <th></th>\n",
              "      <th></th>\n",
              "      <th></th>\n",
              "      <th></th>\n",
              "      <th></th>\n",
              "      <th></th>\n",
              "      <th></th>\n",
              "      <th></th>\n",
              "      <th></th>\n",
              "    </tr>\n",
              "  </thead>\n",
              "  <tbody>\n",
              "    <tr>\n",
              "      <th>0</th>\n",
              "      <td>0</td>\n",
              "      <td>0</td>\n",
              "      <td>0</td>\n",
              "      <td>0</td>\n",
              "      <td>0</td>\n",
              "      <td>0</td>\n",
              "      <td>0</td>\n",
              "      <td>0</td>\n",
              "      <td>0</td>\n",
              "      <td>0</td>\n",
              "      <td>0</td>\n",
              "      <td>0</td>\n",
              "      <td>0</td>\n",
              "      <td>0</td>\n",
              "      <td>0</td>\n",
              "      <td>0</td>\n",
              "      <td>0</td>\n",
              "      <td>0</td>\n",
              "      <td>0</td>\n",
              "      <td>0</td>\n",
              "      <td>0</td>\n",
              "      <td>0</td>\n",
              "      <td>0</td>\n",
              "      <td>0</td>\n",
              "      <td>0</td>\n",
              "      <td>0</td>\n",
              "      <td>0</td>\n",
              "      <td>0</td>\n",
              "      <td>0</td>\n",
              "      <td>0</td>\n",
              "      <td>0</td>\n",
              "      <td>0</td>\n",
              "      <td>0</td>\n",
              "      <td>0</td>\n",
              "      <td>0</td>\n",
              "      <td>0</td>\n",
              "      <td>0</td>\n",
              "      <td>0</td>\n",
              "      <td>0</td>\n",
              "      <td>0</td>\n",
              "      <td>0</td>\n",
              "      <td>0</td>\n",
              "      <td>0</td>\n",
              "      <td>0</td>\n",
              "      <td>1</td>\n",
              "      <td>0</td>\n",
              "      <td>0</td>\n",
              "      <td>0</td>\n",
              "      <td>0</td>\n",
              "      <td>0</td>\n",
              "      <td>0</td>\n",
              "      <td>0</td>\n",
              "      <td>0</td>\n",
              "      <td>0</td>\n",
              "      <td>0</td>\n",
              "      <td>0</td>\n",
              "      <td>0</td>\n",
              "      <td>0</td>\n",
              "      <td>0</td>\n",
              "    </tr>\n",
              "    <tr>\n",
              "      <th>1</th>\n",
              "      <td>0</td>\n",
              "      <td>0</td>\n",
              "      <td>0</td>\n",
              "      <td>0</td>\n",
              "      <td>0</td>\n",
              "      <td>0</td>\n",
              "      <td>0</td>\n",
              "      <td>0</td>\n",
              "      <td>0</td>\n",
              "      <td>0</td>\n",
              "      <td>0</td>\n",
              "      <td>0</td>\n",
              "      <td>0</td>\n",
              "      <td>0</td>\n",
              "      <td>0</td>\n",
              "      <td>0</td>\n",
              "      <td>0</td>\n",
              "      <td>0</td>\n",
              "      <td>0</td>\n",
              "      <td>0</td>\n",
              "      <td>0</td>\n",
              "      <td>0</td>\n",
              "      <td>0</td>\n",
              "      <td>0</td>\n",
              "      <td>0</td>\n",
              "      <td>0</td>\n",
              "      <td>0</td>\n",
              "      <td>0</td>\n",
              "      <td>0</td>\n",
              "      <td>0</td>\n",
              "      <td>0</td>\n",
              "      <td>0</td>\n",
              "      <td>0</td>\n",
              "      <td>0</td>\n",
              "      <td>0</td>\n",
              "      <td>0</td>\n",
              "      <td>0</td>\n",
              "      <td>0</td>\n",
              "      <td>0</td>\n",
              "      <td>0</td>\n",
              "      <td>0</td>\n",
              "      <td>0</td>\n",
              "      <td>0</td>\n",
              "      <td>0</td>\n",
              "      <td>0</td>\n",
              "      <td>0</td>\n",
              "      <td>0</td>\n",
              "      <td>0</td>\n",
              "      <td>0</td>\n",
              "      <td>0</td>\n",
              "      <td>0</td>\n",
              "      <td>0</td>\n",
              "      <td>0</td>\n",
              "      <td>0</td>\n",
              "      <td>0</td>\n",
              "      <td>0</td>\n",
              "      <td>0</td>\n",
              "      <td>0</td>\n",
              "      <td>0</td>\n",
              "    </tr>\n",
              "    <tr>\n",
              "      <th>2</th>\n",
              "      <td>0</td>\n",
              "      <td>0</td>\n",
              "      <td>0</td>\n",
              "      <td>0</td>\n",
              "      <td>0</td>\n",
              "      <td>0</td>\n",
              "      <td>0</td>\n",
              "      <td>0</td>\n",
              "      <td>0</td>\n",
              "      <td>0</td>\n",
              "      <td>0</td>\n",
              "      <td>0</td>\n",
              "      <td>0</td>\n",
              "      <td>0</td>\n",
              "      <td>0</td>\n",
              "      <td>0</td>\n",
              "      <td>0</td>\n",
              "      <td>0</td>\n",
              "      <td>0</td>\n",
              "      <td>0</td>\n",
              "      <td>0</td>\n",
              "      <td>0</td>\n",
              "      <td>0</td>\n",
              "      <td>0</td>\n",
              "      <td>0</td>\n",
              "      <td>0</td>\n",
              "      <td>0</td>\n",
              "      <td>0</td>\n",
              "      <td>0</td>\n",
              "      <td>0</td>\n",
              "      <td>0</td>\n",
              "      <td>0</td>\n",
              "      <td>0</td>\n",
              "      <td>0</td>\n",
              "      <td>0</td>\n",
              "      <td>0</td>\n",
              "      <td>0</td>\n",
              "      <td>0</td>\n",
              "      <td>0</td>\n",
              "      <td>0</td>\n",
              "      <td>0</td>\n",
              "      <td>0</td>\n",
              "      <td>0</td>\n",
              "      <td>0</td>\n",
              "      <td>0</td>\n",
              "      <td>0</td>\n",
              "      <td>0</td>\n",
              "      <td>0</td>\n",
              "      <td>0</td>\n",
              "      <td>0</td>\n",
              "      <td>0</td>\n",
              "      <td>0</td>\n",
              "      <td>0</td>\n",
              "      <td>0</td>\n",
              "      <td>0</td>\n",
              "      <td>0</td>\n",
              "      <td>0</td>\n",
              "      <td>0</td>\n",
              "      <td>0</td>\n",
              "    </tr>\n",
              "    <tr>\n",
              "      <th>3</th>\n",
              "      <td>0</td>\n",
              "      <td>0</td>\n",
              "      <td>0</td>\n",
              "      <td>0</td>\n",
              "      <td>0</td>\n",
              "      <td>1</td>\n",
              "      <td>0</td>\n",
              "      <td>0</td>\n",
              "      <td>0</td>\n",
              "      <td>0</td>\n",
              "      <td>0</td>\n",
              "      <td>0</td>\n",
              "      <td>0</td>\n",
              "      <td>0</td>\n",
              "      <td>0</td>\n",
              "      <td>0</td>\n",
              "      <td>0</td>\n",
              "      <td>0</td>\n",
              "      <td>0</td>\n",
              "      <td>0</td>\n",
              "      <td>0</td>\n",
              "      <td>0</td>\n",
              "      <td>0</td>\n",
              "      <td>0</td>\n",
              "      <td>0</td>\n",
              "      <td>0</td>\n",
              "      <td>0</td>\n",
              "      <td>0</td>\n",
              "      <td>0</td>\n",
              "      <td>0</td>\n",
              "      <td>0</td>\n",
              "      <td>0</td>\n",
              "      <td>0</td>\n",
              "      <td>0</td>\n",
              "      <td>0</td>\n",
              "      <td>0</td>\n",
              "      <td>0</td>\n",
              "      <td>0</td>\n",
              "      <td>0</td>\n",
              "      <td>0</td>\n",
              "      <td>0</td>\n",
              "      <td>0</td>\n",
              "      <td>0</td>\n",
              "      <td>0</td>\n",
              "      <td>0</td>\n",
              "      <td>0</td>\n",
              "      <td>0</td>\n",
              "      <td>0</td>\n",
              "      <td>0</td>\n",
              "      <td>0</td>\n",
              "      <td>0</td>\n",
              "      <td>0</td>\n",
              "      <td>0</td>\n",
              "      <td>0</td>\n",
              "      <td>0</td>\n",
              "      <td>0</td>\n",
              "      <td>0</td>\n",
              "      <td>0</td>\n",
              "      <td>0</td>\n",
              "    </tr>\n",
              "    <tr>\n",
              "      <th>5</th>\n",
              "      <td>0</td>\n",
              "      <td>0</td>\n",
              "      <td>0</td>\n",
              "      <td>0</td>\n",
              "      <td>0</td>\n",
              "      <td>0</td>\n",
              "      <td>0</td>\n",
              "      <td>0</td>\n",
              "      <td>0</td>\n",
              "      <td>0</td>\n",
              "      <td>0</td>\n",
              "      <td>0</td>\n",
              "      <td>0</td>\n",
              "      <td>0</td>\n",
              "      <td>0</td>\n",
              "      <td>0</td>\n",
              "      <td>0</td>\n",
              "      <td>0</td>\n",
              "      <td>0</td>\n",
              "      <td>0</td>\n",
              "      <td>0</td>\n",
              "      <td>0</td>\n",
              "      <td>0</td>\n",
              "      <td>0</td>\n",
              "      <td>0</td>\n",
              "      <td>0</td>\n",
              "      <td>0</td>\n",
              "      <td>0</td>\n",
              "      <td>0</td>\n",
              "      <td>0</td>\n",
              "      <td>0</td>\n",
              "      <td>0</td>\n",
              "      <td>0</td>\n",
              "      <td>0</td>\n",
              "      <td>0</td>\n",
              "      <td>0</td>\n",
              "      <td>0</td>\n",
              "      <td>0</td>\n",
              "      <td>0</td>\n",
              "      <td>0</td>\n",
              "      <td>0</td>\n",
              "      <td>0</td>\n",
              "      <td>0</td>\n",
              "      <td>0</td>\n",
              "      <td>0</td>\n",
              "      <td>0</td>\n",
              "      <td>0</td>\n",
              "      <td>0</td>\n",
              "      <td>0</td>\n",
              "      <td>0</td>\n",
              "      <td>0</td>\n",
              "      <td>0</td>\n",
              "      <td>0</td>\n",
              "      <td>0</td>\n",
              "      <td>0</td>\n",
              "      <td>0</td>\n",
              "      <td>1</td>\n",
              "      <td>0</td>\n",
              "      <td>0</td>\n",
              "    </tr>\n",
              "  </tbody>\n",
              "</table>\n",
              "</div>"
            ],
            "text/plain": [
              "day  0   1   2   3   4   5   6   7   8   ...  50  51  52  53  54  55  56  57  58\n",
              "sku                                      ...                                    \n",
              "0     0   0   0   0   0   0   0   0   0  ...   0   0   0   0   0   0   0   0   0\n",
              "1     0   0   0   0   0   0   0   0   0  ...   0   0   0   0   0   0   0   0   0\n",
              "2     0   0   0   0   0   0   0   0   0  ...   0   0   0   0   0   0   0   0   0\n",
              "3     0   0   0   0   0   1   0   0   0  ...   0   0   0   0   0   0   0   0   0\n",
              "5     0   0   0   0   0   0   0   0   0  ...   0   0   0   0   0   0   1   0   0\n",
              "\n",
              "[5 rows x 59 columns]"
            ]
          },
          "metadata": {
            "tags": []
          },
          "execution_count": 25
        }
      ]
    },
    {
      "cell_type": "markdown",
      "metadata": {
        "id": "jmC5uYD-h2fj"
      },
      "source": [
        "Fill NaNs with values from 0."
      ]
    },
    {
      "cell_type": "code",
      "metadata": {
        "colab": {
          "base_uri": "https://localhost:8080/",
          "height": 255
        },
        "id": "Y4lwxscfeWOI",
        "outputId": "42657a2d-4148-465e-c09f-620147977086"
      },
      "source": [
        "y = y.fillna(0)\n",
        "\n",
        "y.head()"
      ],
      "execution_count": 26,
      "outputs": [
        {
          "output_type": "execute_result",
          "data": {
            "text/html": [
              "<div>\n",
              "<style scoped>\n",
              "    .dataframe tbody tr th:only-of-type {\n",
              "        vertical-align: middle;\n",
              "    }\n",
              "\n",
              "    .dataframe tbody tr th {\n",
              "        vertical-align: top;\n",
              "    }\n",
              "\n",
              "    .dataframe thead th {\n",
              "        text-align: right;\n",
              "    }\n",
              "</style>\n",
              "<table border=\"1\" class=\"dataframe\">\n",
              "  <thead>\n",
              "    <tr style=\"text-align: right;\">\n",
              "      <th>day</th>\n",
              "      <th>0</th>\n",
              "      <th>1</th>\n",
              "      <th>2</th>\n",
              "      <th>3</th>\n",
              "      <th>4</th>\n",
              "      <th>5</th>\n",
              "      <th>6</th>\n",
              "      <th>7</th>\n",
              "      <th>8</th>\n",
              "      <th>9</th>\n",
              "      <th>10</th>\n",
              "      <th>11</th>\n",
              "      <th>12</th>\n",
              "      <th>13</th>\n",
              "      <th>14</th>\n",
              "      <th>15</th>\n",
              "      <th>16</th>\n",
              "      <th>17</th>\n",
              "      <th>18</th>\n",
              "      <th>19</th>\n",
              "      <th>20</th>\n",
              "      <th>21</th>\n",
              "      <th>22</th>\n",
              "      <th>23</th>\n",
              "      <th>24</th>\n",
              "      <th>25</th>\n",
              "      <th>26</th>\n",
              "      <th>27</th>\n",
              "      <th>28</th>\n",
              "      <th>29</th>\n",
              "      <th>30</th>\n",
              "      <th>31</th>\n",
              "      <th>32</th>\n",
              "      <th>33</th>\n",
              "      <th>34</th>\n",
              "      <th>35</th>\n",
              "      <th>36</th>\n",
              "      <th>37</th>\n",
              "      <th>38</th>\n",
              "      <th>39</th>\n",
              "      <th>40</th>\n",
              "      <th>41</th>\n",
              "      <th>42</th>\n",
              "      <th>43</th>\n",
              "      <th>44</th>\n",
              "      <th>45</th>\n",
              "      <th>46</th>\n",
              "      <th>47</th>\n",
              "      <th>48</th>\n",
              "      <th>49</th>\n",
              "      <th>50</th>\n",
              "      <th>51</th>\n",
              "      <th>52</th>\n",
              "      <th>53</th>\n",
              "      <th>54</th>\n",
              "      <th>55</th>\n",
              "      <th>56</th>\n",
              "      <th>57</th>\n",
              "      <th>58</th>\n",
              "    </tr>\n",
              "    <tr>\n",
              "      <th>sku</th>\n",
              "      <th></th>\n",
              "      <th></th>\n",
              "      <th></th>\n",
              "      <th></th>\n",
              "      <th></th>\n",
              "      <th></th>\n",
              "      <th></th>\n",
              "      <th></th>\n",
              "      <th></th>\n",
              "      <th></th>\n",
              "      <th></th>\n",
              "      <th></th>\n",
              "      <th></th>\n",
              "      <th></th>\n",
              "      <th></th>\n",
              "      <th></th>\n",
              "      <th></th>\n",
              "      <th></th>\n",
              "      <th></th>\n",
              "      <th></th>\n",
              "      <th></th>\n",
              "      <th></th>\n",
              "      <th></th>\n",
              "      <th></th>\n",
              "      <th></th>\n",
              "      <th></th>\n",
              "      <th></th>\n",
              "      <th></th>\n",
              "      <th></th>\n",
              "      <th></th>\n",
              "      <th></th>\n",
              "      <th></th>\n",
              "      <th></th>\n",
              "      <th></th>\n",
              "      <th></th>\n",
              "      <th></th>\n",
              "      <th></th>\n",
              "      <th></th>\n",
              "      <th></th>\n",
              "      <th></th>\n",
              "      <th></th>\n",
              "      <th></th>\n",
              "      <th></th>\n",
              "      <th></th>\n",
              "      <th></th>\n",
              "      <th></th>\n",
              "      <th></th>\n",
              "      <th></th>\n",
              "      <th></th>\n",
              "      <th></th>\n",
              "      <th></th>\n",
              "      <th></th>\n",
              "      <th></th>\n",
              "      <th></th>\n",
              "      <th></th>\n",
              "      <th></th>\n",
              "      <th></th>\n",
              "      <th></th>\n",
              "      <th></th>\n",
              "    </tr>\n",
              "  </thead>\n",
              "  <tbody>\n",
              "    <tr>\n",
              "      <th>0</th>\n",
              "      <td>0</td>\n",
              "      <td>0</td>\n",
              "      <td>0</td>\n",
              "      <td>0</td>\n",
              "      <td>0</td>\n",
              "      <td>0</td>\n",
              "      <td>0</td>\n",
              "      <td>0</td>\n",
              "      <td>0</td>\n",
              "      <td>0</td>\n",
              "      <td>0</td>\n",
              "      <td>0</td>\n",
              "      <td>0</td>\n",
              "      <td>0</td>\n",
              "      <td>0</td>\n",
              "      <td>0</td>\n",
              "      <td>0</td>\n",
              "      <td>0</td>\n",
              "      <td>0</td>\n",
              "      <td>0</td>\n",
              "      <td>0</td>\n",
              "      <td>0</td>\n",
              "      <td>0</td>\n",
              "      <td>0</td>\n",
              "      <td>0</td>\n",
              "      <td>0</td>\n",
              "      <td>0</td>\n",
              "      <td>0</td>\n",
              "      <td>0</td>\n",
              "      <td>0</td>\n",
              "      <td>0</td>\n",
              "      <td>0</td>\n",
              "      <td>0</td>\n",
              "      <td>0</td>\n",
              "      <td>0</td>\n",
              "      <td>0</td>\n",
              "      <td>0</td>\n",
              "      <td>0</td>\n",
              "      <td>0</td>\n",
              "      <td>0</td>\n",
              "      <td>0</td>\n",
              "      <td>0</td>\n",
              "      <td>0</td>\n",
              "      <td>0</td>\n",
              "      <td>1</td>\n",
              "      <td>0</td>\n",
              "      <td>0</td>\n",
              "      <td>0</td>\n",
              "      <td>0</td>\n",
              "      <td>0</td>\n",
              "      <td>0</td>\n",
              "      <td>0</td>\n",
              "      <td>0</td>\n",
              "      <td>0</td>\n",
              "      <td>0</td>\n",
              "      <td>0</td>\n",
              "      <td>0</td>\n",
              "      <td>0</td>\n",
              "      <td>0</td>\n",
              "    </tr>\n",
              "    <tr>\n",
              "      <th>1</th>\n",
              "      <td>0</td>\n",
              "      <td>0</td>\n",
              "      <td>0</td>\n",
              "      <td>0</td>\n",
              "      <td>0</td>\n",
              "      <td>0</td>\n",
              "      <td>0</td>\n",
              "      <td>0</td>\n",
              "      <td>0</td>\n",
              "      <td>0</td>\n",
              "      <td>0</td>\n",
              "      <td>0</td>\n",
              "      <td>0</td>\n",
              "      <td>0</td>\n",
              "      <td>0</td>\n",
              "      <td>0</td>\n",
              "      <td>0</td>\n",
              "      <td>0</td>\n",
              "      <td>0</td>\n",
              "      <td>0</td>\n",
              "      <td>0</td>\n",
              "      <td>0</td>\n",
              "      <td>0</td>\n",
              "      <td>0</td>\n",
              "      <td>0</td>\n",
              "      <td>0</td>\n",
              "      <td>0</td>\n",
              "      <td>0</td>\n",
              "      <td>0</td>\n",
              "      <td>0</td>\n",
              "      <td>0</td>\n",
              "      <td>0</td>\n",
              "      <td>0</td>\n",
              "      <td>0</td>\n",
              "      <td>0</td>\n",
              "      <td>0</td>\n",
              "      <td>0</td>\n",
              "      <td>0</td>\n",
              "      <td>0</td>\n",
              "      <td>0</td>\n",
              "      <td>0</td>\n",
              "      <td>0</td>\n",
              "      <td>0</td>\n",
              "      <td>0</td>\n",
              "      <td>0</td>\n",
              "      <td>0</td>\n",
              "      <td>0</td>\n",
              "      <td>0</td>\n",
              "      <td>0</td>\n",
              "      <td>0</td>\n",
              "      <td>0</td>\n",
              "      <td>0</td>\n",
              "      <td>0</td>\n",
              "      <td>0</td>\n",
              "      <td>0</td>\n",
              "      <td>0</td>\n",
              "      <td>0</td>\n",
              "      <td>0</td>\n",
              "      <td>0</td>\n",
              "    </tr>\n",
              "    <tr>\n",
              "      <th>2</th>\n",
              "      <td>0</td>\n",
              "      <td>0</td>\n",
              "      <td>0</td>\n",
              "      <td>0</td>\n",
              "      <td>0</td>\n",
              "      <td>0</td>\n",
              "      <td>0</td>\n",
              "      <td>0</td>\n",
              "      <td>0</td>\n",
              "      <td>0</td>\n",
              "      <td>0</td>\n",
              "      <td>0</td>\n",
              "      <td>0</td>\n",
              "      <td>0</td>\n",
              "      <td>0</td>\n",
              "      <td>0</td>\n",
              "      <td>0</td>\n",
              "      <td>0</td>\n",
              "      <td>0</td>\n",
              "      <td>0</td>\n",
              "      <td>0</td>\n",
              "      <td>0</td>\n",
              "      <td>0</td>\n",
              "      <td>0</td>\n",
              "      <td>0</td>\n",
              "      <td>0</td>\n",
              "      <td>0</td>\n",
              "      <td>0</td>\n",
              "      <td>0</td>\n",
              "      <td>0</td>\n",
              "      <td>0</td>\n",
              "      <td>0</td>\n",
              "      <td>0</td>\n",
              "      <td>0</td>\n",
              "      <td>0</td>\n",
              "      <td>0</td>\n",
              "      <td>0</td>\n",
              "      <td>0</td>\n",
              "      <td>0</td>\n",
              "      <td>0</td>\n",
              "      <td>0</td>\n",
              "      <td>0</td>\n",
              "      <td>0</td>\n",
              "      <td>0</td>\n",
              "      <td>0</td>\n",
              "      <td>0</td>\n",
              "      <td>0</td>\n",
              "      <td>0</td>\n",
              "      <td>0</td>\n",
              "      <td>0</td>\n",
              "      <td>0</td>\n",
              "      <td>0</td>\n",
              "      <td>0</td>\n",
              "      <td>0</td>\n",
              "      <td>0</td>\n",
              "      <td>0</td>\n",
              "      <td>0</td>\n",
              "      <td>0</td>\n",
              "      <td>0</td>\n",
              "    </tr>\n",
              "    <tr>\n",
              "      <th>3</th>\n",
              "      <td>0</td>\n",
              "      <td>0</td>\n",
              "      <td>0</td>\n",
              "      <td>0</td>\n",
              "      <td>0</td>\n",
              "      <td>1</td>\n",
              "      <td>0</td>\n",
              "      <td>0</td>\n",
              "      <td>0</td>\n",
              "      <td>0</td>\n",
              "      <td>0</td>\n",
              "      <td>0</td>\n",
              "      <td>0</td>\n",
              "      <td>0</td>\n",
              "      <td>0</td>\n",
              "      <td>0</td>\n",
              "      <td>0</td>\n",
              "      <td>0</td>\n",
              "      <td>0</td>\n",
              "      <td>0</td>\n",
              "      <td>0</td>\n",
              "      <td>0</td>\n",
              "      <td>0</td>\n",
              "      <td>0</td>\n",
              "      <td>0</td>\n",
              "      <td>0</td>\n",
              "      <td>0</td>\n",
              "      <td>0</td>\n",
              "      <td>0</td>\n",
              "      <td>0</td>\n",
              "      <td>0</td>\n",
              "      <td>0</td>\n",
              "      <td>0</td>\n",
              "      <td>0</td>\n",
              "      <td>0</td>\n",
              "      <td>0</td>\n",
              "      <td>0</td>\n",
              "      <td>0</td>\n",
              "      <td>0</td>\n",
              "      <td>0</td>\n",
              "      <td>0</td>\n",
              "      <td>0</td>\n",
              "      <td>0</td>\n",
              "      <td>0</td>\n",
              "      <td>0</td>\n",
              "      <td>0</td>\n",
              "      <td>0</td>\n",
              "      <td>0</td>\n",
              "      <td>0</td>\n",
              "      <td>0</td>\n",
              "      <td>0</td>\n",
              "      <td>0</td>\n",
              "      <td>0</td>\n",
              "      <td>0</td>\n",
              "      <td>0</td>\n",
              "      <td>0</td>\n",
              "      <td>0</td>\n",
              "      <td>0</td>\n",
              "      <td>0</td>\n",
              "    </tr>\n",
              "    <tr>\n",
              "      <th>5</th>\n",
              "      <td>0</td>\n",
              "      <td>0</td>\n",
              "      <td>0</td>\n",
              "      <td>0</td>\n",
              "      <td>0</td>\n",
              "      <td>0</td>\n",
              "      <td>0</td>\n",
              "      <td>0</td>\n",
              "      <td>0</td>\n",
              "      <td>0</td>\n",
              "      <td>0</td>\n",
              "      <td>0</td>\n",
              "      <td>0</td>\n",
              "      <td>0</td>\n",
              "      <td>0</td>\n",
              "      <td>0</td>\n",
              "      <td>0</td>\n",
              "      <td>0</td>\n",
              "      <td>0</td>\n",
              "      <td>0</td>\n",
              "      <td>0</td>\n",
              "      <td>0</td>\n",
              "      <td>0</td>\n",
              "      <td>0</td>\n",
              "      <td>0</td>\n",
              "      <td>0</td>\n",
              "      <td>0</td>\n",
              "      <td>0</td>\n",
              "      <td>0</td>\n",
              "      <td>0</td>\n",
              "      <td>0</td>\n",
              "      <td>0</td>\n",
              "      <td>0</td>\n",
              "      <td>0</td>\n",
              "      <td>0</td>\n",
              "      <td>0</td>\n",
              "      <td>0</td>\n",
              "      <td>0</td>\n",
              "      <td>0</td>\n",
              "      <td>0</td>\n",
              "      <td>0</td>\n",
              "      <td>0</td>\n",
              "      <td>0</td>\n",
              "      <td>0</td>\n",
              "      <td>0</td>\n",
              "      <td>0</td>\n",
              "      <td>0</td>\n",
              "      <td>0</td>\n",
              "      <td>0</td>\n",
              "      <td>0</td>\n",
              "      <td>0</td>\n",
              "      <td>0</td>\n",
              "      <td>0</td>\n",
              "      <td>0</td>\n",
              "      <td>0</td>\n",
              "      <td>0</td>\n",
              "      <td>1</td>\n",
              "      <td>0</td>\n",
              "      <td>0</td>\n",
              "    </tr>\n",
              "  </tbody>\n",
              "</table>\n",
              "</div>"
            ],
            "text/plain": [
              "day  0   1   2   3   4   5   6   7   8   ...  50  51  52  53  54  55  56  57  58\n",
              "sku                                      ...                                    \n",
              "0     0   0   0   0   0   0   0   0   0  ...   0   0   0   0   0   0   0   0   0\n",
              "1     0   0   0   0   0   0   0   0   0  ...   0   0   0   0   0   0   0   0   0\n",
              "2     0   0   0   0   0   0   0   0   0  ...   0   0   0   0   0   0   0   0   0\n",
              "3     0   0   0   0   0   1   0   0   0  ...   0   0   0   0   0   0   0   0   0\n",
              "5     0   0   0   0   0   0   0   0   0  ...   0   0   0   0   0   0   1   0   0\n",
              "\n",
              "[5 rows x 59 columns]"
            ]
          },
          "metadata": {
            "tags": []
          },
          "execution_count": 26
        }
      ]
    },
    {
      "cell_type": "markdown",
      "metadata": {
        "id": "sgFViUfksXrm"
      },
      "source": [
        "Keep only values from the first 30 days."
      ]
    },
    {
      "cell_type": "code",
      "metadata": {
        "colab": {
          "base_uri": "https://localhost:8080/",
          "height": 235
        },
        "id": "Z2ivKybGsXVO",
        "outputId": "311758b7-175c-49c4-df9c-aa2bc8ccd62f"
      },
      "source": [
        "y = y.iloc[:, :30]\n",
        "\n",
        "# Make sure shape is right.\n",
        "assert sample_submission.shape == y.shape\n",
        "\n",
        "y.head()"
      ],
      "execution_count": 27,
      "outputs": [
        {
          "output_type": "execute_result",
          "data": {
            "text/html": [
              "<div>\n",
              "<style scoped>\n",
              "    .dataframe tbody tr th:only-of-type {\n",
              "        vertical-align: middle;\n",
              "    }\n",
              "\n",
              "    .dataframe tbody tr th {\n",
              "        vertical-align: top;\n",
              "    }\n",
              "\n",
              "    .dataframe thead th {\n",
              "        text-align: right;\n",
              "    }\n",
              "</style>\n",
              "<table border=\"1\" class=\"dataframe\">\n",
              "  <thead>\n",
              "    <tr style=\"text-align: right;\">\n",
              "      <th>day</th>\n",
              "      <th>0</th>\n",
              "      <th>1</th>\n",
              "      <th>2</th>\n",
              "      <th>3</th>\n",
              "      <th>4</th>\n",
              "      <th>5</th>\n",
              "      <th>6</th>\n",
              "      <th>7</th>\n",
              "      <th>8</th>\n",
              "      <th>9</th>\n",
              "      <th>10</th>\n",
              "      <th>11</th>\n",
              "      <th>12</th>\n",
              "      <th>13</th>\n",
              "      <th>14</th>\n",
              "      <th>15</th>\n",
              "      <th>16</th>\n",
              "      <th>17</th>\n",
              "      <th>18</th>\n",
              "      <th>19</th>\n",
              "      <th>20</th>\n",
              "      <th>21</th>\n",
              "      <th>22</th>\n",
              "      <th>23</th>\n",
              "      <th>24</th>\n",
              "      <th>25</th>\n",
              "      <th>26</th>\n",
              "      <th>27</th>\n",
              "      <th>28</th>\n",
              "      <th>29</th>\n",
              "    </tr>\n",
              "    <tr>\n",
              "      <th>sku</th>\n",
              "      <th></th>\n",
              "      <th></th>\n",
              "      <th></th>\n",
              "      <th></th>\n",
              "      <th></th>\n",
              "      <th></th>\n",
              "      <th></th>\n",
              "      <th></th>\n",
              "      <th></th>\n",
              "      <th></th>\n",
              "      <th></th>\n",
              "      <th></th>\n",
              "      <th></th>\n",
              "      <th></th>\n",
              "      <th></th>\n",
              "      <th></th>\n",
              "      <th></th>\n",
              "      <th></th>\n",
              "      <th></th>\n",
              "      <th></th>\n",
              "      <th></th>\n",
              "      <th></th>\n",
              "      <th></th>\n",
              "      <th></th>\n",
              "      <th></th>\n",
              "      <th></th>\n",
              "      <th></th>\n",
              "      <th></th>\n",
              "      <th></th>\n",
              "      <th></th>\n",
              "    </tr>\n",
              "  </thead>\n",
              "  <tbody>\n",
              "    <tr>\n",
              "      <th>0</th>\n",
              "      <td>0</td>\n",
              "      <td>0</td>\n",
              "      <td>0</td>\n",
              "      <td>0</td>\n",
              "      <td>0</td>\n",
              "      <td>0</td>\n",
              "      <td>0</td>\n",
              "      <td>0</td>\n",
              "      <td>0</td>\n",
              "      <td>0</td>\n",
              "      <td>0</td>\n",
              "      <td>0</td>\n",
              "      <td>0</td>\n",
              "      <td>0</td>\n",
              "      <td>0</td>\n",
              "      <td>0</td>\n",
              "      <td>0</td>\n",
              "      <td>0</td>\n",
              "      <td>0</td>\n",
              "      <td>0</td>\n",
              "      <td>0</td>\n",
              "      <td>0</td>\n",
              "      <td>0</td>\n",
              "      <td>0</td>\n",
              "      <td>0</td>\n",
              "      <td>0</td>\n",
              "      <td>0</td>\n",
              "      <td>0</td>\n",
              "      <td>0</td>\n",
              "      <td>0</td>\n",
              "    </tr>\n",
              "    <tr>\n",
              "      <th>1</th>\n",
              "      <td>0</td>\n",
              "      <td>0</td>\n",
              "      <td>0</td>\n",
              "      <td>0</td>\n",
              "      <td>0</td>\n",
              "      <td>0</td>\n",
              "      <td>0</td>\n",
              "      <td>0</td>\n",
              "      <td>0</td>\n",
              "      <td>0</td>\n",
              "      <td>0</td>\n",
              "      <td>0</td>\n",
              "      <td>0</td>\n",
              "      <td>0</td>\n",
              "      <td>0</td>\n",
              "      <td>0</td>\n",
              "      <td>0</td>\n",
              "      <td>0</td>\n",
              "      <td>0</td>\n",
              "      <td>0</td>\n",
              "      <td>0</td>\n",
              "      <td>0</td>\n",
              "      <td>0</td>\n",
              "      <td>0</td>\n",
              "      <td>0</td>\n",
              "      <td>0</td>\n",
              "      <td>0</td>\n",
              "      <td>0</td>\n",
              "      <td>0</td>\n",
              "      <td>0</td>\n",
              "    </tr>\n",
              "    <tr>\n",
              "      <th>2</th>\n",
              "      <td>0</td>\n",
              "      <td>0</td>\n",
              "      <td>0</td>\n",
              "      <td>0</td>\n",
              "      <td>0</td>\n",
              "      <td>0</td>\n",
              "      <td>0</td>\n",
              "      <td>0</td>\n",
              "      <td>0</td>\n",
              "      <td>0</td>\n",
              "      <td>0</td>\n",
              "      <td>0</td>\n",
              "      <td>0</td>\n",
              "      <td>0</td>\n",
              "      <td>0</td>\n",
              "      <td>0</td>\n",
              "      <td>0</td>\n",
              "      <td>0</td>\n",
              "      <td>0</td>\n",
              "      <td>0</td>\n",
              "      <td>0</td>\n",
              "      <td>0</td>\n",
              "      <td>0</td>\n",
              "      <td>0</td>\n",
              "      <td>0</td>\n",
              "      <td>0</td>\n",
              "      <td>0</td>\n",
              "      <td>0</td>\n",
              "      <td>0</td>\n",
              "      <td>0</td>\n",
              "    </tr>\n",
              "    <tr>\n",
              "      <th>3</th>\n",
              "      <td>0</td>\n",
              "      <td>0</td>\n",
              "      <td>0</td>\n",
              "      <td>0</td>\n",
              "      <td>0</td>\n",
              "      <td>1</td>\n",
              "      <td>0</td>\n",
              "      <td>0</td>\n",
              "      <td>0</td>\n",
              "      <td>0</td>\n",
              "      <td>0</td>\n",
              "      <td>0</td>\n",
              "      <td>0</td>\n",
              "      <td>0</td>\n",
              "      <td>0</td>\n",
              "      <td>0</td>\n",
              "      <td>0</td>\n",
              "      <td>0</td>\n",
              "      <td>0</td>\n",
              "      <td>0</td>\n",
              "      <td>0</td>\n",
              "      <td>0</td>\n",
              "      <td>0</td>\n",
              "      <td>0</td>\n",
              "      <td>0</td>\n",
              "      <td>0</td>\n",
              "      <td>0</td>\n",
              "      <td>0</td>\n",
              "      <td>0</td>\n",
              "      <td>0</td>\n",
              "    </tr>\n",
              "    <tr>\n",
              "      <th>5</th>\n",
              "      <td>0</td>\n",
              "      <td>0</td>\n",
              "      <td>0</td>\n",
              "      <td>0</td>\n",
              "      <td>0</td>\n",
              "      <td>0</td>\n",
              "      <td>0</td>\n",
              "      <td>0</td>\n",
              "      <td>0</td>\n",
              "      <td>0</td>\n",
              "      <td>0</td>\n",
              "      <td>0</td>\n",
              "      <td>0</td>\n",
              "      <td>0</td>\n",
              "      <td>0</td>\n",
              "      <td>0</td>\n",
              "      <td>0</td>\n",
              "      <td>0</td>\n",
              "      <td>0</td>\n",
              "      <td>0</td>\n",
              "      <td>0</td>\n",
              "      <td>0</td>\n",
              "      <td>0</td>\n",
              "      <td>0</td>\n",
              "      <td>0</td>\n",
              "      <td>0</td>\n",
              "      <td>0</td>\n",
              "      <td>0</td>\n",
              "      <td>0</td>\n",
              "      <td>0</td>\n",
              "    </tr>\n",
              "  </tbody>\n",
              "</table>\n",
              "</div>"
            ],
            "text/plain": [
              "day  0   1   2   3   4   5   6   7   8   ...  21  22  23  24  25  26  27  28  29\n",
              "sku                                      ...                                    \n",
              "0     0   0   0   0   0   0   0   0   0  ...   0   0   0   0   0   0   0   0   0\n",
              "1     0   0   0   0   0   0   0   0   0  ...   0   0   0   0   0   0   0   0   0\n",
              "2     0   0   0   0   0   0   0   0   0  ...   0   0   0   0   0   0   0   0   0\n",
              "3     0   0   0   0   0   1   0   0   0  ...   0   0   0   0   0   0   0   0   0\n",
              "5     0   0   0   0   0   0   0   0   0  ...   0   0   0   0   0   0   0   0   0\n",
              "\n",
              "[5 rows x 30 columns]"
            ]
          },
          "metadata": {
            "tags": []
          },
          "execution_count": 27
        }
      ]
    },
    {
      "cell_type": "markdown",
      "metadata": {
        "id": "Jes-eRtH7lAp"
      },
      "source": [
        "### Items Data"
      ]
    },
    {
      "cell_type": "markdown",
      "metadata": {
        "id": "-y9qp8lM7rEs"
      },
      "source": [
        "#### Dtypes\n",
        "Make sure data is the appropiated format."
      ]
    },
    {
      "cell_type": "code",
      "metadata": {
        "id": "Lcdh6J-P7tyE",
        "colab": {
          "base_uri": "https://localhost:8080/"
        },
        "outputId": "7a8d64b0-c185-4434-8220-93b0ff912694"
      },
      "source": [
        "items_data.info()"
      ],
      "execution_count": 28,
      "outputs": [
        {
          "output_type": "stream",
          "text": [
            "<class 'pandas.core.frame.DataFrame'>\n",
            "RangeIndex: 660916 entries, 0 to 660915\n",
            "Data columns (total 7 columns):\n",
            " #   Column             Non-Null Count   Dtype \n",
            "---  ------             --------------   ----- \n",
            " 0   item_domain_id     660913 non-null  object\n",
            " 1   item_id            660916 non-null  int64 \n",
            " 2   item_title         660916 non-null  object\n",
            " 3   site_id            660916 non-null  object\n",
            " 4   sku                660916 non-null  int64 \n",
            " 5   product_id         29668 non-null   object\n",
            " 6   product_family_id  83184 non-null   object\n",
            "dtypes: int64(2), object(5)\n",
            "memory usage: 35.3+ MB\n"
          ],
          "name": "stdout"
        }
      ]
    },
    {
      "cell_type": "markdown",
      "metadata": {
        "id": "wfkUzP-OrX22"
      },
      "source": [
        "Let's check max values to see which types to apply."
      ]
    },
    {
      "cell_type": "code",
      "metadata": {
        "id": "zgrZrTFBq4Ay",
        "colab": {
          "base_uri": "https://localhost:8080/"
        },
        "outputId": "4904acfd-f160-432a-a54a-57f2640d5db0"
      },
      "source": [
        "items_data.max()"
      ],
      "execution_count": 29,
      "outputs": [
        {
          "output_type": "execute_result",
          "data": {
            "text/plain": [
              "item_id                           517895\n",
              "item_title    Útiles Set Basico Todomoda\n",
              "site_id                              MLM\n",
              "sku                               660915\n",
              "dtype: object"
            ]
          },
          "metadata": {
            "tags": []
          },
          "execution_count": 29
        }
      ]
    },
    {
      "cell_type": "markdown",
      "metadata": {
        "id": "fKOP5yw5ro0B"
      },
      "source": [
        "Apply and verify if the transformation didn't clip."
      ]
    },
    {
      "cell_type": "code",
      "metadata": {
        "id": "ZkKYzWNdrDia",
        "colab": {
          "base_uri": "https://localhost:8080/"
        },
        "outputId": "e068e217-b925-43bb-e578-dd3c60fcd1ae"
      },
      "source": [
        "items_data = items_data.astype({\n",
        "    \"item_id\": \"int32\",\n",
        "    \"sku\": \"int32\",\n",
        "})\n",
        "items_data.max()"
      ],
      "execution_count": 30,
      "outputs": [
        {
          "output_type": "execute_result",
          "data": {
            "text/plain": [
              "item_id                           517895\n",
              "item_title    Útiles Set Basico Todomoda\n",
              "site_id                              MLM\n",
              "sku                               660915\n",
              "dtype: object"
            ]
          },
          "metadata": {
            "tags": []
          },
          "execution_count": 30
        }
      ]
    },
    {
      "cell_type": "markdown",
      "metadata": {
        "id": "unopSOlD84Km"
      },
      "source": [
        "`sku` should be this dataset index."
      ]
    },
    {
      "cell_type": "code",
      "metadata": {
        "id": "EsntEL-D9baV",
        "colab": {
          "base_uri": "https://localhost:8080/",
          "height": 235
        },
        "outputId": "df671afe-39dc-4067-8baf-4ac74c3e02ee"
      },
      "source": [
        "items_data = items_data.set_index(\"sku\")\n",
        "items_data.head()"
      ],
      "execution_count": 31,
      "outputs": [
        {
          "output_type": "execute_result",
          "data": {
            "text/html": [
              "<div>\n",
              "<style scoped>\n",
              "    .dataframe tbody tr th:only-of-type {\n",
              "        vertical-align: middle;\n",
              "    }\n",
              "\n",
              "    .dataframe tbody tr th {\n",
              "        vertical-align: top;\n",
              "    }\n",
              "\n",
              "    .dataframe thead th {\n",
              "        text-align: right;\n",
              "    }\n",
              "</style>\n",
              "<table border=\"1\" class=\"dataframe\">\n",
              "  <thead>\n",
              "    <tr style=\"text-align: right;\">\n",
              "      <th></th>\n",
              "      <th>item_domain_id</th>\n",
              "      <th>item_id</th>\n",
              "      <th>item_title</th>\n",
              "      <th>site_id</th>\n",
              "      <th>product_id</th>\n",
              "      <th>product_family_id</th>\n",
              "    </tr>\n",
              "    <tr>\n",
              "      <th>sku</th>\n",
              "      <th></th>\n",
              "      <th></th>\n",
              "      <th></th>\n",
              "      <th></th>\n",
              "      <th></th>\n",
              "      <th></th>\n",
              "    </tr>\n",
              "  </thead>\n",
              "  <tbody>\n",
              "    <tr>\n",
              "      <th>0</th>\n",
              "      <td>MLB-SNEAKERS</td>\n",
              "      <td>492155</td>\n",
              "      <td>Tênis Masculino Olympikus Cyber Barato Promoçao</td>\n",
              "      <td>MLB</td>\n",
              "      <td>None</td>\n",
              "      <td>MLB15832732</td>\n",
              "    </tr>\n",
              "    <tr>\n",
              "      <th>1</th>\n",
              "      <td>MLB-SURFBOARD_RACKS</td>\n",
              "      <td>300279</td>\n",
              "      <td>Suporte Rack Prancha Parede C/ Regulagem Horiz...</td>\n",
              "      <td>MLB</td>\n",
              "      <td>None</td>\n",
              "      <td>None</td>\n",
              "    </tr>\n",
              "    <tr>\n",
              "      <th>2</th>\n",
              "      <td>MLM-NECKLACES</td>\n",
              "      <td>69847</td>\n",
              "      <td>5 Collares Plateados Dama Gargantilla Choker -...</td>\n",
              "      <td>MLM</td>\n",
              "      <td>None</td>\n",
              "      <td>None</td>\n",
              "    </tr>\n",
              "    <tr>\n",
              "      <th>3</th>\n",
              "      <td>MLM-RINGS</td>\n",
              "      <td>298603</td>\n",
              "      <td>Lindo Anillo De Bella Crepusculo Twilight Prom...</td>\n",
              "      <td>MLM</td>\n",
              "      <td>None</td>\n",
              "      <td>None</td>\n",
              "    </tr>\n",
              "    <tr>\n",
              "      <th>4</th>\n",
              "      <td>MLB-WEBCAMS</td>\n",
              "      <td>345949</td>\n",
              "      <td>Webcam Com Microfone Hd 720p Knup Youtube Pc V...</td>\n",
              "      <td>MLB</td>\n",
              "      <td>None</td>\n",
              "      <td>None</td>\n",
              "    </tr>\n",
              "  </tbody>\n",
              "</table>\n",
              "</div>"
            ],
            "text/plain": [
              "          item_domain_id  item_id  ... product_id product_family_id\n",
              "sku                                ...                             \n",
              "0           MLB-SNEAKERS   492155  ...       None       MLB15832732\n",
              "1    MLB-SURFBOARD_RACKS   300279  ...       None              None\n",
              "2          MLM-NECKLACES    69847  ...       None              None\n",
              "3              MLM-RINGS   298603  ...       None              None\n",
              "4            MLB-WEBCAMS   345949  ...       None              None\n",
              "\n",
              "[5 rows x 6 columns]"
            ]
          },
          "metadata": {
            "tags": []
          },
          "execution_count": 31
        }
      ]
    },
    {
      "cell_type": "markdown",
      "metadata": {
        "id": "8Jk4p-Fa-Kj6"
      },
      "source": [
        "#### Encoding\n",
        "Let's check if some of these columns are able to be encoded."
      ]
    },
    {
      "cell_type": "code",
      "metadata": {
        "id": "UVls4GVp-KFr",
        "colab": {
          "base_uri": "https://localhost:8080/"
        },
        "outputId": "2c689283-f4f4-46bd-8439-c5c47f2d1bc2"
      },
      "source": [
        "for col in items_data.select_dtypes(\"object\").columns:\n",
        "    print(f\"{col} has {len(items_data[col].unique())} classes\")"
      ],
      "execution_count": 32,
      "outputs": [
        {
          "output_type": "stream",
          "text": [
            "item_domain_id has 8409 classes\n",
            "item_title has 478175 classes\n",
            "site_id has 3 classes\n",
            "product_id has 15864 classes\n",
            "product_family_id has 29601 classes\n"
          ],
          "name": "stdout"
        }
      ]
    },
    {
      "cell_type": "markdown",
      "metadata": {
        "id": "WaRYdY64VSGU"
      },
      "source": [
        "It seems only `site_id` is categorical. The remainded cannot be encoded by now.\n",
        "\n",
        "For the same reason as before. I won't drop one of the encoded categories. I will leave this decision to later on."
      ]
    },
    {
      "cell_type": "code",
      "metadata": {
        "id": "vbU_CB__VYPR",
        "colab": {
          "base_uri": "https://localhost:8080/",
          "height": 235
        },
        "outputId": "8575ebe1-5a7c-4fdc-beac-ca8ce09ab000"
      },
      "source": [
        "items_data = pd.get_dummies(items_data, columns=[\"site_id\"], drop_first=False)\n",
        "items_data.head()"
      ],
      "execution_count": 33,
      "outputs": [
        {
          "output_type": "execute_result",
          "data": {
            "text/html": [
              "<div>\n",
              "<style scoped>\n",
              "    .dataframe tbody tr th:only-of-type {\n",
              "        vertical-align: middle;\n",
              "    }\n",
              "\n",
              "    .dataframe tbody tr th {\n",
              "        vertical-align: top;\n",
              "    }\n",
              "\n",
              "    .dataframe thead th {\n",
              "        text-align: right;\n",
              "    }\n",
              "</style>\n",
              "<table border=\"1\" class=\"dataframe\">\n",
              "  <thead>\n",
              "    <tr style=\"text-align: right;\">\n",
              "      <th></th>\n",
              "      <th>item_domain_id</th>\n",
              "      <th>item_id</th>\n",
              "      <th>item_title</th>\n",
              "      <th>product_id</th>\n",
              "      <th>product_family_id</th>\n",
              "      <th>site_id_MLA</th>\n",
              "      <th>site_id_MLB</th>\n",
              "      <th>site_id_MLM</th>\n",
              "    </tr>\n",
              "    <tr>\n",
              "      <th>sku</th>\n",
              "      <th></th>\n",
              "      <th></th>\n",
              "      <th></th>\n",
              "      <th></th>\n",
              "      <th></th>\n",
              "      <th></th>\n",
              "      <th></th>\n",
              "      <th></th>\n",
              "    </tr>\n",
              "  </thead>\n",
              "  <tbody>\n",
              "    <tr>\n",
              "      <th>0</th>\n",
              "      <td>MLB-SNEAKERS</td>\n",
              "      <td>492155</td>\n",
              "      <td>Tênis Masculino Olympikus Cyber Barato Promoçao</td>\n",
              "      <td>None</td>\n",
              "      <td>MLB15832732</td>\n",
              "      <td>0</td>\n",
              "      <td>1</td>\n",
              "      <td>0</td>\n",
              "    </tr>\n",
              "    <tr>\n",
              "      <th>1</th>\n",
              "      <td>MLB-SURFBOARD_RACKS</td>\n",
              "      <td>300279</td>\n",
              "      <td>Suporte Rack Prancha Parede C/ Regulagem Horiz...</td>\n",
              "      <td>None</td>\n",
              "      <td>None</td>\n",
              "      <td>0</td>\n",
              "      <td>1</td>\n",
              "      <td>0</td>\n",
              "    </tr>\n",
              "    <tr>\n",
              "      <th>2</th>\n",
              "      <td>MLM-NECKLACES</td>\n",
              "      <td>69847</td>\n",
              "      <td>5 Collares Plateados Dama Gargantilla Choker -...</td>\n",
              "      <td>None</td>\n",
              "      <td>None</td>\n",
              "      <td>0</td>\n",
              "      <td>0</td>\n",
              "      <td>1</td>\n",
              "    </tr>\n",
              "    <tr>\n",
              "      <th>3</th>\n",
              "      <td>MLM-RINGS</td>\n",
              "      <td>298603</td>\n",
              "      <td>Lindo Anillo De Bella Crepusculo Twilight Prom...</td>\n",
              "      <td>None</td>\n",
              "      <td>None</td>\n",
              "      <td>0</td>\n",
              "      <td>0</td>\n",
              "      <td>1</td>\n",
              "    </tr>\n",
              "    <tr>\n",
              "      <th>4</th>\n",
              "      <td>MLB-WEBCAMS</td>\n",
              "      <td>345949</td>\n",
              "      <td>Webcam Com Microfone Hd 720p Knup Youtube Pc V...</td>\n",
              "      <td>None</td>\n",
              "      <td>None</td>\n",
              "      <td>0</td>\n",
              "      <td>1</td>\n",
              "      <td>0</td>\n",
              "    </tr>\n",
              "  </tbody>\n",
              "</table>\n",
              "</div>"
            ],
            "text/plain": [
              "          item_domain_id  item_id  ... site_id_MLB site_id_MLM\n",
              "sku                                ...                        \n",
              "0           MLB-SNEAKERS   492155  ...           1           0\n",
              "1    MLB-SURFBOARD_RACKS   300279  ...           1           0\n",
              "2          MLM-NECKLACES    69847  ...           0           1\n",
              "3              MLM-RINGS   298603  ...           0           1\n",
              "4            MLB-WEBCAMS   345949  ...           1           0\n",
              "\n",
              "[5 rows x 8 columns]"
            ]
          },
          "metadata": {
            "tags": []
          },
          "execution_count": 33
        }
      ]
    },
    {
      "cell_type": "markdown",
      "metadata": {
        "id": "wcHFtkyw-Vbv"
      },
      "source": [
        "#### NaNs\n",
        "The columns `product_id` and `product_family_id` are mostly NaNs. I will deal with them later. \n",
        "\n",
        "The `item_domain_id` is has only a few missing rows. I will deal with them manually."
      ]
    },
    {
      "cell_type": "code",
      "metadata": {
        "id": "D5p1D2UGYxZM",
        "colab": {
          "base_uri": "https://localhost:8080/",
          "height": 173
        },
        "outputId": "357f2556-7eb5-4cda-9c86-854b6c0a318c"
      },
      "source": [
        "items_data[items_data['item_domain_id'].isna()]"
      ],
      "execution_count": 34,
      "outputs": [
        {
          "output_type": "execute_result",
          "data": {
            "text/html": [
              "<div>\n",
              "<style scoped>\n",
              "    .dataframe tbody tr th:only-of-type {\n",
              "        vertical-align: middle;\n",
              "    }\n",
              "\n",
              "    .dataframe tbody tr th {\n",
              "        vertical-align: top;\n",
              "    }\n",
              "\n",
              "    .dataframe thead th {\n",
              "        text-align: right;\n",
              "    }\n",
              "</style>\n",
              "<table border=\"1\" class=\"dataframe\">\n",
              "  <thead>\n",
              "    <tr style=\"text-align: right;\">\n",
              "      <th></th>\n",
              "      <th>item_domain_id</th>\n",
              "      <th>item_id</th>\n",
              "      <th>item_title</th>\n",
              "      <th>product_id</th>\n",
              "      <th>product_family_id</th>\n",
              "      <th>site_id_MLA</th>\n",
              "      <th>site_id_MLB</th>\n",
              "      <th>site_id_MLM</th>\n",
              "    </tr>\n",
              "    <tr>\n",
              "      <th>sku</th>\n",
              "      <th></th>\n",
              "      <th></th>\n",
              "      <th></th>\n",
              "      <th></th>\n",
              "      <th></th>\n",
              "      <th></th>\n",
              "      <th></th>\n",
              "      <th></th>\n",
              "    </tr>\n",
              "  </thead>\n",
              "  <tbody>\n",
              "    <tr>\n",
              "      <th>454273</th>\n",
              "      <td>None</td>\n",
              "      <td>245417</td>\n",
              "      <td>Fone De Ouvido Multilaser Tws Ph326 Airbud Sem...</td>\n",
              "      <td>None</td>\n",
              "      <td>MLB16117735</td>\n",
              "      <td>0</td>\n",
              "      <td>1</td>\n",
              "      <td>0</td>\n",
              "    </tr>\n",
              "    <tr>\n",
              "      <th>459892</th>\n",
              "      <td>None</td>\n",
              "      <td>283198</td>\n",
              "      <td>Headset Gamer Multilaser P2 Ph123 Preto E Verde</td>\n",
              "      <td>None</td>\n",
              "      <td>MLB16158968</td>\n",
              "      <td>0</td>\n",
              "      <td>1</td>\n",
              "      <td>0</td>\n",
              "    </tr>\n",
              "    <tr>\n",
              "      <th>553503</th>\n",
              "      <td>None</td>\n",
              "      <td>114028</td>\n",
              "      <td>Prancha De Cabelo Taiff Elegance Frizz Cerâmic...</td>\n",
              "      <td>None</td>\n",
              "      <td>MLB17821818</td>\n",
              "      <td>0</td>\n",
              "      <td>1</td>\n",
              "      <td>0</td>\n",
              "    </tr>\n",
              "  </tbody>\n",
              "</table>\n",
              "</div>"
            ],
            "text/plain": [
              "       item_domain_id  item_id  ... site_id_MLB site_id_MLM\n",
              "sku                             ...                        \n",
              "454273           None   245417  ...           1           0\n",
              "459892           None   283198  ...           1           0\n",
              "553503           None   114028  ...           1           0\n",
              "\n",
              "[3 rows x 8 columns]"
            ]
          },
          "metadata": {
            "tags": []
          },
          "execution_count": 34
        }
      ]
    },
    {
      "cell_type": "code",
      "metadata": {
        "id": "ur-QnK78bouM",
        "colab": {
          "base_uri": "https://localhost:8080/"
        },
        "outputId": "5747d5c1-78b6-487d-80b9-61379f754e23"
      },
      "source": [
        "# Iterate over SKU that has missing data on item_domain_id.\n",
        "for sku in items_data[items_data[\"item_domain_id\"].isna()].index:\n",
        "    print(f\"sku = {sku}\")\n",
        "    print(f\"item_title = {items_data.loc[sku]['item_title']}\")\n",
        "\n",
        "    # Filter only lines from same product_family_id.\n",
        "    product_family_id = items_data[items_data[\"product_family_id\"] == items_data.loc[sku][\"product_family_id\"]]\n",
        "\n",
        "    # If the only line is the one that we are trying to fill, send a error message.\n",
        "    if product_family_id[\"item_domain_id\"].isna().all():\n",
        "        print(\"No other products on the same family to compare to.\\n\")\n",
        "    \n",
        "    # But if it has, fill the missing values.\n",
        "    else:\n",
        "        item_domain_id = product_family_id[\"item_domain_id\"].dropna().iloc[0]\n",
        "        print(f\"item_domain_id = {item_domain_id}\\n\")\n",
        "        items_data.loc[sku, \"item_domain_id\"] = item_domain_id"
      ],
      "execution_count": 35,
      "outputs": [
        {
          "output_type": "stream",
          "text": [
            "sku = 454273\n",
            "item_title = Fone De Ouvido Multilaser Tws Ph326 Airbud Sem Fio Microfone\n",
            "item_domain_id = MLB-HEADPHONES\n",
            "\n",
            "sku = 459892\n",
            "item_title = Headset Gamer Multilaser P2 Ph123 Preto E Verde\n",
            "No other products on the same family to compare to.\n",
            "\n",
            "sku = 553503\n",
            "item_title = Prancha De Cabelo Taiff Elegance Frizz Cerâmica 230ºc Bivolt\n",
            "item_domain_id = MLB-HAIR_STRAIGHTENERS\n",
            "\n"
          ],
          "name": "stdout"
        }
      ]
    },
    {
      "cell_type": "markdown",
      "metadata": {
        "id": "ONPs56nnnnO8"
      },
      "source": [
        "The *Headset Gamer Multilaser P2 Ph123 Preto E Verde* must be filled manually. I'll fill it with *MLB-HEADPHONES*"
      ]
    },
    {
      "cell_type": "code",
      "metadata": {
        "id": "duyhCFkWiCGf",
        "colab": {
          "base_uri": "https://localhost:8080/"
        },
        "outputId": "be6e74a5-c093-42a1-a9c5-44ad40850d76"
      },
      "source": [
        "items_data.loc[459892, \"item_domain_id\"] = \"MLB-HEADPHONES\"\n",
        "print(f\"Amount of missing data = {items_data['item_domain_id'].isna().sum()}\")"
      ],
      "execution_count": 36,
      "outputs": [
        {
          "output_type": "stream",
          "text": [
            "Amount of missing data = 0\n"
          ],
          "name": "stdout"
        }
      ]
    },
    {
      "cell_type": "markdown",
      "metadata": {
        "id": "tYcjOZfithzS"
      },
      "source": [
        "### Sample Submission"
      ]
    },
    {
      "cell_type": "markdown",
      "metadata": {
        "id": "VQBxlacdtk_v"
      },
      "source": [
        "#### Dtypes\n",
        "Make sure data is the appropiated format."
      ]
    },
    {
      "cell_type": "code",
      "metadata": {
        "colab": {
          "base_uri": "https://localhost:8080/"
        },
        "id": "JCU0-5Egtqau",
        "outputId": "6f19ead4-5c54-4268-a93a-ee7c75b49b4c"
      },
      "source": [
        "sample_submission.info()"
      ],
      "execution_count": 37,
      "outputs": [
        {
          "output_type": "stream",
          "text": [
            "<class 'pandas.core.frame.DataFrame'>\n",
            "RangeIndex: 551472 entries, 0 to 551471\n",
            "Data columns (total 30 columns):\n",
            " #   Column  Non-Null Count   Dtype  \n",
            "---  ------  --------------   -----  \n",
            " 0   0       551472 non-null  float64\n",
            " 1   1       551472 non-null  float64\n",
            " 2   2       551472 non-null  float64\n",
            " 3   3       551472 non-null  float64\n",
            " 4   4       551472 non-null  float64\n",
            " 5   5       551472 non-null  float64\n",
            " 6   6       551472 non-null  float64\n",
            " 7   7       551472 non-null  float64\n",
            " 8   8       551472 non-null  float64\n",
            " 9   9       551472 non-null  float64\n",
            " 10  10      551472 non-null  float64\n",
            " 11  11      551472 non-null  float64\n",
            " 12  12      551472 non-null  float64\n",
            " 13  13      551472 non-null  float64\n",
            " 14  14      551472 non-null  float64\n",
            " 15  15      551472 non-null  float64\n",
            " 16  16      551472 non-null  float64\n",
            " 17  17      551472 non-null  float64\n",
            " 18  18      551472 non-null  float64\n",
            " 19  19      551472 non-null  float64\n",
            " 20  20      551472 non-null  float64\n",
            " 21  21      551472 non-null  float64\n",
            " 22  22      551472 non-null  float64\n",
            " 23  23      551472 non-null  float64\n",
            " 24  24      551472 non-null  float64\n",
            " 25  25      551472 non-null  float64\n",
            " 26  26      551472 non-null  float64\n",
            " 27  27      551472 non-null  float64\n",
            " 28  28      551472 non-null  float64\n",
            " 29  29      551472 non-null  float64\n",
            "dtypes: float64(30)\n",
            "memory usage: 126.2 MB\n"
          ],
          "name": "stdout"
        }
      ]
    },
    {
      "cell_type": "markdown",
      "metadata": {
        "id": "xwC65qUWubPb"
      },
      "source": [
        "Since it iis required a 4 digits precision, we can use a lighter dtype."
      ]
    },
    {
      "cell_type": "code",
      "metadata": {
        "id": "wva6YstHuVz3"
      },
      "source": [
        "sample_submission = sample_submission.astype(\"float32\")"
      ],
      "execution_count": 38,
      "outputs": []
    },
    {
      "cell_type": "markdown",
      "metadata": {
        "id": "zuxYMunDs5Q5"
      },
      "source": [
        "## Data Analysis"
      ]
    },
    {
      "cell_type": "code",
      "metadata": {
        "id": "mmFW1AtYs8Ct"
      },
      "source": [
        ""
      ],
      "execution_count": 38,
      "outputs": []
    },
    {
      "cell_type": "markdown",
      "metadata": {
        "id": "H5xhHIHZs0oy"
      },
      "source": [
        "## Feature Engineering"
      ]
    },
    {
      "cell_type": "code",
      "metadata": {
        "id": "W1ubX9jKs4xR"
      },
      "source": [
        ""
      ],
      "execution_count": 38,
      "outputs": []
    },
    {
      "cell_type": "markdown",
      "metadata": {
        "id": "U-j3ak1Zs_Uc"
      },
      "source": [
        "## Model Development"
      ]
    },
    {
      "cell_type": "code",
      "metadata": {
        "id": "Op7MDzsEtIqe"
      },
      "source": [
        ""
      ],
      "execution_count": 38,
      "outputs": []
    },
    {
      "cell_type": "markdown",
      "metadata": {
        "id": "SDsVdReAuwG7"
      },
      "source": [
        "## Model Evaluation"
      ]
    },
    {
      "cell_type": "markdown",
      "metadata": {
        "id": "LhNYq2BdtJXR"
      },
      "source": [
        "### Metric\n",
        "Submissions will be scored using the **Ranked Probability Score (RPS)** metric.\n",
        "\n",
        "**Ranked Probability Score** is a squared measure that compares the **estimated cumulative density function** of a probabilistic forecast with the **actual cumulative density function** of the corresponding observation. Under a discrete scenario of possible outcomes, the RPS formula is as follows:\n",
        "\n",
        "$$ RPS = \\frac{1}{N}\\sum_{i=1}^{N}\\left[\\sum_{K=1}^{K}(Y_K(i) - O_K(i))^2\\right] $$\n",
        "\n",
        "where:\n",
        "\n",
        "* $N$ is the number of rows in the dataset,\n",
        "* $O$ represents the target,\n",
        "* $K$ is the number of classes, and\n",
        "* $Y$ is the predicted probability.\n",
        "\n",
        "The **RPS** metric can be more easily understood graphically. The figure below illustrates how the value **RPS** takes is simply the square of the area where the predicted cumulative probability function and the ground truth do not overlap each other.\n",
        "\n",
        "![rps-intuition](https://ml-challenge.mercadolibre.com/static/images/2021/metric_fig_5.png)\n",
        "\n",
        "The main advantage of **RPS**, in comparison with other common metrics for forecasting problems, is that it is **sensitive to distance**, which means that a forecast is increasingly penalized the more its predictions differ from the actual outcome. This property is especially attractive for the task at hand from a business perspective: in order to manage inventory efficiently at MercadoLibre’s fulfillment centers, we would like the forecast to be as close as possible to the actual value of inventory days, besides the fact of just hitting the target number of inventory days with the highest point-probability estimate.\n",
        "\n",
        "Disclaimer: you do NOT have to submit CUMULATIVE PROBABILITIES. **You are expected to provide point-probability estimates and the scorer itself will compute the accumulation.**"
      ]
    },
    {
      "cell_type": "code",
      "metadata": {
        "id": "WlMJBOzrtY0W",
        "colab": {
          "base_uri": "https://localhost:8080/"
        },
        "outputId": "e98a02f5-b35b-4bcb-cd85-22f4ca723503"
      },
      "source": [
        "import numpy as np\n",
        "\n",
        "\n",
        "def rps(y, o):\n",
        "    \"\"\"Ranked Probability Score\"\"\"\n",
        "    if y.shape != o.shape:\n",
        "        raise ValueError(f\"y shape is {y.shape}. Expected shape was {o.shape}\")\n",
        "\n",
        "    # Round Y.\n",
        "    y = np.round(y, decimals=4)\n",
        "\n",
        "    # Normalize Y.\n",
        "    y = np.divide(y, np.sum(y, axis=1).reshape(-1, 1))\n",
        "\n",
        "    # Y and O are PDF and must be converted to CDF.\n",
        "    y = np.cumsum(y, axis=1)\n",
        "    o = np.cumsum(o, axis=1)\n",
        "\n",
        "    # Sum the squares differences.\n",
        "    return np.square(y - o).sum(axis=1).sum(axis=0) / y.shape[0]\n",
        "\n",
        "\n",
        "\n",
        "rps(sample_submission.values, y.values)"
      ],
      "execution_count": 39,
      "outputs": [
        {
          "output_type": "execute_result",
          "data": {
            "text/plain": [
              "8.57674407315642"
            ]
          },
          "metadata": {
            "tags": []
          },
          "execution_count": 39
        }
      ]
    }
  ]
}