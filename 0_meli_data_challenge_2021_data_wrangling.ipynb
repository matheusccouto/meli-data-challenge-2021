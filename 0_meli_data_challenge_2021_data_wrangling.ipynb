{
  "nbformat": 4,
  "nbformat_minor": 0,
  "metadata": {
    "orig_nbformat": 4,
    "colab": {
      "name": "0_meli_data_challenge_2021_data_wrangling",
      "provenance": [],
      "collapsed_sections": [],
      "include_colab_link": true
    },
    "language_info": {
      "name": "python"
    },
    "kernelspec": {
      "name": "python3",
      "display_name": "Python 3"
    }
  },
  "cells": [
    {
      "cell_type": "markdown",
      "metadata": {
        "id": "view-in-github",
        "colab_type": "text"
      },
      "source": [
        "<a href=\"https://colab.research.google.com/github/matheusccouto/meli-data-challenge-2021/blob/main/0_meli_data_challenge_2021_data_wrangling.ipynb\" target=\"_parent\"><img src=\"https://colab.research.google.com/assets/colab-badge.svg\" alt=\"Open In Colab\"/></a>"
      ]
    },
    {
      "cell_type": "markdown",
      "metadata": {
        "id": "3Zm1LK9gUh34"
      },
      "source": [
        "![mercado-libre](https://ml-challenge.mercadolibre.com/static/images/logo-mercado-libre_en.png)\n",
        "\n",
        "# MeLi Data Challenge 2021\n",
        "# Data Wrangling\n",
        "On this notebook I will load and clean the data from the 2021 Mercado Libre data challenge.\n",
        "\n",
        "## The Challenge\n",
        "Build a model to forecast item inventory days based on Mercado Libre historical data.\n",
        "\n",
        "## The Task\n",
        "The task is to predict how long it will take for the inventory of a certain item to be sold completely. In inventory management theory this concept is known as inventory days.\n",
        "\n",
        "In the evaluation set I will be given the item target stock, and I will have to provide a prediction for the number of days it will take to run out. Possible values range from 1 to 30. Rather than giving a point estimate, you are expected to provide a score for each the possible outcomes.\n",
        "\n",
        "To put it simply, you need to answer the following question:\n",
        "\n",
        "**'What are the odds that the target stock will be sold out in one day?', 'What about in two days?' and so on until day 30.**\n",
        "\n",
        "## Repository\n",
        "This notebook is hosted on the this repository: [github.com/matheusccouto/meli-data-challenge-2021](https://github.com/matheusccouto/meli-data-challenge-2021)\n",
        "\n",
        "Check-out the different branches to see all approaches tested."
      ]
    },
    {
      "cell_type": "markdown",
      "metadata": {
        "id": "DW44BS09Vr4G"
      },
      "source": [
        "## Load Data"
      ]
    },
    {
      "cell_type": "markdown",
      "metadata": {
        "id": "zeHdYwIv9hJ7"
      },
      "source": [
        "### Download data\n",
        "Download challenge data from [ml-challenge.mercadolibre.com/downloads](https://ml-challenge.mercadolibre.com/downloads)."
      ]
    },
    {
      "cell_type": "code",
      "metadata": {
        "colab": {
          "base_uri": "https://localhost:8080/"
        },
        "id": "Xx3E1l007xMm",
        "outputId": "2173d3bc-305e-4b1e-a366-60b530bc688b"
      },
      "source": [
        "import os\n",
        "\n",
        "import requests\n",
        "\n",
        "# Folder where I will place data.\n",
        "DATA_DIR = \"data\"\n",
        "\n",
        "# URL to download data.\n",
        "DATA_URL_LIST = [\n",
        "    r\"https://meli-data-challenge.s3.amazonaws.com/2021/test_data.csv\",\n",
        "    r\"https://meli-data-challenge.s3.amazonaws.com/2021/train_data.parquet\",\n",
        "    r\"https://meli-data-challenge.s3.amazonaws.com/2021/items_static_metadata_full.jl\",\n",
        "    r\"https://meli-data-challenge.s3.amazonaws.com/2021/sample_submission.csv.gz\",\n",
        "]\n",
        "\n",
        "\n",
        "def download(url, path, ignore_if_exists=True):\n",
        "    \"\"\"Download files from the web.\"\"\"\n",
        "    # Check if it should be skipped.\n",
        "    if ignore_if_exists and os.path.exists(path):\n",
        "        return path  # return path to the user.\n",
        "    # Request file.\n",
        "    response = requests.get(url, allow_redirects=True)\n",
        "    # Make sure the target folder exists.\n",
        "    os.makedirs(os.path.dirname(path), exist_ok=True)\n",
        "    # Save file.\n",
        "    with open(path, mode=\"wb\") as file:\n",
        "        file.write(response.content)\n",
        "    return path  # return path to the user.\n",
        "\n",
        "\n",
        "for data_url in DATA_URL_LIST:\n",
        "    # Create path for the file.\n",
        "    data_name = os.path.basename(data_url)\n",
        "    data_path = os.path.join(DATA_DIR, data_name)\n",
        "    # Download file.\n",
        "    print(f\"Downloading {data_url} to {data_path}\")\n",
        "    download(url=data_url, path=data_path, ignore_if_exists=True)\n",
        "    # Make sure download was succesful.\n",
        "    assert os.path.exists(data_path)\n",
        "    # And make sure the file is not damaged (at least 1MB)\n",
        "    assert os.path.getsize(data_path) > 1e6"
      ],
      "execution_count": 1,
      "outputs": [
        {
          "output_type": "stream",
          "text": [
            "Downloading https://meli-data-challenge.s3.amazonaws.com/2021/test_data.csv to data/test_data.csv\n",
            "Downloading https://meli-data-challenge.s3.amazonaws.com/2021/train_data.parquet to data/train_data.parquet\n",
            "Downloading https://meli-data-challenge.s3.amazonaws.com/2021/items_static_metadata_full.jl to data/items_static_metadata_full.jl\n",
            "Downloading https://meli-data-challenge.s3.amazonaws.com/2021/sample_submission.csv.gz to data/sample_submission.csv.gz\n"
          ],
          "name": "stdout"
        }
      ]
    },
    {
      "cell_type": "markdown",
      "metadata": {
        "id": "NbmhYAt2EVo6"
      },
      "source": [
        "### Train Set\n",
        "This dataset comprises two months of daily sales data for a subset of Mercadolibre SKUs (stock keeping units) . Each row corresponds to a particular date-SKU combination. Besides SKU and date, for each row, the following fields are available:\n",
        "\n",
        "|Attributes|Description|\n",
        "|---|---|\n",
        "|sold_quantity|Number of units of the corresponding SKU that were sold on that particular date.|\n",
        "|current_price|Point in time correct listing price.|\n",
        "|currency|Currency in which the price is expressed.|\n",
        "|listing_type|Type of listing the SKU had for that particular date. Possible values are classic or premium and they relate to the exposure the items receive and the fee charged to the seller as a sales comission.|\n",
        "|shipping_logistic_type|Type of shipping method the SKU offered, for that particular date. Possible values are fulfillment, cross_docking and drop_off.|\n",
        "|shipping_payment|Whether the shipping for the offered SKU at that particular date was free or paid, from the buyer's perspective.|\n",
        "|minutes_active|Number of minutes the SKU was available for purchase on that particular date.|"
      ]
    },
    {
      "cell_type": "code",
      "metadata": {
        "id": "ag44O9k6VTCG",
        "colab": {
          "base_uri": "https://localhost:8080/",
          "height": 221
        },
        "outputId": "13fa349f-06f8-4cbd-984e-7b9a77fbf90f"
      },
      "source": [
        "import pandas as pd\n",
        "\n",
        "train_set = pd.read_parquet(os.path.join(\"data\", \"train_data.parquet\"))\n",
        "print(f\"shape = {train_set.shape}\")\n",
        "train_set.head()"
      ],
      "execution_count": 2,
      "outputs": [
        {
          "output_type": "stream",
          "text": [
            "shape = (37660279, 9)\n"
          ],
          "name": "stdout"
        },
        {
          "output_type": "execute_result",
          "data": {
            "text/html": [
              "<div>\n",
              "<style scoped>\n",
              "    .dataframe tbody tr th:only-of-type {\n",
              "        vertical-align: middle;\n",
              "    }\n",
              "\n",
              "    .dataframe tbody tr th {\n",
              "        vertical-align: top;\n",
              "    }\n",
              "\n",
              "    .dataframe thead th {\n",
              "        text-align: right;\n",
              "    }\n",
              "</style>\n",
              "<table border=\"1\" class=\"dataframe\">\n",
              "  <thead>\n",
              "    <tr style=\"text-align: right;\">\n",
              "      <th></th>\n",
              "      <th>sku</th>\n",
              "      <th>date</th>\n",
              "      <th>sold_quantity</th>\n",
              "      <th>current_price</th>\n",
              "      <th>currency</th>\n",
              "      <th>listing_type</th>\n",
              "      <th>shipping_logistic_type</th>\n",
              "      <th>shipping_payment</th>\n",
              "      <th>minutes_active</th>\n",
              "    </tr>\n",
              "  </thead>\n",
              "  <tbody>\n",
              "    <tr>\n",
              "      <th>0</th>\n",
              "      <td>464801</td>\n",
              "      <td>2021-02-01</td>\n",
              "      <td>0</td>\n",
              "      <td>156.78</td>\n",
              "      <td>REA</td>\n",
              "      <td>classic</td>\n",
              "      <td>fulfillment</td>\n",
              "      <td>free_shipping</td>\n",
              "      <td>1440.0</td>\n",
              "    </tr>\n",
              "    <tr>\n",
              "      <th>1</th>\n",
              "      <td>464801</td>\n",
              "      <td>2021-02-02</td>\n",
              "      <td>0</td>\n",
              "      <td>156.78</td>\n",
              "      <td>REA</td>\n",
              "      <td>classic</td>\n",
              "      <td>fulfillment</td>\n",
              "      <td>free_shipping</td>\n",
              "      <td>1440.0</td>\n",
              "    </tr>\n",
              "    <tr>\n",
              "      <th>2</th>\n",
              "      <td>464801</td>\n",
              "      <td>2021-02-03</td>\n",
              "      <td>0</td>\n",
              "      <td>156.78</td>\n",
              "      <td>REA</td>\n",
              "      <td>classic</td>\n",
              "      <td>fulfillment</td>\n",
              "      <td>free_shipping</td>\n",
              "      <td>1440.0</td>\n",
              "    </tr>\n",
              "    <tr>\n",
              "      <th>3</th>\n",
              "      <td>464801</td>\n",
              "      <td>2021-02-04</td>\n",
              "      <td>0</td>\n",
              "      <td>156.78</td>\n",
              "      <td>REA</td>\n",
              "      <td>classic</td>\n",
              "      <td>fulfillment</td>\n",
              "      <td>free_shipping</td>\n",
              "      <td>1440.0</td>\n",
              "    </tr>\n",
              "    <tr>\n",
              "      <th>4</th>\n",
              "      <td>464801</td>\n",
              "      <td>2021-02-05</td>\n",
              "      <td>1</td>\n",
              "      <td>156.78</td>\n",
              "      <td>REA</td>\n",
              "      <td>classic</td>\n",
              "      <td>fulfillment</td>\n",
              "      <td>free_shipping</td>\n",
              "      <td>1440.0</td>\n",
              "    </tr>\n",
              "  </tbody>\n",
              "</table>\n",
              "</div>"
            ],
            "text/plain": [
              "      sku        date  ...  shipping_payment  minutes_active\n",
              "0  464801  2021-02-01  ...     free_shipping          1440.0\n",
              "1  464801  2021-02-02  ...     free_shipping          1440.0\n",
              "2  464801  2021-02-03  ...     free_shipping          1440.0\n",
              "3  464801  2021-02-04  ...     free_shipping          1440.0\n",
              "4  464801  2021-02-05  ...     free_shipping          1440.0\n",
              "\n",
              "[5 rows x 9 columns]"
            ]
          },
          "metadata": {
            "tags": []
          },
          "execution_count": 2
        }
      ]
    },
    {
      "cell_type": "markdown",
      "metadata": {
        "id": "IumsLsleEZeN"
      },
      "source": [
        "### Test Set\n",
        "For testing, the following file is provided test_data.csv. This file contains only two columns:\n",
        "\n",
        "|Attribute|Description|\n",
        "|---|---|\n",
        "|SKU|indicates the SKU for which you have to make your prediction|\n",
        "|target_stock|inventory level (aka number of units of the corresponding SKU for which you have to provide your estimation of inventory days.|"
      ]
    },
    {
      "cell_type": "code",
      "metadata": {
        "id": "K4luaGVGVECc",
        "colab": {
          "base_uri": "https://localhost:8080/",
          "height": 221
        },
        "outputId": "c3edfc82-1328-41fe-9f1b-9968344ab04f"
      },
      "source": [
        "test_set = pd.read_csv(os.path.join(\"data\", \"test_data.csv\"))\n",
        "print(f\"shape = {test_set.shape}\")\n",
        "test_set.head()"
      ],
      "execution_count": 3,
      "outputs": [
        {
          "output_type": "stream",
          "text": [
            "shape = (551472, 2)\n"
          ],
          "name": "stdout"
        },
        {
          "output_type": "execute_result",
          "data": {
            "text/html": [
              "<div>\n",
              "<style scoped>\n",
              "    .dataframe tbody tr th:only-of-type {\n",
              "        vertical-align: middle;\n",
              "    }\n",
              "\n",
              "    .dataframe tbody tr th {\n",
              "        vertical-align: top;\n",
              "    }\n",
              "\n",
              "    .dataframe thead th {\n",
              "        text-align: right;\n",
              "    }\n",
              "</style>\n",
              "<table border=\"1\" class=\"dataframe\">\n",
              "  <thead>\n",
              "    <tr style=\"text-align: right;\">\n",
              "      <th></th>\n",
              "      <th>sku</th>\n",
              "      <th>target_stock</th>\n",
              "    </tr>\n",
              "  </thead>\n",
              "  <tbody>\n",
              "    <tr>\n",
              "      <th>0</th>\n",
              "      <td>464801</td>\n",
              "      <td>3</td>\n",
              "    </tr>\n",
              "    <tr>\n",
              "      <th>1</th>\n",
              "      <td>645793</td>\n",
              "      <td>4</td>\n",
              "    </tr>\n",
              "    <tr>\n",
              "      <th>2</th>\n",
              "      <td>99516</td>\n",
              "      <td>8</td>\n",
              "    </tr>\n",
              "    <tr>\n",
              "      <th>3</th>\n",
              "      <td>538100</td>\n",
              "      <td>8</td>\n",
              "    </tr>\n",
              "    <tr>\n",
              "      <th>4</th>\n",
              "      <td>557191</td>\n",
              "      <td>10</td>\n",
              "    </tr>\n",
              "  </tbody>\n",
              "</table>\n",
              "</div>"
            ],
            "text/plain": [
              "      sku  target_stock\n",
              "0  464801             3\n",
              "1  645793             4\n",
              "2   99516             8\n",
              "3  538100             8\n",
              "4  557191            10"
            ]
          },
          "metadata": {
            "tags": []
          },
          "execution_count": 3
        }
      ]
    },
    {
      "cell_type": "markdown",
      "metadata": {
        "id": "2RNNSVXCEbmO"
      },
      "source": [
        "### Items Data\n",
        "In the file items_static_metadata.jl there is some extra data related to the SKUs characteristics. The file contains a list of dictionaries where each of them contains metadata for a specific SKU . The following fields are available:\n",
        "\n",
        "|Attribute|Description|\n",
        "|---|---|\n",
        "|SKU|stock-keeping-unit. This is a unique identifier for each distinct, physical inventory unit.|\n",
        "|item_id|unique identifier of the listing the SKU belongs to. The same listing can be associated with more than one SKUs, for example, if different variations of the same item are offered in the listing.|\n",
        "|item_domain_id|listing's domain id. A domain is a kind of listings clustering within MercadoLibre.|\n",
        "|item_title|the listing's title in the marketplace.|\n",
        "|site_id|the MercadoLibre's site the listing belongs to. The labels MLB, MLA and MLM refer to Brazil, Argentina and Mexico respectively.|\n",
        "|product_id|listing product id. Field might be null for some listings.|\n",
        "|product_id_family|listing product family id. Field might be null for some listings.|"
      ]
    },
    {
      "cell_type": "code",
      "metadata": {
        "colab": {
          "base_uri": "https://localhost:8080/",
          "height": 221
        },
        "id": "8MlQu7A-BKuF",
        "outputId": "88490dab-bf10-4339-e862-e760f056d623"
      },
      "source": [
        "items_data = pd.read_json(os.path.join(\"data\", \"items_static_metadata_full.jl\"), lines=True)\n",
        "print(f\"shape = {items_data.shape}\")\n",
        "items_data.head()"
      ],
      "execution_count": 4,
      "outputs": [
        {
          "output_type": "stream",
          "text": [
            "shape = (660916, 7)\n"
          ],
          "name": "stdout"
        },
        {
          "output_type": "execute_result",
          "data": {
            "text/html": [
              "<div>\n",
              "<style scoped>\n",
              "    .dataframe tbody tr th:only-of-type {\n",
              "        vertical-align: middle;\n",
              "    }\n",
              "\n",
              "    .dataframe tbody tr th {\n",
              "        vertical-align: top;\n",
              "    }\n",
              "\n",
              "    .dataframe thead th {\n",
              "        text-align: right;\n",
              "    }\n",
              "</style>\n",
              "<table border=\"1\" class=\"dataframe\">\n",
              "  <thead>\n",
              "    <tr style=\"text-align: right;\">\n",
              "      <th></th>\n",
              "      <th>item_domain_id</th>\n",
              "      <th>item_id</th>\n",
              "      <th>item_title</th>\n",
              "      <th>site_id</th>\n",
              "      <th>sku</th>\n",
              "      <th>product_id</th>\n",
              "      <th>product_family_id</th>\n",
              "    </tr>\n",
              "  </thead>\n",
              "  <tbody>\n",
              "    <tr>\n",
              "      <th>0</th>\n",
              "      <td>MLB-SNEAKERS</td>\n",
              "      <td>492155</td>\n",
              "      <td>Tênis Masculino Olympikus Cyber Barato Promoçao</td>\n",
              "      <td>MLB</td>\n",
              "      <td>0</td>\n",
              "      <td>None</td>\n",
              "      <td>MLB15832732</td>\n",
              "    </tr>\n",
              "    <tr>\n",
              "      <th>1</th>\n",
              "      <td>MLB-SURFBOARD_RACKS</td>\n",
              "      <td>300279</td>\n",
              "      <td>Suporte Rack Prancha Parede C/ Regulagem Horiz...</td>\n",
              "      <td>MLB</td>\n",
              "      <td>1</td>\n",
              "      <td>None</td>\n",
              "      <td>None</td>\n",
              "    </tr>\n",
              "    <tr>\n",
              "      <th>2</th>\n",
              "      <td>MLM-NECKLACES</td>\n",
              "      <td>69847</td>\n",
              "      <td>5 Collares Plateados Dama Gargantilla Choker -...</td>\n",
              "      <td>MLM</td>\n",
              "      <td>2</td>\n",
              "      <td>None</td>\n",
              "      <td>None</td>\n",
              "    </tr>\n",
              "    <tr>\n",
              "      <th>3</th>\n",
              "      <td>MLM-RINGS</td>\n",
              "      <td>298603</td>\n",
              "      <td>Lindo Anillo De Bella Crepusculo Twilight Prom...</td>\n",
              "      <td>MLM</td>\n",
              "      <td>3</td>\n",
              "      <td>None</td>\n",
              "      <td>None</td>\n",
              "    </tr>\n",
              "    <tr>\n",
              "      <th>4</th>\n",
              "      <td>MLB-WEBCAMS</td>\n",
              "      <td>345949</td>\n",
              "      <td>Webcam Com Microfone Hd 720p Knup Youtube Pc V...</td>\n",
              "      <td>MLB</td>\n",
              "      <td>4</td>\n",
              "      <td>None</td>\n",
              "      <td>None</td>\n",
              "    </tr>\n",
              "  </tbody>\n",
              "</table>\n",
              "</div>"
            ],
            "text/plain": [
              "        item_domain_id  item_id  ... product_id product_family_id\n",
              "0         MLB-SNEAKERS   492155  ...       None       MLB15832732\n",
              "1  MLB-SURFBOARD_RACKS   300279  ...       None              None\n",
              "2        MLM-NECKLACES    69847  ...       None              None\n",
              "3            MLM-RINGS   298603  ...       None              None\n",
              "4          MLB-WEBCAMS   345949  ...       None              None\n",
              "\n",
              "[5 rows x 7 columns]"
            ]
          },
          "metadata": {
            "tags": []
          },
          "execution_count": 4
        }
      ]
    },
    {
      "cell_type": "markdown",
      "metadata": {
        "id": "CRVRjH3OEh93"
      },
      "source": [
        "### Sample Submission\n",
        "A sample submission file for you to visualize the expected format of a submission."
      ]
    },
    {
      "cell_type": "code",
      "metadata": {
        "colab": {
          "base_uri": "https://localhost:8080/",
          "height": 241
        },
        "id": "4rd-7SCVeUR8",
        "outputId": "09bca905-bb6b-427c-ac9e-3d30a37e8244"
      },
      "source": [
        "sample_submission = pd.read_csv(os.path.join(\"data\", \"sample_submission.csv.gz\"), header=None)\n",
        "print(f\"shape = {sample_submission.shape}\")\n",
        "sample_submission.head()"
      ],
      "execution_count": 5,
      "outputs": [
        {
          "output_type": "stream",
          "text": [
            "shape = (551472, 30)\n"
          ],
          "name": "stdout"
        },
        {
          "output_type": "execute_result",
          "data": {
            "text/html": [
              "<div>\n",
              "<style scoped>\n",
              "    .dataframe tbody tr th:only-of-type {\n",
              "        vertical-align: middle;\n",
              "    }\n",
              "\n",
              "    .dataframe tbody tr th {\n",
              "        vertical-align: top;\n",
              "    }\n",
              "\n",
              "    .dataframe thead th {\n",
              "        text-align: right;\n",
              "    }\n",
              "</style>\n",
              "<table border=\"1\" class=\"dataframe\">\n",
              "  <thead>\n",
              "    <tr style=\"text-align: right;\">\n",
              "      <th></th>\n",
              "      <th>0</th>\n",
              "      <th>1</th>\n",
              "      <th>2</th>\n",
              "      <th>3</th>\n",
              "      <th>4</th>\n",
              "      <th>5</th>\n",
              "      <th>6</th>\n",
              "      <th>7</th>\n",
              "      <th>8</th>\n",
              "      <th>9</th>\n",
              "      <th>10</th>\n",
              "      <th>11</th>\n",
              "      <th>12</th>\n",
              "      <th>13</th>\n",
              "      <th>14</th>\n",
              "      <th>15</th>\n",
              "      <th>16</th>\n",
              "      <th>17</th>\n",
              "      <th>18</th>\n",
              "      <th>19</th>\n",
              "      <th>20</th>\n",
              "      <th>21</th>\n",
              "      <th>22</th>\n",
              "      <th>23</th>\n",
              "      <th>24</th>\n",
              "      <th>25</th>\n",
              "      <th>26</th>\n",
              "      <th>27</th>\n",
              "      <th>28</th>\n",
              "      <th>29</th>\n",
              "    </tr>\n",
              "  </thead>\n",
              "  <tbody>\n",
              "    <tr>\n",
              "      <th>0</th>\n",
              "      <td>0.052</td>\n",
              "      <td>0.006</td>\n",
              "      <td>0.044</td>\n",
              "      <td>0.001</td>\n",
              "      <td>0.061</td>\n",
              "      <td>0.043</td>\n",
              "      <td>0.061</td>\n",
              "      <td>0.035</td>\n",
              "      <td>0.002</td>\n",
              "      <td>0.057</td>\n",
              "      <td>0.004</td>\n",
              "      <td>0.005</td>\n",
              "      <td>0.013</td>\n",
              "      <td>0.048</td>\n",
              "      <td>0.031</td>\n",
              "      <td>0.039</td>\n",
              "      <td>0.019</td>\n",
              "      <td>0.014</td>\n",
              "      <td>0.031</td>\n",
              "      <td>0.063</td>\n",
              "      <td>0.025</td>\n",
              "      <td>0.032</td>\n",
              "      <td>0.043</td>\n",
              "      <td>0.069</td>\n",
              "      <td>0.011</td>\n",
              "      <td>0.058</td>\n",
              "      <td>0.051</td>\n",
              "      <td>0.010</td>\n",
              "      <td>0.004</td>\n",
              "      <td>0.068</td>\n",
              "    </tr>\n",
              "    <tr>\n",
              "      <th>1</th>\n",
              "      <td>0.026</td>\n",
              "      <td>0.052</td>\n",
              "      <td>0.008</td>\n",
              "      <td>0.036</td>\n",
              "      <td>0.027</td>\n",
              "      <td>0.029</td>\n",
              "      <td>0.057</td>\n",
              "      <td>0.046</td>\n",
              "      <td>0.005</td>\n",
              "      <td>0.009</td>\n",
              "      <td>0.042</td>\n",
              "      <td>0.052</td>\n",
              "      <td>0.039</td>\n",
              "      <td>0.057</td>\n",
              "      <td>0.029</td>\n",
              "      <td>0.051</td>\n",
              "      <td>0.058</td>\n",
              "      <td>0.033</td>\n",
              "      <td>0.015</td>\n",
              "      <td>0.053</td>\n",
              "      <td>0.013</td>\n",
              "      <td>0.024</td>\n",
              "      <td>0.036</td>\n",
              "      <td>0.033</td>\n",
              "      <td>0.021</td>\n",
              "      <td>0.030</td>\n",
              "      <td>0.023</td>\n",
              "      <td>0.020</td>\n",
              "      <td>0.024</td>\n",
              "      <td>0.050</td>\n",
              "    </tr>\n",
              "    <tr>\n",
              "      <th>2</th>\n",
              "      <td>0.067</td>\n",
              "      <td>0.008</td>\n",
              "      <td>0.043</td>\n",
              "      <td>0.020</td>\n",
              "      <td>0.012</td>\n",
              "      <td>0.067</td>\n",
              "      <td>0.010</td>\n",
              "      <td>0.060</td>\n",
              "      <td>0.020</td>\n",
              "      <td>0.061</td>\n",
              "      <td>0.059</td>\n",
              "      <td>0.009</td>\n",
              "      <td>0.025</td>\n",
              "      <td>0.070</td>\n",
              "      <td>0.019</td>\n",
              "      <td>0.004</td>\n",
              "      <td>0.005</td>\n",
              "      <td>0.066</td>\n",
              "      <td>0.017</td>\n",
              "      <td>0.007</td>\n",
              "      <td>0.033</td>\n",
              "      <td>0.014</td>\n",
              "      <td>0.016</td>\n",
              "      <td>0.017</td>\n",
              "      <td>0.040</td>\n",
              "      <td>0.059</td>\n",
              "      <td>0.040</td>\n",
              "      <td>0.014</td>\n",
              "      <td>0.066</td>\n",
              "      <td>0.052</td>\n",
              "    </tr>\n",
              "    <tr>\n",
              "      <th>3</th>\n",
              "      <td>0.017</td>\n",
              "      <td>0.045</td>\n",
              "      <td>0.027</td>\n",
              "      <td>0.045</td>\n",
              "      <td>0.036</td>\n",
              "      <td>0.025</td>\n",
              "      <td>0.068</td>\n",
              "      <td>0.067</td>\n",
              "      <td>0.002</td>\n",
              "      <td>0.015</td>\n",
              "      <td>0.040</td>\n",
              "      <td>0.044</td>\n",
              "      <td>0.002</td>\n",
              "      <td>0.029</td>\n",
              "      <td>0.020</td>\n",
              "      <td>0.001</td>\n",
              "      <td>0.023</td>\n",
              "      <td>0.037</td>\n",
              "      <td>0.031</td>\n",
              "      <td>0.043</td>\n",
              "      <td>0.060</td>\n",
              "      <td>0.053</td>\n",
              "      <td>0.027</td>\n",
              "      <td>0.021</td>\n",
              "      <td>0.050</td>\n",
              "      <td>0.045</td>\n",
              "      <td>0.060</td>\n",
              "      <td>0.063</td>\n",
              "      <td>0.004</td>\n",
              "      <td>0.003</td>\n",
              "    </tr>\n",
              "    <tr>\n",
              "      <th>4</th>\n",
              "      <td>0.011</td>\n",
              "      <td>0.038</td>\n",
              "      <td>0.020</td>\n",
              "      <td>0.000</td>\n",
              "      <td>0.067</td>\n",
              "      <td>0.023</td>\n",
              "      <td>0.006</td>\n",
              "      <td>0.021</td>\n",
              "      <td>0.058</td>\n",
              "      <td>0.023</td>\n",
              "      <td>0.006</td>\n",
              "      <td>0.054</td>\n",
              "      <td>0.039</td>\n",
              "      <td>0.013</td>\n",
              "      <td>0.061</td>\n",
              "      <td>0.055</td>\n",
              "      <td>0.040</td>\n",
              "      <td>0.031</td>\n",
              "      <td>0.037</td>\n",
              "      <td>0.034</td>\n",
              "      <td>0.002</td>\n",
              "      <td>0.027</td>\n",
              "      <td>0.062</td>\n",
              "      <td>0.045</td>\n",
              "      <td>0.044</td>\n",
              "      <td>0.032</td>\n",
              "      <td>0.048</td>\n",
              "      <td>0.035</td>\n",
              "      <td>0.026</td>\n",
              "      <td>0.043</td>\n",
              "    </tr>\n",
              "  </tbody>\n",
              "</table>\n",
              "</div>"
            ],
            "text/plain": [
              "      0      1      2      3      4   ...     25     26     27     28     29\n",
              "0  0.052  0.006  0.044  0.001  0.061  ...  0.058  0.051  0.010  0.004  0.068\n",
              "1  0.026  0.052  0.008  0.036  0.027  ...  0.030  0.023  0.020  0.024  0.050\n",
              "2  0.067  0.008  0.043  0.020  0.012  ...  0.059  0.040  0.014  0.066  0.052\n",
              "3  0.017  0.045  0.027  0.045  0.036  ...  0.045  0.060  0.063  0.004  0.003\n",
              "4  0.011  0.038  0.020  0.000  0.067  ...  0.032  0.048  0.035  0.026  0.043\n",
              "\n",
              "[5 rows x 30 columns]"
            ]
          },
          "metadata": {
            "tags": []
          },
          "execution_count": 5
        }
      ]
    },
    {
      "cell_type": "markdown",
      "metadata": {
        "id": "LGGxinLFmzhL"
      },
      "source": [
        "## Data Wrangling\n",
        "In this section I will make sure the data is ready to be analyzed."
      ]
    },
    {
      "cell_type": "markdown",
      "metadata": {
        "id": "7x6o195gz2B2"
      },
      "source": [
        "### Train Set"
      ]
    },
    {
      "cell_type": "markdown",
      "metadata": {
        "id": "AH1Neserz_WO"
      },
      "source": [
        "#### Dtypes\n",
        "Make sure data is the appropiated format."
      ]
    },
    {
      "cell_type": "code",
      "metadata": {
        "id": "IVrkzzXrs0Ey",
        "colab": {
          "base_uri": "https://localhost:8080/"
        },
        "outputId": "570a21d5-e316-42f9-fc8e-0d592a388dd6"
      },
      "source": [
        "train_set.info()"
      ],
      "execution_count": 6,
      "outputs": [
        {
          "output_type": "stream",
          "text": [
            "<class 'pandas.core.frame.DataFrame'>\n",
            "RangeIndex: 37660279 entries, 0 to 37660278\n",
            "Data columns (total 9 columns):\n",
            " #   Column                  Dtype  \n",
            "---  ------                  -----  \n",
            " 0   sku                     int64  \n",
            " 1   date                    object \n",
            " 2   sold_quantity           int64  \n",
            " 3   current_price           float64\n",
            " 4   currency                object \n",
            " 5   listing_type            object \n",
            " 6   shipping_logistic_type  object \n",
            " 7   shipping_payment        object \n",
            " 8   minutes_active          float64\n",
            "dtypes: float64(2), int64(2), object(5)\n",
            "memory usage: 2.5+ GB\n"
          ],
          "name": "stdout"
        }
      ]
    },
    {
      "cell_type": "markdown",
      "metadata": {
        "id": "grZRKzPC0KS5"
      },
      "source": [
        "Date is stored as object and should be interpreted as date."
      ]
    },
    {
      "cell_type": "code",
      "metadata": {
        "colab": {
          "base_uri": "https://localhost:8080/"
        },
        "id": "HAWP1jwW0bbe",
        "outputId": "8d196272-9232-463d-9f0f-a240f3562694"
      },
      "source": [
        "train_set[\"date\"] = pd.to_datetime(train_set[\"date\"])\n",
        "print(f\"Dates go from {train_set['date'].min().strftime('%Y-%m-%d')} to {train_set['date'].max().strftime('%Y-%m-%d')}\")"
      ],
      "execution_count": 7,
      "outputs": [
        {
          "output_type": "stream",
          "text": [
            "Dates go from 2021-02-01 to 2021-03-31\n"
          ],
          "name": "stdout"
        }
      ]
    },
    {
      "cell_type": "markdown",
      "metadata": {
        "id": "aXuodsfwWFCA"
      },
      "source": [
        "Other columns can also be optimized. Since this dataset is huge and I am working very near the memory limit, it is a good idea to optimize as much as possible."
      ]
    },
    {
      "cell_type": "code",
      "metadata": {
        "colab": {
          "base_uri": "https://localhost:8080/"
        },
        "id": "xwoojTNwWA48",
        "outputId": "43fdda53-ff70-4f1a-c90b-9b52930e4d5c"
      },
      "source": [
        "train_set[[\"sku\", \"sold_quantity\", \"minutes_active\", \"current_price\"]].max()"
      ],
      "execution_count": 8,
      "outputs": [
        {
          "output_type": "execute_result",
          "data": {
            "text/plain": [
              "sku                  660915.0\n",
              "sold_quantity          6951.0\n",
              "minutes_active         1440.0\n",
              "current_price     999999999.0\n",
              "dtype: float64"
            ]
          },
          "metadata": {
            "tags": []
          },
          "execution_count": 8
        }
      ]
    },
    {
      "cell_type": "code",
      "metadata": {
        "colab": {
          "base_uri": "https://localhost:8080/"
        },
        "id": "jppSHASjXJs_",
        "outputId": "04807071-a6db-49e7-cdc8-38c5b0cac4a0"
      },
      "source": [
        "train_set = train_set.astype({\n",
        "    \"sku\": \"int32\",\n",
        "    \"sold_quantity\": \"int16\",\n",
        "    \"minutes_active\": \"int16\",\n",
        "    \"current_price\": \"float32\"\n",
        "    })\n",
        "\n",
        "# Check max valyes again to make sure it didn't clip any value.\n",
        "train_set[[\"sku\", \"sold_quantity\", \"minutes_active\", \"current_price\"]].max()"
      ],
      "execution_count": 9,
      "outputs": [
        {
          "output_type": "execute_result",
          "data": {
            "text/plain": [
              "sku               6.609150e+05\n",
              "sold_quantity     6.951000e+03\n",
              "minutes_active    1.440000e+03\n",
              "current_price     1.000000e+09\n",
              "dtype: float64"
            ]
          },
          "metadata": {
            "tags": []
          },
          "execution_count": 9
        }
      ]
    },
    {
      "cell_type": "markdown",
      "metadata": {
        "id": "n7gpN3_ScDNz"
      },
      "source": [
        "The `current_price` clipped a single unit for the biggest value. It isn't problematic and I can keep up with it.\n",
        "\n",
        "I will round to the second decimal case since it is a monetary value, and for a online listing the third case is not relevant."
      ]
    },
    {
      "cell_type": "code",
      "metadata": {
        "id": "SAOpkUx7b3Gd"
      },
      "source": [
        "train_set[\"current_price\"] = train_set[\"current_price\"].round(2)"
      ],
      "execution_count": 10,
      "outputs": []
    },
    {
      "cell_type": "markdown",
      "metadata": {
        "id": "onO6Qqn-24YU"
      },
      "source": [
        "I'll also see the possible values from all other object columns to see if there's something to be done."
      ]
    },
    {
      "cell_type": "code",
      "metadata": {
        "colab": {
          "base_uri": "https://localhost:8080/"
        },
        "id": "kG06QmG72fLG",
        "outputId": "f5d79ba0-9419-4a91-e70f-d6178dd7496e"
      },
      "source": [
        "for col in train_set.dtypes[train_set.dtypes == \"object\"].index:\n",
        "    print(f\"{col} classes are: {', '.join(train_set[col].unique())}\")"
      ],
      "execution_count": 11,
      "outputs": [
        {
          "output_type": "stream",
          "text": [
            "currency classes are: REA, MEX, DOL, ARG\n",
            "listing_type classes are: classic, premium\n",
            "shipping_logistic_type classes are: fulfillment, cross_docking, drop_off\n",
            "shipping_payment classes are: free_shipping, paid_shipping\n"
          ],
          "name": "stdout"
        }
      ]
    },
    {
      "cell_type": "markdown",
      "metadata": {
        "id": "rd0PZJYw4FK4"
      },
      "source": [
        "#### Encoding\n",
        "Object columns need to be encoded in order to be used in modelling. For the columns with only two classes I'll transform them into a single columns. The others with 3+ classes will receive a column for each column.\n",
        "\n",
        "I won't drop one of them by now. Keeping all dummies may be bad for some algorithms, but for other dropping one of them is worse. I will keep all columns by now and decide what to do with these columns during modelling."
      ]
    },
    {
      "cell_type": "code",
      "metadata": {
        "colab": {
          "base_uri": "https://localhost:8080/",
          "height": 309
        },
        "id": "KJaaw5rd38l7",
        "outputId": "21b2b576-f53e-43cf-be76-b51d1dff0b4b"
      },
      "source": [
        "train_set = pd.get_dummies(train_set, columns=[\"listing_type\", \"shipping_payment\"], drop_first=True)\n",
        "train_set = pd.get_dummies(train_set, columns=[\"currency\", \"shipping_logistic_type\"], drop_first=False)\n",
        "train_set.head()"
      ],
      "execution_count": 12,
      "outputs": [
        {
          "output_type": "execute_result",
          "data": {
            "text/html": [
              "<div>\n",
              "<style scoped>\n",
              "    .dataframe tbody tr th:only-of-type {\n",
              "        vertical-align: middle;\n",
              "    }\n",
              "\n",
              "    .dataframe tbody tr th {\n",
              "        vertical-align: top;\n",
              "    }\n",
              "\n",
              "    .dataframe thead th {\n",
              "        text-align: right;\n",
              "    }\n",
              "</style>\n",
              "<table border=\"1\" class=\"dataframe\">\n",
              "  <thead>\n",
              "    <tr style=\"text-align: right;\">\n",
              "      <th></th>\n",
              "      <th>sku</th>\n",
              "      <th>date</th>\n",
              "      <th>sold_quantity</th>\n",
              "      <th>current_price</th>\n",
              "      <th>minutes_active</th>\n",
              "      <th>listing_type_premium</th>\n",
              "      <th>shipping_payment_paid_shipping</th>\n",
              "      <th>currency_ARG</th>\n",
              "      <th>currency_DOL</th>\n",
              "      <th>currency_MEX</th>\n",
              "      <th>currency_REA</th>\n",
              "      <th>shipping_logistic_type_cross_docking</th>\n",
              "      <th>shipping_logistic_type_drop_off</th>\n",
              "      <th>shipping_logistic_type_fulfillment</th>\n",
              "    </tr>\n",
              "  </thead>\n",
              "  <tbody>\n",
              "    <tr>\n",
              "      <th>0</th>\n",
              "      <td>464801</td>\n",
              "      <td>2021-02-01</td>\n",
              "      <td>0</td>\n",
              "      <td>156.779999</td>\n",
              "      <td>1440</td>\n",
              "      <td>0</td>\n",
              "      <td>0</td>\n",
              "      <td>0</td>\n",
              "      <td>0</td>\n",
              "      <td>0</td>\n",
              "      <td>1</td>\n",
              "      <td>0</td>\n",
              "      <td>0</td>\n",
              "      <td>1</td>\n",
              "    </tr>\n",
              "    <tr>\n",
              "      <th>1</th>\n",
              "      <td>464801</td>\n",
              "      <td>2021-02-02</td>\n",
              "      <td>0</td>\n",
              "      <td>156.779999</td>\n",
              "      <td>1440</td>\n",
              "      <td>0</td>\n",
              "      <td>0</td>\n",
              "      <td>0</td>\n",
              "      <td>0</td>\n",
              "      <td>0</td>\n",
              "      <td>1</td>\n",
              "      <td>0</td>\n",
              "      <td>0</td>\n",
              "      <td>1</td>\n",
              "    </tr>\n",
              "    <tr>\n",
              "      <th>2</th>\n",
              "      <td>464801</td>\n",
              "      <td>2021-02-03</td>\n",
              "      <td>0</td>\n",
              "      <td>156.779999</td>\n",
              "      <td>1440</td>\n",
              "      <td>0</td>\n",
              "      <td>0</td>\n",
              "      <td>0</td>\n",
              "      <td>0</td>\n",
              "      <td>0</td>\n",
              "      <td>1</td>\n",
              "      <td>0</td>\n",
              "      <td>0</td>\n",
              "      <td>1</td>\n",
              "    </tr>\n",
              "    <tr>\n",
              "      <th>3</th>\n",
              "      <td>464801</td>\n",
              "      <td>2021-02-04</td>\n",
              "      <td>0</td>\n",
              "      <td>156.779999</td>\n",
              "      <td>1440</td>\n",
              "      <td>0</td>\n",
              "      <td>0</td>\n",
              "      <td>0</td>\n",
              "      <td>0</td>\n",
              "      <td>0</td>\n",
              "      <td>1</td>\n",
              "      <td>0</td>\n",
              "      <td>0</td>\n",
              "      <td>1</td>\n",
              "    </tr>\n",
              "    <tr>\n",
              "      <th>4</th>\n",
              "      <td>464801</td>\n",
              "      <td>2021-02-05</td>\n",
              "      <td>1</td>\n",
              "      <td>156.779999</td>\n",
              "      <td>1440</td>\n",
              "      <td>0</td>\n",
              "      <td>0</td>\n",
              "      <td>0</td>\n",
              "      <td>0</td>\n",
              "      <td>0</td>\n",
              "      <td>1</td>\n",
              "      <td>0</td>\n",
              "      <td>0</td>\n",
              "      <td>1</td>\n",
              "    </tr>\n",
              "  </tbody>\n",
              "</table>\n",
              "</div>"
            ],
            "text/plain": [
              "      sku  ... shipping_logistic_type_fulfillment\n",
              "0  464801  ...                                  1\n",
              "1  464801  ...                                  1\n",
              "2  464801  ...                                  1\n",
              "3  464801  ...                                  1\n",
              "4  464801  ...                                  1\n",
              "\n",
              "[5 rows x 14 columns]"
            ]
          },
          "metadata": {
            "tags": []
          },
          "execution_count": 12
        }
      ]
    },
    {
      "cell_type": "markdown",
      "metadata": {
        "id": "VOgt3ywmc_LS"
      },
      "source": [
        "Let's see memory usage now"
      ]
    },
    {
      "cell_type": "code",
      "metadata": {
        "colab": {
          "base_uri": "https://localhost:8080/"
        },
        "id": "edqTKM-OdFGK",
        "outputId": "3e6957ce-63f7-4462-9186-f480de680fd8"
      },
      "source": [
        "train_set.info()"
      ],
      "execution_count": 13,
      "outputs": [
        {
          "output_type": "stream",
          "text": [
            "<class 'pandas.core.frame.DataFrame'>\n",
            "RangeIndex: 37660279 entries, 0 to 37660278\n",
            "Data columns (total 14 columns):\n",
            " #   Column                                Dtype         \n",
            "---  ------                                -----         \n",
            " 0   sku                                   int32         \n",
            " 1   date                                  datetime64[ns]\n",
            " 2   sold_quantity                         int16         \n",
            " 3   current_price                         float32       \n",
            " 4   minutes_active                        int16         \n",
            " 5   listing_type_premium                  uint8         \n",
            " 6   shipping_payment_paid_shipping        uint8         \n",
            " 7   currency_ARG                          uint8         \n",
            " 8   currency_DOL                          uint8         \n",
            " 9   currency_MEX                          uint8         \n",
            " 10  currency_REA                          uint8         \n",
            " 11  shipping_logistic_type_cross_docking  uint8         \n",
            " 12  shipping_logistic_type_drop_off       uint8         \n",
            " 13  shipping_logistic_type_fulfillment    uint8         \n",
            "dtypes: datetime64[ns](1), float32(1), int16(2), int32(1), uint8(9)\n",
            "memory usage: 1.0 GB\n"
          ],
          "name": "stdout"
        }
      ]
    },
    {
      "cell_type": "markdown",
      "metadata": {
        "id": "hocKhiBrdHNp"
      },
      "source": [
        "Memory usage is much better now."
      ]
    },
    {
      "cell_type": "markdown",
      "metadata": {
        "id": "xFwr2RM86M1S"
      },
      "source": [
        "#### NaN\n",
        "Check for NaNs in the dataset."
      ]
    },
    {
      "cell_type": "code",
      "metadata": {
        "colab": {
          "base_uri": "https://localhost:8080/"
        },
        "id": "4Kpu22M76L-E",
        "outputId": "71e51192-a601-4442-f3e8-47fbb8898d6a"
      },
      "source": [
        "print(f\"There are {train_set.isna().sum().sum()} NaNs in the dataset.\")"
      ],
      "execution_count": 14,
      "outputs": [
        {
          "output_type": "stream",
          "text": [
            "There are 0 NaNs in the dataset.\n"
          ],
          "name": "stdout"
        }
      ]
    },
    {
      "cell_type": "markdown",
      "metadata": {
        "id": "3ZGbeOZn6lYS"
      },
      "source": [
        "### Test Set"
      ]
    },
    {
      "cell_type": "markdown",
      "metadata": {
        "id": "QVEMj8kf6sl5"
      },
      "source": [
        "#### Dtypes\n",
        "Make sure data is the appropiated format."
      ]
    },
    {
      "cell_type": "code",
      "metadata": {
        "colab": {
          "base_uri": "https://localhost:8080/"
        },
        "id": "EcS23kla6thP",
        "outputId": "5f99e08f-0165-4592-d5d3-11c4f4429486"
      },
      "source": [
        "test_set.info()"
      ],
      "execution_count": 15,
      "outputs": [
        {
          "output_type": "stream",
          "text": [
            "<class 'pandas.core.frame.DataFrame'>\n",
            "RangeIndex: 551472 entries, 0 to 551471\n",
            "Data columns (total 2 columns):\n",
            " #   Column        Non-Null Count   Dtype\n",
            "---  ------        --------------   -----\n",
            " 0   sku           551472 non-null  int64\n",
            " 1   target_stock  551472 non-null  int64\n",
            "dtypes: int64(2)\n",
            "memory usage: 8.4 MB\n"
          ],
          "name": "stdout"
        }
      ]
    },
    {
      "cell_type": "markdown",
      "metadata": {
        "id": "C3JJnfyLdpPe"
      },
      "source": [
        "It shows that there is no NaNs.\n",
        "\n",
        "I will assign smaller dtypes for better memory usage. First I need to see the biggest values to check which dtype apply."
      ]
    },
    {
      "cell_type": "code",
      "metadata": {
        "colab": {
          "base_uri": "https://localhost:8080/"
        },
        "id": "YbNgYeRvd22u",
        "outputId": "3454bfbc-8191-4d36-f0b5-13644665e7fd"
      },
      "source": [
        "test_set.max()"
      ],
      "execution_count": 16,
      "outputs": [
        {
          "output_type": "execute_result",
          "data": {
            "text/plain": [
              "sku             660914\n",
              "target_stock     32710\n",
              "dtype: int64"
            ]
          },
          "metadata": {
            "tags": []
          },
          "execution_count": 16
        }
      ]
    },
    {
      "cell_type": "code",
      "metadata": {
        "colab": {
          "base_uri": "https://localhost:8080/"
        },
        "id": "bVznG1Gmd5kY",
        "outputId": "26b46ead-273d-416d-f1bc-eea9ef50ac24"
      },
      "source": [
        "test_set = test_set.astype({\"sku\": \"uint32\", \"target_stock\": \"uint16\"})\n",
        "test_set.max()  # Print max values to make sure values were not clipped."
      ],
      "execution_count": 17,
      "outputs": [
        {
          "output_type": "execute_result",
          "data": {
            "text/plain": [
              "sku             660914\n",
              "target_stock     32710\n",
              "dtype: int64"
            ]
          },
          "metadata": {
            "tags": []
          },
          "execution_count": 17
        }
      ]
    },
    {
      "cell_type": "markdown",
      "metadata": {
        "id": "KDtE0YSifuma"
      },
      "source": [
        "We want to test the next 30 days, so we need to explode this dataset for these dates."
      ]
    },
    {
      "cell_type": "code",
      "metadata": {
        "colab": {
          "base_uri": "https://localhost:8080/",
          "height": 204
        },
        "id": "Lrz4_2WzZ3_r",
        "outputId": "03c95fc6-6ada-4708-f0cd-10e474d2f235"
      },
      "source": [
        "start = train_set[\"date\"].max() + pd.Timedelta(days=1)\n",
        "end = start + pd.Timedelta(days=29)\n",
        "date_range = list(pd.date_range(start, end, freq='D'))\n",
        "\n",
        "test_set[\"date\"] = test_set[\"sku\"].apply(lambda row: date_range)\n",
        "test_set = test_set.explode(\"date\")\n",
        "\n",
        "test_set.head()"
      ],
      "execution_count": 18,
      "outputs": [
        {
          "output_type": "execute_result",
          "data": {
            "text/html": [
              "<div>\n",
              "<style scoped>\n",
              "    .dataframe tbody tr th:only-of-type {\n",
              "        vertical-align: middle;\n",
              "    }\n",
              "\n",
              "    .dataframe tbody tr th {\n",
              "        vertical-align: top;\n",
              "    }\n",
              "\n",
              "    .dataframe thead th {\n",
              "        text-align: right;\n",
              "    }\n",
              "</style>\n",
              "<table border=\"1\" class=\"dataframe\">\n",
              "  <thead>\n",
              "    <tr style=\"text-align: right;\">\n",
              "      <th></th>\n",
              "      <th>sku</th>\n",
              "      <th>target_stock</th>\n",
              "      <th>date</th>\n",
              "    </tr>\n",
              "  </thead>\n",
              "  <tbody>\n",
              "    <tr>\n",
              "      <th>0</th>\n",
              "      <td>464801</td>\n",
              "      <td>3</td>\n",
              "      <td>2021-04-01</td>\n",
              "    </tr>\n",
              "    <tr>\n",
              "      <th>0</th>\n",
              "      <td>464801</td>\n",
              "      <td>3</td>\n",
              "      <td>2021-04-02</td>\n",
              "    </tr>\n",
              "    <tr>\n",
              "      <th>0</th>\n",
              "      <td>464801</td>\n",
              "      <td>3</td>\n",
              "      <td>2021-04-03</td>\n",
              "    </tr>\n",
              "    <tr>\n",
              "      <th>0</th>\n",
              "      <td>464801</td>\n",
              "      <td>3</td>\n",
              "      <td>2021-04-04</td>\n",
              "    </tr>\n",
              "    <tr>\n",
              "      <th>0</th>\n",
              "      <td>464801</td>\n",
              "      <td>3</td>\n",
              "      <td>2021-04-05</td>\n",
              "    </tr>\n",
              "  </tbody>\n",
              "</table>\n",
              "</div>"
            ],
            "text/plain": [
              "      sku  target_stock       date\n",
              "0  464801             3 2021-04-01\n",
              "0  464801             3 2021-04-02\n",
              "0  464801             3 2021-04-03\n",
              "0  464801             3 2021-04-04\n",
              "0  464801             3 2021-04-05"
            ]
          },
          "metadata": {
            "tags": []
          },
          "execution_count": 18
        }
      ]
    },
    {
      "cell_type": "code",
      "metadata": {
        "colab": {
          "base_uri": "https://localhost:8080/"
        },
        "id": "2tdzlZvffZSt",
        "outputId": "4891fc61-dbd2-4b26-e370-417f8eb67f69"
      },
      "source": [
        "test_set.info()"
      ],
      "execution_count": 19,
      "outputs": [
        {
          "output_type": "stream",
          "text": [
            "<class 'pandas.core.frame.DataFrame'>\n",
            "Int64Index: 16544160 entries, 0 to 551471\n",
            "Data columns (total 3 columns):\n",
            " #   Column        Dtype         \n",
            "---  ------        -----         \n",
            " 0   sku           uint32        \n",
            " 1   target_stock  uint16        \n",
            " 2   date          datetime64[ns]\n",
            "dtypes: datetime64[ns](1), uint16(1), uint32(1)\n",
            "memory usage: 347.1 MB\n"
          ],
          "name": "stdout"
        }
      ]
    },
    {
      "cell_type": "markdown",
      "metadata": {
        "id": "Jes-eRtH7lAp"
      },
      "source": [
        "### Items Data"
      ]
    },
    {
      "cell_type": "markdown",
      "metadata": {
        "id": "-y9qp8lM7rEs"
      },
      "source": [
        "#### Dtypes\n",
        "Make sure data is the appropiated format."
      ]
    },
    {
      "cell_type": "code",
      "metadata": {
        "id": "Lcdh6J-P7tyE",
        "colab": {
          "base_uri": "https://localhost:8080/"
        },
        "outputId": "0c150261-2920-4f6c-81a4-463b9b150712"
      },
      "source": [
        "items_data.info()"
      ],
      "execution_count": 20,
      "outputs": [
        {
          "output_type": "stream",
          "text": [
            "<class 'pandas.core.frame.DataFrame'>\n",
            "RangeIndex: 660916 entries, 0 to 660915\n",
            "Data columns (total 7 columns):\n",
            " #   Column             Non-Null Count   Dtype \n",
            "---  ------             --------------   ----- \n",
            " 0   item_domain_id     660913 non-null  object\n",
            " 1   item_id            660916 non-null  int64 \n",
            " 2   item_title         660916 non-null  object\n",
            " 3   site_id            660916 non-null  object\n",
            " 4   sku                660916 non-null  int64 \n",
            " 5   product_id         29668 non-null   object\n",
            " 6   product_family_id  83184 non-null   object\n",
            "dtypes: int64(2), object(5)\n",
            "memory usage: 35.3+ MB\n"
          ],
          "name": "stdout"
        }
      ]
    },
    {
      "cell_type": "markdown",
      "metadata": {
        "id": "wfkUzP-OrX22"
      },
      "source": [
        "Let's check max values to see which types to apply."
      ]
    },
    {
      "cell_type": "code",
      "metadata": {
        "id": "zgrZrTFBq4Ay",
        "colab": {
          "base_uri": "https://localhost:8080/"
        },
        "outputId": "52d10145-2300-4cd6-e6bf-d17fb579454e"
      },
      "source": [
        "items_data.max()"
      ],
      "execution_count": 21,
      "outputs": [
        {
          "output_type": "execute_result",
          "data": {
            "text/plain": [
              "item_id                           517895\n",
              "item_title    Útiles Set Basico Todomoda\n",
              "site_id                              MLM\n",
              "sku                               660915\n",
              "dtype: object"
            ]
          },
          "metadata": {
            "tags": []
          },
          "execution_count": 21
        }
      ]
    },
    {
      "cell_type": "markdown",
      "metadata": {
        "id": "fKOP5yw5ro0B"
      },
      "source": [
        "Apply and verify if the transformation didn't clip."
      ]
    },
    {
      "cell_type": "code",
      "metadata": {
        "id": "ZkKYzWNdrDia",
        "colab": {
          "base_uri": "https://localhost:8080/"
        },
        "outputId": "f4ba0ff6-c784-43b5-8284-a68aaab3b62b"
      },
      "source": [
        "items_data = items_data.astype({\n",
        "    \"item_id\": \"int32\",\n",
        "    \"sku\": \"int32\",\n",
        "})\n",
        "items_data.max()"
      ],
      "execution_count": 22,
      "outputs": [
        {
          "output_type": "execute_result",
          "data": {
            "text/plain": [
              "item_id                           517895\n",
              "item_title    Útiles Set Basico Todomoda\n",
              "site_id                              MLM\n",
              "sku                               660915\n",
              "dtype: object"
            ]
          },
          "metadata": {
            "tags": []
          },
          "execution_count": 22
        }
      ]
    },
    {
      "cell_type": "markdown",
      "metadata": {
        "id": "unopSOlD84Km"
      },
      "source": [
        "`sku` should be this dataset index."
      ]
    },
    {
      "cell_type": "code",
      "metadata": {
        "id": "EsntEL-D9baV",
        "colab": {
          "base_uri": "https://localhost:8080/",
          "height": 235
        },
        "outputId": "5dea2452-46a0-401f-e5bf-5db84617fe72"
      },
      "source": [
        "items_data = items_data.set_index(\"sku\")\n",
        "items_data.head()"
      ],
      "execution_count": 23,
      "outputs": [
        {
          "output_type": "execute_result",
          "data": {
            "text/html": [
              "<div>\n",
              "<style scoped>\n",
              "    .dataframe tbody tr th:only-of-type {\n",
              "        vertical-align: middle;\n",
              "    }\n",
              "\n",
              "    .dataframe tbody tr th {\n",
              "        vertical-align: top;\n",
              "    }\n",
              "\n",
              "    .dataframe thead th {\n",
              "        text-align: right;\n",
              "    }\n",
              "</style>\n",
              "<table border=\"1\" class=\"dataframe\">\n",
              "  <thead>\n",
              "    <tr style=\"text-align: right;\">\n",
              "      <th></th>\n",
              "      <th>item_domain_id</th>\n",
              "      <th>item_id</th>\n",
              "      <th>item_title</th>\n",
              "      <th>site_id</th>\n",
              "      <th>product_id</th>\n",
              "      <th>product_family_id</th>\n",
              "    </tr>\n",
              "    <tr>\n",
              "      <th>sku</th>\n",
              "      <th></th>\n",
              "      <th></th>\n",
              "      <th></th>\n",
              "      <th></th>\n",
              "      <th></th>\n",
              "      <th></th>\n",
              "    </tr>\n",
              "  </thead>\n",
              "  <tbody>\n",
              "    <tr>\n",
              "      <th>0</th>\n",
              "      <td>MLB-SNEAKERS</td>\n",
              "      <td>492155</td>\n",
              "      <td>Tênis Masculino Olympikus Cyber Barato Promoçao</td>\n",
              "      <td>MLB</td>\n",
              "      <td>None</td>\n",
              "      <td>MLB15832732</td>\n",
              "    </tr>\n",
              "    <tr>\n",
              "      <th>1</th>\n",
              "      <td>MLB-SURFBOARD_RACKS</td>\n",
              "      <td>300279</td>\n",
              "      <td>Suporte Rack Prancha Parede C/ Regulagem Horiz...</td>\n",
              "      <td>MLB</td>\n",
              "      <td>None</td>\n",
              "      <td>None</td>\n",
              "    </tr>\n",
              "    <tr>\n",
              "      <th>2</th>\n",
              "      <td>MLM-NECKLACES</td>\n",
              "      <td>69847</td>\n",
              "      <td>5 Collares Plateados Dama Gargantilla Choker -...</td>\n",
              "      <td>MLM</td>\n",
              "      <td>None</td>\n",
              "      <td>None</td>\n",
              "    </tr>\n",
              "    <tr>\n",
              "      <th>3</th>\n",
              "      <td>MLM-RINGS</td>\n",
              "      <td>298603</td>\n",
              "      <td>Lindo Anillo De Bella Crepusculo Twilight Prom...</td>\n",
              "      <td>MLM</td>\n",
              "      <td>None</td>\n",
              "      <td>None</td>\n",
              "    </tr>\n",
              "    <tr>\n",
              "      <th>4</th>\n",
              "      <td>MLB-WEBCAMS</td>\n",
              "      <td>345949</td>\n",
              "      <td>Webcam Com Microfone Hd 720p Knup Youtube Pc V...</td>\n",
              "      <td>MLB</td>\n",
              "      <td>None</td>\n",
              "      <td>None</td>\n",
              "    </tr>\n",
              "  </tbody>\n",
              "</table>\n",
              "</div>"
            ],
            "text/plain": [
              "          item_domain_id  item_id  ... product_id product_family_id\n",
              "sku                                ...                             \n",
              "0           MLB-SNEAKERS   492155  ...       None       MLB15832732\n",
              "1    MLB-SURFBOARD_RACKS   300279  ...       None              None\n",
              "2          MLM-NECKLACES    69847  ...       None              None\n",
              "3              MLM-RINGS   298603  ...       None              None\n",
              "4            MLB-WEBCAMS   345949  ...       None              None\n",
              "\n",
              "[5 rows x 6 columns]"
            ]
          },
          "metadata": {
            "tags": []
          },
          "execution_count": 23
        }
      ]
    },
    {
      "cell_type": "markdown",
      "metadata": {
        "id": "8Jk4p-Fa-Kj6"
      },
      "source": [
        "#### Encoding\n",
        "Let's check if some of these columns are able to be encoded."
      ]
    },
    {
      "cell_type": "code",
      "metadata": {
        "id": "UVls4GVp-KFr",
        "colab": {
          "base_uri": "https://localhost:8080/"
        },
        "outputId": "c302631b-e930-4696-b57b-8db900c57c9c"
      },
      "source": [
        "for col in items_data.select_dtypes(\"object\").columns:\n",
        "    print(f\"{col} has {len(items_data[col].unique())} classes\")"
      ],
      "execution_count": 24,
      "outputs": [
        {
          "output_type": "stream",
          "text": [
            "item_domain_id has 8409 classes\n",
            "item_title has 478175 classes\n",
            "site_id has 3 classes\n",
            "product_id has 15864 classes\n",
            "product_family_id has 29601 classes\n"
          ],
          "name": "stdout"
        }
      ]
    },
    {
      "cell_type": "markdown",
      "metadata": {
        "id": "WaRYdY64VSGU"
      },
      "source": [
        "It seems only `site_id` is categorical. The remainded cannot be encoded by now.\n",
        "\n",
        "For the same reason as before. I won't drop one of the encoded categories. I will leave this decision to later on."
      ]
    },
    {
      "cell_type": "code",
      "metadata": {
        "id": "vbU_CB__VYPR",
        "colab": {
          "base_uri": "https://localhost:8080/",
          "height": 235
        },
        "outputId": "16792673-5f71-465b-b9f8-bfd1e7b53838"
      },
      "source": [
        "items_data = pd.get_dummies(items_data, columns=[\"site_id\"], drop_first=False)\n",
        "items_data.head()"
      ],
      "execution_count": 25,
      "outputs": [
        {
          "output_type": "execute_result",
          "data": {
            "text/html": [
              "<div>\n",
              "<style scoped>\n",
              "    .dataframe tbody tr th:only-of-type {\n",
              "        vertical-align: middle;\n",
              "    }\n",
              "\n",
              "    .dataframe tbody tr th {\n",
              "        vertical-align: top;\n",
              "    }\n",
              "\n",
              "    .dataframe thead th {\n",
              "        text-align: right;\n",
              "    }\n",
              "</style>\n",
              "<table border=\"1\" class=\"dataframe\">\n",
              "  <thead>\n",
              "    <tr style=\"text-align: right;\">\n",
              "      <th></th>\n",
              "      <th>item_domain_id</th>\n",
              "      <th>item_id</th>\n",
              "      <th>item_title</th>\n",
              "      <th>product_id</th>\n",
              "      <th>product_family_id</th>\n",
              "      <th>site_id_MLA</th>\n",
              "      <th>site_id_MLB</th>\n",
              "      <th>site_id_MLM</th>\n",
              "    </tr>\n",
              "    <tr>\n",
              "      <th>sku</th>\n",
              "      <th></th>\n",
              "      <th></th>\n",
              "      <th></th>\n",
              "      <th></th>\n",
              "      <th></th>\n",
              "      <th></th>\n",
              "      <th></th>\n",
              "      <th></th>\n",
              "    </tr>\n",
              "  </thead>\n",
              "  <tbody>\n",
              "    <tr>\n",
              "      <th>0</th>\n",
              "      <td>MLB-SNEAKERS</td>\n",
              "      <td>492155</td>\n",
              "      <td>Tênis Masculino Olympikus Cyber Barato Promoçao</td>\n",
              "      <td>None</td>\n",
              "      <td>MLB15832732</td>\n",
              "      <td>0</td>\n",
              "      <td>1</td>\n",
              "      <td>0</td>\n",
              "    </tr>\n",
              "    <tr>\n",
              "      <th>1</th>\n",
              "      <td>MLB-SURFBOARD_RACKS</td>\n",
              "      <td>300279</td>\n",
              "      <td>Suporte Rack Prancha Parede C/ Regulagem Horiz...</td>\n",
              "      <td>None</td>\n",
              "      <td>None</td>\n",
              "      <td>0</td>\n",
              "      <td>1</td>\n",
              "      <td>0</td>\n",
              "    </tr>\n",
              "    <tr>\n",
              "      <th>2</th>\n",
              "      <td>MLM-NECKLACES</td>\n",
              "      <td>69847</td>\n",
              "      <td>5 Collares Plateados Dama Gargantilla Choker -...</td>\n",
              "      <td>None</td>\n",
              "      <td>None</td>\n",
              "      <td>0</td>\n",
              "      <td>0</td>\n",
              "      <td>1</td>\n",
              "    </tr>\n",
              "    <tr>\n",
              "      <th>3</th>\n",
              "      <td>MLM-RINGS</td>\n",
              "      <td>298603</td>\n",
              "      <td>Lindo Anillo De Bella Crepusculo Twilight Prom...</td>\n",
              "      <td>None</td>\n",
              "      <td>None</td>\n",
              "      <td>0</td>\n",
              "      <td>0</td>\n",
              "      <td>1</td>\n",
              "    </tr>\n",
              "    <tr>\n",
              "      <th>4</th>\n",
              "      <td>MLB-WEBCAMS</td>\n",
              "      <td>345949</td>\n",
              "      <td>Webcam Com Microfone Hd 720p Knup Youtube Pc V...</td>\n",
              "      <td>None</td>\n",
              "      <td>None</td>\n",
              "      <td>0</td>\n",
              "      <td>1</td>\n",
              "      <td>0</td>\n",
              "    </tr>\n",
              "  </tbody>\n",
              "</table>\n",
              "</div>"
            ],
            "text/plain": [
              "          item_domain_id  item_id  ... site_id_MLB site_id_MLM\n",
              "sku                                ...                        \n",
              "0           MLB-SNEAKERS   492155  ...           1           0\n",
              "1    MLB-SURFBOARD_RACKS   300279  ...           1           0\n",
              "2          MLM-NECKLACES    69847  ...           0           1\n",
              "3              MLM-RINGS   298603  ...           0           1\n",
              "4            MLB-WEBCAMS   345949  ...           1           0\n",
              "\n",
              "[5 rows x 8 columns]"
            ]
          },
          "metadata": {
            "tags": []
          },
          "execution_count": 25
        }
      ]
    },
    {
      "cell_type": "markdown",
      "metadata": {
        "id": "wcHFtkyw-Vbv"
      },
      "source": [
        "#### NaNs\n",
        "The columns `product_id` and `product_family_id` are mostly NaNs. I will deal with them later. \n",
        "\n",
        "The `item_domain_id` is has only a few missing rows. I will deal with them manually."
      ]
    },
    {
      "cell_type": "code",
      "metadata": {
        "id": "D5p1D2UGYxZM",
        "colab": {
          "base_uri": "https://localhost:8080/",
          "height": 173
        },
        "outputId": "0578b94c-be0a-4811-cb9b-99940422c330"
      },
      "source": [
        "items_data[items_data['item_domain_id'].isna()]"
      ],
      "execution_count": 26,
      "outputs": [
        {
          "output_type": "execute_result",
          "data": {
            "text/html": [
              "<div>\n",
              "<style scoped>\n",
              "    .dataframe tbody tr th:only-of-type {\n",
              "        vertical-align: middle;\n",
              "    }\n",
              "\n",
              "    .dataframe tbody tr th {\n",
              "        vertical-align: top;\n",
              "    }\n",
              "\n",
              "    .dataframe thead th {\n",
              "        text-align: right;\n",
              "    }\n",
              "</style>\n",
              "<table border=\"1\" class=\"dataframe\">\n",
              "  <thead>\n",
              "    <tr style=\"text-align: right;\">\n",
              "      <th></th>\n",
              "      <th>item_domain_id</th>\n",
              "      <th>item_id</th>\n",
              "      <th>item_title</th>\n",
              "      <th>product_id</th>\n",
              "      <th>product_family_id</th>\n",
              "      <th>site_id_MLA</th>\n",
              "      <th>site_id_MLB</th>\n",
              "      <th>site_id_MLM</th>\n",
              "    </tr>\n",
              "    <tr>\n",
              "      <th>sku</th>\n",
              "      <th></th>\n",
              "      <th></th>\n",
              "      <th></th>\n",
              "      <th></th>\n",
              "      <th></th>\n",
              "      <th></th>\n",
              "      <th></th>\n",
              "      <th></th>\n",
              "    </tr>\n",
              "  </thead>\n",
              "  <tbody>\n",
              "    <tr>\n",
              "      <th>454273</th>\n",
              "      <td>None</td>\n",
              "      <td>245417</td>\n",
              "      <td>Fone De Ouvido Multilaser Tws Ph326 Airbud Sem...</td>\n",
              "      <td>None</td>\n",
              "      <td>MLB16117735</td>\n",
              "      <td>0</td>\n",
              "      <td>1</td>\n",
              "      <td>0</td>\n",
              "    </tr>\n",
              "    <tr>\n",
              "      <th>459892</th>\n",
              "      <td>None</td>\n",
              "      <td>283198</td>\n",
              "      <td>Headset Gamer Multilaser P2 Ph123 Preto E Verde</td>\n",
              "      <td>None</td>\n",
              "      <td>MLB16158968</td>\n",
              "      <td>0</td>\n",
              "      <td>1</td>\n",
              "      <td>0</td>\n",
              "    </tr>\n",
              "    <tr>\n",
              "      <th>553503</th>\n",
              "      <td>None</td>\n",
              "      <td>114028</td>\n",
              "      <td>Prancha De Cabelo Taiff Elegance Frizz Cerâmic...</td>\n",
              "      <td>None</td>\n",
              "      <td>MLB17821818</td>\n",
              "      <td>0</td>\n",
              "      <td>1</td>\n",
              "      <td>0</td>\n",
              "    </tr>\n",
              "  </tbody>\n",
              "</table>\n",
              "</div>"
            ],
            "text/plain": [
              "       item_domain_id  item_id  ... site_id_MLB site_id_MLM\n",
              "sku                             ...                        \n",
              "454273           None   245417  ...           1           0\n",
              "459892           None   283198  ...           1           0\n",
              "553503           None   114028  ...           1           0\n",
              "\n",
              "[3 rows x 8 columns]"
            ]
          },
          "metadata": {
            "tags": []
          },
          "execution_count": 26
        }
      ]
    },
    {
      "cell_type": "code",
      "metadata": {
        "id": "ur-QnK78bouM",
        "colab": {
          "base_uri": "https://localhost:8080/"
        },
        "outputId": "8730af53-ede1-4232-b6ad-fe053be39971"
      },
      "source": [
        "# Iterate over SKU that has missing data on item_domain_id.\n",
        "for sku in items_data[items_data[\"item_domain_id\"].isna()].index:\n",
        "    print(f\"sku = {sku}\")\n",
        "    print(f\"item_title = {items_data.loc[sku]['item_title']}\")\n",
        "\n",
        "    # Filter only lines from same product_family_id.\n",
        "    product_family_id = items_data[items_data[\"product_family_id\"] == items_data.loc[sku][\"product_family_id\"]]\n",
        "\n",
        "    # If the only line is the one that we are trying to fill, send a error message.\n",
        "    if product_family_id[\"item_domain_id\"].isna().all():\n",
        "        print(\"No other products on the same family to compare to.\\n\")\n",
        "    \n",
        "    # But if it has, fill the missing values.\n",
        "    else:\n",
        "        item_domain_id = product_family_id[\"item_domain_id\"].dropna().iloc[0]\n",
        "        print(f\"item_domain_id = {item_domain_id}\\n\")\n",
        "        items_data.loc[sku, \"item_domain_id\"] = item_domain_id"
      ],
      "execution_count": 27,
      "outputs": [
        {
          "output_type": "stream",
          "text": [
            "sku = 454273\n",
            "item_title = Fone De Ouvido Multilaser Tws Ph326 Airbud Sem Fio Microfone\n",
            "item_domain_id = MLB-HEADPHONES\n",
            "\n",
            "sku = 459892\n",
            "item_title = Headset Gamer Multilaser P2 Ph123 Preto E Verde\n",
            "No other products on the same family to compare to.\n",
            "\n",
            "sku = 553503\n",
            "item_title = Prancha De Cabelo Taiff Elegance Frizz Cerâmica 230ºc Bivolt\n",
            "item_domain_id = MLB-HAIR_STRAIGHTENERS\n",
            "\n"
          ],
          "name": "stdout"
        }
      ]
    },
    {
      "cell_type": "markdown",
      "metadata": {
        "id": "ONPs56nnnnO8"
      },
      "source": [
        "The *Headset Gamer Multilaser P2 Ph123 Preto E Verde* must be filled manually. I'll fill it with *MLB-HEADPHONES*"
      ]
    },
    {
      "cell_type": "code",
      "metadata": {
        "id": "duyhCFkWiCGf",
        "colab": {
          "base_uri": "https://localhost:8080/"
        },
        "outputId": "4fe21e23-8ca7-415f-9d7d-7aaf9526ffe4"
      },
      "source": [
        "items_data.loc[459892, \"item_domain_id\"] = \"MLB-HEADPHONES\"\n",
        "print(f\"Amount of missing data = {items_data['item_domain_id'].isna().sum()}\")"
      ],
      "execution_count": 28,
      "outputs": [
        {
          "output_type": "stream",
          "text": [
            "Amount of missing data = 0\n"
          ],
          "name": "stdout"
        }
      ]
    },
    {
      "cell_type": "markdown",
      "metadata": {
        "id": "tYcjOZfithzS"
      },
      "source": [
        "### Sample Submission"
      ]
    },
    {
      "cell_type": "markdown",
      "metadata": {
        "id": "VQBxlacdtk_v"
      },
      "source": [
        "#### Dtypes\n",
        "Make sure data is the appropiated format."
      ]
    },
    {
      "cell_type": "code",
      "metadata": {
        "colab": {
          "base_uri": "https://localhost:8080/"
        },
        "id": "JCU0-5Egtqau",
        "outputId": "00bb7588-a2a5-4e9d-856d-4b4d28492b6c"
      },
      "source": [
        "sample_submission.info()"
      ],
      "execution_count": 29,
      "outputs": [
        {
          "output_type": "stream",
          "text": [
            "<class 'pandas.core.frame.DataFrame'>\n",
            "RangeIndex: 551472 entries, 0 to 551471\n",
            "Data columns (total 30 columns):\n",
            " #   Column  Non-Null Count   Dtype  \n",
            "---  ------  --------------   -----  \n",
            " 0   0       551472 non-null  float64\n",
            " 1   1       551472 non-null  float64\n",
            " 2   2       551472 non-null  float64\n",
            " 3   3       551472 non-null  float64\n",
            " 4   4       551472 non-null  float64\n",
            " 5   5       551472 non-null  float64\n",
            " 6   6       551472 non-null  float64\n",
            " 7   7       551472 non-null  float64\n",
            " 8   8       551472 non-null  float64\n",
            " 9   9       551472 non-null  float64\n",
            " 10  10      551472 non-null  float64\n",
            " 11  11      551472 non-null  float64\n",
            " 12  12      551472 non-null  float64\n",
            " 13  13      551472 non-null  float64\n",
            " 14  14      551472 non-null  float64\n",
            " 15  15      551472 non-null  float64\n",
            " 16  16      551472 non-null  float64\n",
            " 17  17      551472 non-null  float64\n",
            " 18  18      551472 non-null  float64\n",
            " 19  19      551472 non-null  float64\n",
            " 20  20      551472 non-null  float64\n",
            " 21  21      551472 non-null  float64\n",
            " 22  22      551472 non-null  float64\n",
            " 23  23      551472 non-null  float64\n",
            " 24  24      551472 non-null  float64\n",
            " 25  25      551472 non-null  float64\n",
            " 26  26      551472 non-null  float64\n",
            " 27  27      551472 non-null  float64\n",
            " 28  28      551472 non-null  float64\n",
            " 29  29      551472 non-null  float64\n",
            "dtypes: float64(30)\n",
            "memory usage: 126.2 MB\n"
          ],
          "name": "stdout"
        }
      ]
    },
    {
      "cell_type": "markdown",
      "metadata": {
        "id": "xwC65qUWubPb"
      },
      "source": [
        "Since it is required a 4 digits precision, we can use a lighter dtype."
      ]
    },
    {
      "cell_type": "code",
      "metadata": {
        "id": "wva6YstHuVz3"
      },
      "source": [
        "sample_submission = sample_submission.astype(\"float32\")"
      ],
      "execution_count": 30,
      "outputs": []
    },
    {
      "cell_type": "markdown",
      "metadata": {
        "id": "yC26dtyBmBfW"
      },
      "source": [
        "## Save Data"
      ]
    },
    {
      "cell_type": "markdown",
      "metadata": {
        "id": "AN4xa3-MmtyQ"
      },
      "source": [
        "### Google Drive\n",
        "I will store processed data on Google Drive."
      ]
    },
    {
      "cell_type": "code",
      "metadata": {
        "colab": {
          "base_uri": "https://localhost:8080/"
        },
        "id": "gN4kPH-8msvL",
        "outputId": "0429920a-411a-444f-ed9b-5495fa96b0cb"
      },
      "source": [
        "from google.colab import drive\n",
        "\n",
        "drive.mount(\"/gdrive\")\n",
        "base_dir = os.path.join(\"/gdrive\", \"My Drive\", \"Code\", \"meli-data-challenge-2021\")\n",
        "os.chdir(base_dir)\n",
        "os.makedirs(os.path.join(\"data\", \"0-data-wrangling\"), exist_ok=True)\n",
        "os.chdir(os.path.join(base_dir, \"data\", \"0-data-wrangling\"))"
      ],
      "execution_count": 31,
      "outputs": [
        {
          "output_type": "stream",
          "text": [
            "Drive already mounted at /gdrive; to attempt to forcibly remount, call drive.mount(\"/gdrive\", force_remount=True).\n"
          ],
          "name": "stdout"
        }
      ]
    },
    {
      "cell_type": "markdown",
      "metadata": {
        "id": "bkvjFF2tmNIR"
      },
      "source": [
        "### Train Set"
      ]
    },
    {
      "cell_type": "code",
      "metadata": {
        "id": "WEQJBX8KmRKT"
      },
      "source": [
        "train_set.to_parquet(\"train_data.parquet\")\n",
        "train_set.dtypes.apply(lambda x: x.name).to_json(\"train_data_dtypes.json\")"
      ],
      "execution_count": 32,
      "outputs": []
    },
    {
      "cell_type": "markdown",
      "metadata": {
        "id": "efzA94NTpdxF"
      },
      "source": [
        "### Test Set"
      ]
    },
    {
      "cell_type": "code",
      "metadata": {
        "id": "Jx7Xvymbpgc0"
      },
      "source": [
        "test_set.to_csv(\"test_data.csv\", index=False)\n",
        "test_set.dtypes.apply(lambda x: x.name).to_json(\"test_data_dtypes.json\")"
      ],
      "execution_count": 33,
      "outputs": []
    },
    {
      "cell_type": "markdown",
      "metadata": {
        "id": "y37gyGnpp1in"
      },
      "source": [
        "### Items Data"
      ]
    },
    {
      "cell_type": "code",
      "metadata": {
        "id": "bM1ycXYXp4PE"
      },
      "source": [
        "items_data.to_json(\"items_static_metadata_full.jl\", orient=\"records\", lines=True)\n",
        "items_data.dtypes.apply(lambda x: x.name).to_json(\"items_static_metadata_full_dtypes.json\")"
      ],
      "execution_count": 34,
      "outputs": []
    },
    {
      "cell_type": "markdown",
      "metadata": {
        "id": "dbNrzdMZqLiC"
      },
      "source": [
        "### Sample Submission"
      ]
    },
    {
      "cell_type": "code",
      "metadata": {
        "id": "gCqV0CnmqNkc"
      },
      "source": [
        "sample_submission.to_csv(\"sample_submission.csv.gz\", compression=\"gzip\")\n",
        "sample_submission.dtypes.apply(lambda x: x.name).to_json(\"sample_submission_dtypes.json\")"
      ],
      "execution_count": 35,
      "outputs": []
    }
  ]
}